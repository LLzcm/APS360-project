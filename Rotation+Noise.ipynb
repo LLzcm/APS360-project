{
  "nbformat": 4,
  "nbformat_minor": 0,
  "metadata": {
    "colab": {
      "provenance": []
    },
    "kernelspec": {
      "name": "python3",
      "display_name": "Python 3"
    },
    "language_info": {
      "name": "python"
    }
  },
  "cells": [
    {
      "cell_type": "code",
      "source": [
        "import time\n",
        "import os\n",
        "import numpy as np\n",
        "import torch\n",
        "from torch.utils.data import random_split\n",
        "import torchvision\n",
        "from torchvision import datasets, models, transforms\n",
        "import matplotlib.pyplot as plt\n",
        "from google.colab import drive\n",
        "import os\n",
        "import torch.nn as nn\n",
        "drive.mount('/content/gdrive')\n",
        "torch.manual_seed(0)"
      ],
      "metadata": {
        "id": "DRWTkwgxe3De",
        "colab": {
          "base_uri": "https://localhost:8080/"
        },
        "outputId": "dcea5f80-1022-4015-a0dc-be301514c147"
      },
      "execution_count": 1,
      "outputs": [
        {
          "output_type": "stream",
          "name": "stdout",
          "text": [
            "Mounted at /content/gdrive\n"
          ]
        },
        {
          "output_type": "execute_result",
          "data": {
            "text/plain": [
              "<torch._C.Generator at 0x7fc1c6139310>"
            ]
          },
          "metadata": {},
          "execution_count": 1
        }
      ]
    },
    {
      "cell_type": "code",
      "source": [
        "from google.colab import drive\n",
        "drive.mount('/content/gdrive')\n",
        "#import os\n",
        "from torchvision import datasets, models, transforms\n",
        "\n"
      ],
      "metadata": {
        "id": "wM_7CKvme5s3",
        "colab": {
          "base_uri": "https://localhost:8080/"
        },
        "outputId": "a9240e6c-7fe7-468d-9971-d8d98ed46b97"
      },
      "execution_count": 2,
      "outputs": [
        {
          "output_type": "stream",
          "name": "stdout",
          "text": [
            "Drive already mounted at /content/gdrive; to attempt to forcibly remount, call drive.mount(\"/content/gdrive\", force_remount=True).\n"
          ]
        }
      ]
    },
    {
      "cell_type": "code",
      "source": [
        "#!unzip '/content/gdrive/MyDrive/aps360/example.zip' -d '/root/datasets'"
      ],
      "metadata": {
        "colab": {
          "base_uri": "https://localhost:8080/"
        },
        "id": "7_V3Ecr_AHnv",
        "outputId": "fc537eec-6f9f-42b4-a51d-5385a0a46a0b"
      },
      "execution_count": 3,
      "outputs": [
        {
          "output_type": "stream",
          "name": "stdout",
          "text": [
            "Archive:  /content/gdrive/MyDrive/aps360/example.zip\n",
            "  inflating: /root/datasets/example/animal_ex.jpg  \n",
            "  inflating: /root/datasets/example/ex_3.jpg  \n",
            "  inflating: /root/datasets/example/ex4.jpg  \n",
            "  inflating: /root/datasets/example/ex5.jpg  \n",
            "  inflating: /root/datasets/example/example.jpg  \n"
          ]
        }
      ]
    },
    {
      "cell_type": "code",
      "source": [
        "#how to transform portions of the training data. \n",
        "\n",
        "#data_transform = transforms.Compose([transforms.RandomResizedCrop(224),transforms.ToTensor()])\n",
        "#train_set = datasets.ImageFolder(train_dir, transform=data_transform)"
      ],
      "metadata": {
        "id": "r53nldfRfDey"
      },
      "execution_count": null,
      "outputs": []
    },
    {
      "cell_type": "code",
      "source": [
        "classes = ['example']\n",
        "'''gesture_dir = '/root/datasets/Lab3_Gestures_Summer'\n",
        "train_dir = '/root/datasets/splitted/train'\n",
        "val_dir = '/root/datasets/splitted/val'\n",
        "test_dir = '/root/datasets/splitted/test''''"
      ],
      "metadata": {
        "id": "hq3iTErqD9Tp"
      },
      "execution_count": null,
      "outputs": []
    },
    {
      "cell_type": "code",
      "source": [
        "'''import Augmentor\n",
        "\n",
        "\n",
        "p = Augmentor.Pipeline(\"/root/datasets/example\")\n",
        "p.rotate(probability=0.75, max_left_rotation=1, max_right_rotation=15)\n",
        "p.zoom(probability=0.3, min_factor=1.1, max_factor=1.6)\n",
        "\n",
        "p.sample(3)'''"
      ],
      "metadata": {
        "id": "UM38TlqJhkP0"
      },
      "execution_count": null,
      "outputs": []
    },
    {
      "cell_type": "code",
      "source": [
        "class AddGaussianNoise(object):\n",
        "    def __init__(self, mean=0., std=1.):\n",
        "        self.std = std\n",
        "        self.mean = mean\n",
        "        \n",
        "    def __call__(self, tensor):\n",
        "        return tensor + torch.randn(tensor.size()) * self.std + self.mean\n",
        "    \n",
        "    def __repr__(self):\n",
        "        return self.__class__.__name__ + '(mean={0}, std={1})'.format(self.mean, self.std)"
      ],
      "metadata": {
        "id": "Vy--QFyXDa6l"
      },
      "execution_count": 50,
      "outputs": []
    },
    {
      "cell_type": "code",
      "source": [
        "from torchvision.transforms.functional import hflip\n",
        "augmented_train_data = []\n",
        "\n",
        "rotate_90 = transforms.Compose([\n",
        "    transforms.RandomRotation(90),\n",
        "    transforms.ToTensor()])\n",
        "\n",
        "rotate_180 = transforms.Compose([\n",
        "    transforms.RandomRotation(180),\n",
        "    transforms.ToTensor()])\n",
        "\n",
        "rotate_270 = transforms.Compose([\n",
        "    transforms.RandomRotation(270),\n",
        "    transforms.ToTensor()])\n",
        "\n",
        "flipped = transforms.Compose([\n",
        "    transforms.RandomHorizontalFlip(1), \n",
        "    transforms.ToTensor()])\n",
        "noise = transforms.Compose([transforms.ToTensor(),\n",
        "    AddGaussianNoise(0., 1.)\n",
        "    ])"
      ],
      "metadata": {
        "id": "d46senL0slq7"
      },
      "execution_count": 60,
      "outputs": []
    },
    {
      "cell_type": "code",
      "source": [],
      "metadata": {
        "id": "cgPe3MJ0kr9J"
      },
      "execution_count": null,
      "outputs": []
    },
    {
      "cell_type": "code",
      "source": [
        "#1. Split the dataset into 5 groups\n",
        "#or portion dealing with the dataset"
      ],
      "metadata": {
        "id": "WA4YNQaFZWbs"
      },
      "execution_count": null,
      "outputs": []
    },
    {
      "cell_type": "code",
      "source": [
        "import glob\n"
      ],
      "metadata": {
        "id": "fbtahZiVoNxN"
      },
      "execution_count": null,
      "outputs": []
    },
    {
      "cell_type": "code",
      "source": [
        "import os\n",
        "from os.path import join\n",
        "import cv2\n",
        "\n",
        "test = []\n",
        "\n",
        "dir = \"directory of dataset\" #put the directory in here\n",
        "\n",
        "\n",
        "#print original images for checking\n",
        "'''\n",
        "img = []\n",
        "for classes in os.listdir(dir):\n",
        "  imgs_dir = join(dir,classes)\n",
        "  k=0\n",
        "  for imgs in os.listdir(imgs_dir):\n",
        "    img = plt.imread(join(imgs_dir,imgs))\n",
        "    plt.subplot(5,5,k+1)\n",
        "    plt.title(imgs)\n",
        "    plt.axis('off')\n",
        "    plt.imshow(img)\n",
        "    print(img.shape)\n",
        "    k+=1'''"
      ],
      "metadata": {
        "colab": {
          "base_uri": "https://localhost:8080/",
          "height": 174
        },
        "id": "rF13euSo35zB",
        "outputId": "fd8c96ec-0f65-4838-c813-0ecb3cd51321"
      },
      "execution_count": 52,
      "outputs": [
        {
          "output_type": "stream",
          "name": "stdout",
          "text": [
            "(720, 1280, 3)\n",
            "(720, 1280, 3)\n",
            "(720, 1280, 3)\n",
            "(360, 480, 3)\n",
            "(720, 1280, 3)\n"
          ]
        },
        {
          "output_type": "display_data",
          "data": {
            "text/plain": [
              "<Figure size 432x288 with 5 Axes>"
            ],
            "image/png": "[encoded data removed]"
          },
          "metadata": {
            "needs_background": "light"
          }
        }
      ]
    },
    {
      "cell_type": "code",
      "source": [
        "#check cut function\n",
        "'''import math\n",
        "a=(math.floor(5/3))\n",
        "for i in range(1,5):\n",
        "  print(i*a)'''"
      ],
      "metadata": {
        "colab": {
          "base_uri": "https://localhost:8080/"
        },
        "id": "DXd_vcx37Nc5",
        "outputId": "b5498e28-5e91-41dc-fdcd-a85fbe28b88c"
      },
      "execution_count": 18,
      "outputs": [
        {
          "output_type": "stream",
          "name": "stdout",
          "text": [
            "1\n",
            "2\n",
            "3\n",
            "4\n"
          ]
        }
      ]
    },
    {
      "cell_type": "code",
      "source": [
        "# load the images as 1d array\n",
        "import os\n",
        "from os.path import join\n",
        "from PIL import Image\n",
        "import math\n",
        "\n",
        "# from wand.image import Image\n",
        "\n",
        "conversion=transforms.ToTensor\n",
        "\n",
        "augmented_train_label=[]\n",
        "\n",
        "train_dir=path\n",
        "train_img = []\n",
        "train_labels = []\n",
        "for class_name in os.listdir(train_dir): # loop through each directory\n",
        "  img_dir = join(train_dir,class_name)\n",
        "  for img_name in os.listdir(img_dir):\n",
        "    img_path = join(img_dir, img_name)\n",
        "    train_img.append(Image.open(img_path))\n",
        "    train_labels.append(class_name)\n",
        "#print(train_img)\n",
        "\n",
        "cut = math.floor(len(train_img)/5)\n",
        "for i in range(0,cut*1):\n",
        "  augmented_train_label.append(rotate_90(train_img[i]))\n",
        "for i in range(cut*1,cut*2):\n",
        "  augmented_train_label.append(rotate_180(train_img[i]))\n",
        "for i in range(cut*2,cut*3):\n",
        "  augmented_train_label.append(rotate_270(train_img[i]))\n",
        "for i in range(cut*3,cut*4):\n",
        "  augmented_train_label.append(flipped(train_img[i]))\n",
        "for i in range(cut*4,len(train_img)):\n",
        "  augmented_train_label.append(noise(train_img[i]))\n",
        "\n",
        "# augmented_train_label: tensor array\n",
        "# augmented data stored in augmented_train_label[]\n",
        "# the labels/cateories for the augmented images (now stored as tensors), stored in train_labels[]"
      ],
      "metadata": {
        "colab": {
          "base_uri": "https://localhost:8080/"
        },
        "id": "GLEIHXrdqAky",
        "outputId": "eae7ac28-808e-4343-b381-75a8cedbffe8"
      },
      "execution_count": 57,
      "outputs": [
        {
          "output_type": "stream",
          "name": "stdout",
          "text": [
            "[<PIL.JpegImagePlugin.JpegImageFile image mode=RGB size=1280x720 at 0x7FC1AB7203D0>, <PIL.JpegImagePlugin.JpegImageFile image mode=RGB size=1280x720 at 0x7FC1AB736F90>, <PIL.JpegImagePlugin.JpegImageFile image mode=RGB size=1280x720 at 0x7FC1AB60CAD0>, <PIL.JpegImagePlugin.JpegImageFile image mode=RGB size=480x360 at 0x7FC1AB60C550>, <PIL.JpegImagePlugin.JpegImageFile image mode=RGB size=1280x720 at 0x7FC1AB60C9D0>]\n"
          ]
        }
      ]
    },
    {
      "cell_type": "code",
      "source": [
        "\n",
        "\n",
        "#print checking if data had been augmented\n",
        "for foo in augmented_train_label:\n",
        "    ig = np.transpose(foo,(1,2,0))\n",
        "    plt.subplot(5,5,k+1)\n",
        "    plt.axis('off')\n",
        "    plt.imshow(ig)\n",
        "    k+=1"
      ],
      "metadata": {
        "colab": {
          "base_uri": "https://localhost:8080/",
          "height": 86
        },
        "id": "Rgu4YU39_j5t",
        "outputId": "6318900f-03af-4ed2-aaf9-ba011602aaf2"
      },
      "execution_count": 58,
      "outputs": [
        {
          "output_type": "stream",
          "name": "stderr",
          "text": [
            "WARNING:matplotlib.image:Clipping input data to the valid range for imshow with RGB data ([0..1] for floats or [0..255] for integers).\n"
          ]
        },
        {
          "output_type": "display_data",
          "data": {
            "text/plain": [
              "<Figure size 432x288 with 5 Axes>"
            ],
            "image/png": "[encoded data removed]"
          },
          "metadata": {
            "needs_background": "light"
          }
        }
      ]
    },
    {
      "cell_type": "code",
      "source": [
        "'''import itertools\n",
        "\n",
        "\n",
        "train_dir='/root/datasets/example'\n",
        "train_img = []\n",
        "train_labels = []\n",
        "for img_name in os.listdir(train_dir): # loop through each directory\n",
        "  img_dir = os.path.join(train_dir, img_name)\n",
        "  #print(img_name)\n",
        "  img_orig=plt.imread(img_dir)\n",
        "  image_orig = image_orig.tolist()\n",
        "  pixel_list = list(itertools.chain.from_iterable(image_orig))\n",
        "\n",
        "  train_img.append(pixel_list)\n",
        "\n",
        "for i in range(5):\n",
        "  if i==0:\n",
        "    \n",
        "\n",
        "  if (img_name==0):\n",
        "      data_90=datasets.ImageFolder(img_path, transform=rotate_90)\n",
        "      augmented_train_data.append(data_90)\n",
        "      augmented_train_label.append(img_name)\n",
        "  elif (img_name==1):\n",
        "      data_180=datasets.ImageFolder(img_path, transform=rotate_180)\n",
        "      augmented_train_data.append(data_180)\n",
        "      augmented_train_label.append(img_name)\n",
        "\n",
        "  elif (img_name==2):\n",
        "      data_270=datasets.ImageFolder(img_path,transform=rotate_270)\n",
        "      augmented_train_data.append(data_270)\n",
        "      augmented_train_label.append(img_name)\n",
        "\n",
        "  elif (img_name==3):\n",
        "      data_flipped=datasets.ImageFolder(img_path,transform=flipped)\n",
        "      augmented_train_data.append(data_flipped)\n",
        "      augmented_train_label.append(img_name)\n",
        "\n",
        "  elif (img_name==4):\n",
        "      noisy=plt.imread(img_path).noise(\"poisson\", attenuate=0.9)\n",
        "      augmented_train_data.append(conversion(noisy))\n",
        "      augmented_train_label.append(img_name)\n",
        "\n",
        "#print(augmented_train_data)\n",
        "#print(augmented_train_label)'''"
      ],
      "metadata": {
        "colab": {
          "base_uri": "https://localhost:8080/",
          "height": 137
        },
        "id": "QJKxVEGnAphE",
        "outputId": "459f0ea8-f491-405f-8cd3-a85ee5f54261"
      },
      "execution_count": null,
      "outputs": [
        {
          "output_type": "error",
          "ename": "IndentationError",
          "evalue": "ignored",
          "traceback": [
            "\u001b[0;36m  File \u001b[0;32m\"<ipython-input-82-2f55075dbd6b>\"\u001b[0;36m, line \u001b[0;32m7\u001b[0m\n\u001b[0;31m    img_orig=plt.imread(img_dir)\u001b[0m\n\u001b[0m    ^\u001b[0m\n\u001b[0;31mIndentationError\u001b[0m\u001b[0;31m:\u001b[0m unexpected indent\n"
          ]
        }
      ]
    }
  ]
}