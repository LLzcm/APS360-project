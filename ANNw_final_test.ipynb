{
  "nbformat": 4,
  "nbformat_minor": 0,
  "metadata": {
    "colab": {
      "provenance": [],
      "collapsed_sections": [],
      "authorship_tag": "ABX9TyMVwksxqtNYf6qgo1exvtZ2",
      "include_colab_link": true
    },
    "kernelspec": {
      "name": "python3",
      "display_name": "Python 3"
    },
    "language_info": {
      "name": "python"
    },
    "accelerator": "GPU",
    "gpuClass": "standard"
  },
  "cells": [
    {
      "cell_type": "markdown",
      "metadata": {
        "id": "view-in-github",
        "colab_type": "text"
      },
      "source": [
        "<a href=\"https://colab.research.google.com/github/zMo0/APS360-project/blob/main/ANNw_final_test.ipynb\" target=\"_parent\"><img src=\"https://colab.research.google.com/assets/colab-badge.svg\" alt=\"Open In Colab\"/></a>"
      ]
    },
    {
      "cell_type": "code",
      "execution_count": 1,
      "metadata": {
        "colab": {
          "base_uri": "https://localhost:8080/"
        },
        "id": "0wK_OlQiNSwS",
        "outputId": "5f0eb142-1303-4b54-c4a3-70ecf9ece32b"
      },
      "outputs": [
        {
          "output_type": "stream",
          "name": "stdout",
          "text": [
            "Mounted at /content/drive\n"
          ]
        }
      ],
      "source": [
        "from google.colab import drive\n",
        "drive.mount('/content/drive', force_remount=True)"
      ]
    },
    {
      "cell_type": "code",
      "source": [
        "import numpy as np\n",
        "import time\n",
        "import torch\n",
        "import torch.nn as nn\n",
        "import torch.nn.functional as F\n",
        "import torch.optim as optim\n",
        "import torchvision\n",
        "from torch.utils.data.sampler import SubsetRandomSampler\n",
        "import torchvision.transforms as transforms"
      ],
      "metadata": {
        "id": "gN17iDEcNbet"
      },
      "execution_count": 2,
      "outputs": []
    },
    {
      "cell_type": "code",
      "source": [
        "transform = transforms.Compose([transforms.ToTensor(),\n",
        "                                transforms.Resize((320, 180)),\n",
        "                                transforms.Grayscale(),\n",
        "                                transforms.Normalize((0.5),(0.5))])\n",
        "\n",
        "dataset = torchvision.datasets.ImageFolder('/content/drive/MyDrive/maxres_thumbnails/train',\n",
        "                                           transform = transform)\n",
        "valset = torchvision.datasets.ImageFolder('/content/drive/MyDrive/maxres_thumbnails/val',\n",
        "                                           transform = transform)"
      ],
      "metadata": {
        "id": "dpxAwnCVS0O_"
      },
      "execution_count": 18,
      "outputs": []
    },
    {
      "cell_type": "code",
      "source": [
        "print(len(dataset))\n",
        "for img, label in iter(dataset):\n",
        "  print(label)\n",
        "  print(img.size())\n",
        "  break\n"
      ],
      "metadata": {
        "colab": {
          "base_uri": "https://localhost:8080/"
        },
        "id": "-VDxtP6yd5Nk",
        "outputId": "c7ab24ef-6fb3-4116-d8c1-8f15a5cac7ed"
      },
      "execution_count": 19,
      "outputs": [
        {
          "output_type": "stream",
          "name": "stdout",
          "text": [
            "8335\n",
            "0\n",
            "torch.Size([1, 320, 180])\n"
          ]
        }
      ]
    },
    {
      "cell_type": "code",
      "source": [
        "print(len(valset))\n",
        "for img, label in iter(dataset):\n",
        "  print(label)\n",
        "  print(img.size())\n",
        "  break\n"
      ],
      "metadata": {
        "colab": {
          "base_uri": "https://localhost:8080/"
        },
        "id": "5P9Px8UFpNa-",
        "outputId": "e8bacb64-3720-4d63-aacd-3818a7ed8b03"
      },
      "execution_count": 5,
      "outputs": [
        {
          "output_type": "stream",
          "name": "stdout",
          "text": [
            "984\n",
            "0\n",
            "torch.Size([1, 360, 180])\n"
          ]
        }
      ]
    },
    {
      "cell_type": "code",
      "source": [
        "import matplotlib.pyplot as plt"
      ],
      "metadata": {
        "id": "-yc3IgQV5f8q"
      },
      "execution_count": 6,
      "outputs": []
    },
    {
      "cell_type": "code",
      "source": [
        "class ANN(nn.Module):\n",
        "    def __init__(self):\n",
        "        super(ANN, self).__init__()\n",
        "        self.name = 'ANN'\n",
        "        self.l1 = nn.Linear(180*320, 200)\n",
        "        self.l2 = nn.Linear(200, 4)\n",
        "\n",
        "    def forward(self, x):\n",
        "        flattened = x.view(-1, 180*320)\n",
        "        x = F.relu(self.l1(flattened))\n",
        "        x = self.l2(x)\n",
        "\n",
        "        return x"
      ],
      "metadata": {
        "id": "FEdj8WQJTQJb"
      },
      "execution_count": 21,
      "outputs": []
    },
    {
      "cell_type": "code",
      "source": [
        "use_cuda = True # I ran out of free GPU usage\n",
        "device = torch.device('cuda' if torch.cuda.is_available() else 'cpu')\n",
        "device\n"
      ],
      "metadata": {
        "colab": {
          "base_uri": "https://localhost:8080/"
        },
        "id": "20Ims2uPTSrZ",
        "outputId": "5dbd8662-32e7-4ece-f783-f81ad5880b79"
      },
      "execution_count": 8,
      "outputs": [
        {
          "output_type": "execute_result",
          "data": {
            "text/plain": [
              "device(type='cuda')"
            ]
          },
          "metadata": {},
          "execution_count": 8
        }
      ]
    },
    {
      "cell_type": "code",
      "source": [
        "import matplotlib.pyplot as plt # for plotting"
      ],
      "metadata": {
        "id": "S7HwA17hWOSP"
      },
      "execution_count": 9,
      "outputs": []
    },
    {
      "cell_type": "code",
      "source": [
        "def training(model, data, val_data, batch_size = 64, epochs = 10, lr = 0.001, momentum = 0.9):\n",
        "  #split into batches\n",
        "  train = torch.utils.data.DataLoader(data, batch_size=batch_size, shuffle = True)\n",
        "  val = torch.utils.data.DataLoader(val_data, batch_size=batch_size, shuffle = True)\n",
        "\n",
        "  #loss function\n",
        "  criterion = nn.CrossEntropyLoss()\n",
        "  optimizer = torch.optim.SGD(model.parameters(), lr = lr, momentum = momentum)\n",
        "\n",
        "  #store stats\n",
        "  iters, losses, train_acc, val_acc = [], [], [], []\n",
        "\n",
        "  #train for specified number of epochs\n",
        "  for epoch in range(epochs):\n",
        "    #print ('epoch number', epoch)\n",
        "    n = 0\n",
        "    # train each batch\\\\\n",
        "    for i, data in enumerate(train,0):\n",
        "      imgs, label = data\n",
        "      #############################################\n",
        "      #To Enable GPU Usage\n",
        "      if use_cuda and torch.cuda.is_available():\n",
        "          imgs = imgs.cuda()\n",
        "          label = label.cuda()\n",
        "      #############################################     \n",
        "\n",
        "      #print ('batch number', n)\n",
        "      #forward pass\n",
        "      #print(imgs.size())\n",
        "      #print(label.size())\n",
        "      out = model(imgs)\n",
        "      loss = criterion(out, label)\n",
        "      loss.backward()\n",
        "      optimizer.step()\n",
        "      optimizer.zero_grad()\n",
        "      n+=1\n",
        "\n",
        "    # save the current training information\n",
        "    iters.append(epoch)\n",
        "    losses.append(float(loss)/batch_size)                         # compute *average* loss\n",
        "    train_acc.append(get_accuracy(model, train, val, train=True)) # compute training accuracy\n",
        "    val_acc.append(get_accuracy(model, train, val, train=False))  # compute validation accuracy\n",
        "    model_path = \"model_{0}_bs{1}_lr{2}_epoch{3}\".format(model.name, batch_size, lr, epoch)\n",
        "    torch.save(model.state_dict(), model_path)\n",
        "   \n",
        "    \n",
        "  # plotting\n",
        "  plt.title(\"Training Curve\")\n",
        "  plt.plot(iters, losses, label=\"Train\")\n",
        "  plt.xlabel(\"Iterations\")\n",
        "  plt.ylabel(\"Loss\")\n",
        "  plt.show()\n",
        "\n",
        "  plt.title(\"Training Curve\")\n",
        "  plt.plot(iters, train_acc, label=\"Train\")\n",
        "  plt.plot(iters, val_acc, label=\"Validation\")\n",
        "  plt.xlabel(\"Iterations\")\n",
        "  plt.ylabel(\"Training Accuracy\")\n",
        "  plt.legend(loc='best')\n",
        "  plt.show()\n",
        "\n",
        "  print(\"Final Training Accuracy: {}\".format(train_acc[-1]))\n",
        "  print(\"Final Validation Accuracy: {}\".format(val_acc[-1]))\n"
      ],
      "metadata": {
        "id": "deKUNZ7VTUAC"
      },
      "execution_count": 10,
      "outputs": []
    },
    {
      "cell_type": "code",
      "source": [
        "def get_accuracy(model, train_loader, valid_loader, train=False):\n",
        "    if train:\n",
        "        data = train_loader\n",
        "    else:\n",
        "        data = valid_loader\n",
        "   \n",
        "\n",
        "    correct = 0\n",
        "    total = 0\n",
        "    for imgs, labels in data:\n",
        "      #############################################\n",
        "      #To Enable GPU Usage\n",
        "      if use_cuda and torch.cuda.is_available():\n",
        "        imgs = imgs.cuda()\n",
        "        labels = labels.cuda()\n",
        "      #############################################   \n",
        "      output = model(imgs)\n",
        "        \n",
        "      #select index with maximum prediction score\n",
        "      pred = output.max(1, keepdim=True)[1]\n",
        "      correct += pred.eq(labels.view_as(pred)).sum().item()\n",
        "        \n",
        "      total += imgs.shape[0]\n",
        "        \n",
        "    return correct / total"
      ],
      "metadata": {
        "id": "bctAXjiSTMTU"
      },
      "execution_count": 11,
      "outputs": []
    },
    {
      "cell_type": "code",
      "source": [
        "# try the training function\n",
        "model = ANN()\n",
        "model = model.cuda()\n",
        "training(model, dataset, valset, batch_size = 100, epochs = 15, lr = 0.001, momentum = 0.9)"
      ],
      "metadata": {
        "id": "-tTpQ-wgTWQA"
      },
      "execution_count": null,
      "outputs": []
    }
  ]
}