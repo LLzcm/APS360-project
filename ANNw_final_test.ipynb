{
  "cells": [
    {
      "cell_type": "markdown",
      "metadata": {
        "id": "view-in-github",
        "colab_type": "text"
      },
      "source": [
        "<a href=\"https://colab.research.google.com/github/zMo0/APS360-project/blob/main/ANNw_final_test.ipynb\" target=\"_parent\"><img src=\"https://colab.research.google.com/assets/colab-badge.svg\" alt=\"Open In Colab\"/></a>"
      ]
    },
    {
      "cell_type": "code",
      "execution_count": 2,
      "metadata": {
        "colab": {
          "base_uri": "https://localhost:8080/"
        },
        "id": "0wK_OlQiNSwS",
        "outputId": "a4b6c435-2630-475d-83f6-a66e185bffb0"
      },
      "outputs": [
        {
          "output_type": "stream",
          "name": "stdout",
          "text": [
            "Mounted at /content/drive\n"
          ]
        }
      ],
      "source": [
        "from google.colab import drive\n",
        "drive.mount('/content/drive', force_remount=True)"
      ]
    },
    {
      "cell_type": "code",
      "execution_count": 3,
      "metadata": {
        "id": "gN17iDEcNbet"
      },
      "outputs": [],
      "source": [
        "import numpy as np\n",
        "import time\n",
        "import torch\n",
        "import torch.nn as nn\n",
        "import torch.nn.functional as F\n",
        "import torch.optim as optim\n",
        "import torchvision\n",
        "from torch.utils.data.sampler import SubsetRandomSampler\n",
        "import torchvision.transforms as transforms"
      ]
    },
    {
      "cell_type": "code",
      "execution_count": 6,
      "metadata": {
        "id": "dpxAwnCVS0O_"
      },
      "outputs": [],
      "source": [
        "transform = transforms.Compose([transforms.ToTensor(),\n",
        "                                transforms.Resize((180, 320)),\n",
        "                                transforms.Grayscale(),\n",
        "                                transforms.Normalize((0.5),(0.5))])\n",
        "\n",
        "dataset = torchvision.datasets.ImageFolder('/content/drive/MyDrive/final_dataset/train',\n",
        "                                           transform = transform)\n",
        "valset = torchvision.datasets.ImageFolder('/content/drive/MyDrive/final_dataset/val',\n",
        "                                           transform = transform)\n",
        "testset = torchvision.datasets.ImageFolder('/content/drive/MyDrive/final_dataset/test',\n",
        "                                           transform = transform)"
      ]
    },
    {
      "cell_type": "code",
      "execution_count": 7,
      "metadata": {
        "colab": {
          "base_uri": "https://localhost:8080/"
        },
        "id": "-VDxtP6yd5Nk",
        "outputId": "31c280e3-b94a-4db7-db2f-ae3145fe5cac"
      },
      "outputs": [
        {
          "output_type": "stream",
          "name": "stdout",
          "text": [
            "6000\n",
            "0\n",
            "torch.Size([1, 180, 320])\n"
          ]
        }
      ],
      "source": [
        "print(len(dataset))\n",
        "for img, label in iter(dataset):\n",
        "  print(label)\n",
        "  print(img.size())\n",
        "  break\n"
      ]
    },
    {
      "cell_type": "code",
      "execution_count": 16,
      "metadata": {
        "colab": {
          "base_uri": "https://localhost:8080/"
        },
        "id": "5P9Px8UFpNa-",
        "outputId": "26f0c7f4-bcee-4181-f2b2-5a535bab5fad"
      },
      "outputs": [
        {
          "output_type": "stream",
          "name": "stdout",
          "text": [
            "1500\n"
          ]
        }
      ],
      "source": [
        "print(len(valset))"
      ]
    },
    {
      "cell_type": "code",
      "source": [
        "print(len(testset))"
      ],
      "metadata": {
        "colab": {
          "base_uri": "https://localhost:8080/"
        },
        "id": "6jPWHRgCYKW3",
        "outputId": "e5644b83-e2e1-44f5-cb04-3773adb95cd0"
      },
      "execution_count": 17,
      "outputs": [
        {
          "output_type": "stream",
          "name": "stdout",
          "text": [
            "1500\n"
          ]
        }
      ]
    },
    {
      "cell_type": "code",
      "execution_count": 10,
      "metadata": {
        "id": "-yc3IgQV5f8q"
      },
      "outputs": [],
      "source": [
        "import matplotlib.pyplot as plt"
      ]
    },
    {
      "cell_type": "code",
      "execution_count": 11,
      "metadata": {
        "id": "FEdj8WQJTQJb"
      },
      "outputs": [],
      "source": [
        "class ANN(nn.Module):\n",
        "    def __init__(self):\n",
        "        super(ANN, self).__init__()\n",
        "        self.name = 'ANN'\n",
        "        self.l1 = nn.Linear(180*320, 200)\n",
        "        self.l2 = nn.Linear(200, 5)\n",
        "\n",
        "    def forward(self, x):\n",
        "        flattened = x.view(-1, 180*320)\n",
        "        x = F.relu(self.l1(flattened))\n",
        "        x = self.l2(x)\n",
        "\n",
        "        return x"
      ]
    },
    {
      "cell_type": "code",
      "execution_count": 12,
      "metadata": {
        "colab": {
          "base_uri": "https://localhost:8080/"
        },
        "id": "20Ims2uPTSrZ",
        "outputId": "30e7d77b-28f4-4d82-fbbd-01dfa27f3a33"
      },
      "outputs": [
        {
          "output_type": "execute_result",
          "data": {
            "text/plain": [
              "device(type='cuda')"
            ]
          },
          "metadata": {},
          "execution_count": 12
        }
      ],
      "source": [
        "use_cuda = False \n",
        "device = torch.device('cuda' if torch.cuda.is_available() else 'cpu')\n",
        "device\n"
      ]
    },
    {
      "cell_type": "code",
      "execution_count": 13,
      "metadata": {
        "id": "deKUNZ7VTUAC"
      },
      "outputs": [],
      "source": [
        "def training(model, data, val_data, batch_size = 64, epochs = 10, lr = 0.001, momentum = 0.9):\n",
        "  #split into batches\n",
        "  train = torch.utils.data.DataLoader(data, batch_size=batch_size, shuffle = True)\n",
        "  val = torch.utils.data.DataLoader(val_data, batch_size=batch_size, shuffle = True)\n",
        "\n",
        "  #loss function\n",
        "  criterion = nn.CrossEntropyLoss()\n",
        "  optimizer = torch.optim.SGD(model.parameters(), lr = lr, momentum = momentum)\n",
        "\n",
        "  #store stats\n",
        "  iters, losses, train_acc, val_acc = [], [], [], []\n",
        "\n",
        "  #train for specified number of epochs\n",
        "  for epoch in range(epochs):\n",
        "    #print ('epoch number', epoch)\n",
        "    n = 0\n",
        "    # train each batch\\\\\n",
        "    for i, data in enumerate(train,0):\n",
        "      imgs, label = data\n",
        "      #############################################\n",
        "      #To Enable GPU Usage\n",
        "      if use_cuda and torch.cuda.is_available():\n",
        "          imgs = imgs.cuda()\n",
        "          label = label.cuda()\n",
        "      #############################################     \n",
        "\n",
        "      #print ('batch number', n)\n",
        "      #forward pass\n",
        "      #print(imgs.size())\n",
        "      #print(label.size())\n",
        "      out = model(imgs)\n",
        "      loss = criterion(out, label)\n",
        "      loss.backward()\n",
        "      optimizer.step()\n",
        "      optimizer.zero_grad()\n",
        "      n+=1\n",
        "\n",
        "    # save the current training information\n",
        "    iters.append(epoch)\n",
        "    losses.append(float(loss)/batch_size)                         # compute *average* loss\n",
        "    train_acc.append(get_accuracy(model, train, val, train=True)) # compute training accuracy\n",
        "    val_acc.append(get_accuracy(model, train, val, train=False))  # compute validation accuracy\n",
        "    model_path = \"model_{0}_bs{1}_lr{2}_epoch{3}\".format(model.name, batch_size, lr, epoch)\n",
        "    torch.save(model.state_dict(), model_path)\n",
        "   \n",
        "    \n",
        "  # plotting\n",
        "  plt.title(\"Training Curve\")\n",
        "  plt.plot(iters, losses, label=\"Train\")\n",
        "  plt.xlabel(\"Iterations\")\n",
        "  plt.ylabel(\"Loss\")\n",
        "  plt.show()\n",
        "\n",
        "  plt.title(\"Training Curve\")\n",
        "  plt.plot(iters, train_acc, label=\"Train\")\n",
        "  plt.plot(iters, val_acc, label=\"Validation\")\n",
        "  plt.xlabel(\"Iterations\")\n",
        "  plt.ylabel(\"Training Accuracy\")\n",
        "  plt.legend(loc='best')\n",
        "  plt.show()\n",
        "\n",
        "  print(\"Final Training Accuracy: {}\".format(train_acc[-1]))\n",
        "  print(\"Final Validation Accuracy: {}\".format(val_acc[-1]))\n"
      ]
    },
    {
      "cell_type": "code",
      "execution_count": 14,
      "metadata": {
        "id": "bctAXjiSTMTU"
      },
      "outputs": [],
      "source": [
        "def get_accuracy(model, train_loader, valid_loader, train=False):\n",
        "    if train:\n",
        "        data = train_loader\n",
        "    else:\n",
        "        data = valid_loader\n",
        "   \n",
        "\n",
        "    correct = 0\n",
        "    total = 0\n",
        "    for imgs, labels in data:\n",
        "      #############################################\n",
        "      #To Enable GPU Usage\n",
        "      if use_cuda and torch.cuda.is_available():\n",
        "        imgs = imgs.cuda()\n",
        "        labels = labels.cuda()\n",
        "      #############################################   \n",
        "      output = model(imgs)\n",
        "        \n",
        "      #select index with maximum prediction score\n",
        "      pred = output.max(1, keepdim=True)[1]\n",
        "      correct += pred.eq(labels.view_as(pred)).sum().item()\n",
        "        \n",
        "      total += imgs.shape[0]\n",
        "        \n",
        "    return correct / total"
      ]
    },
    {
      "cell_type": "code",
      "execution_count": 15,
      "metadata": {
        "colab": {
          "base_uri": "https://localhost:8080/",
          "height": 609
        },
        "id": "-tTpQ-wgTWQA",
        "outputId": "8d428c0a-a6a3-4cc5-d581-eae2f725b6ab"
      },
      "outputs": [
        {
          "output_type": "display_data",
          "data": {
            "text/plain": [
              "<Figure size 432x288 with 1 Axes>"
            ],
            "image/png": "[encoded data removed]"
          },
          "metadata": {
            "needs_background": "light"
          }
        },
        {
          "output_type": "display_data",
          "data": {
            "text/plain": [
              "<Figure size 432x288 with 1 Axes>"
            ],
            "image/png": "[encoded data removed]"
          },
          "metadata": {
            "needs_background": "light"
          }
        },
        {
          "output_type": "stream",
          "name": "stdout",
          "text": [
            "Final Training Accuracy: 0.9628333333333333\n",
            "Final Validation Accuracy: 0.576\n"
          ]
        }
      ],
      "source": [
        "# try the training function\n",
        "model = ANN()\n",
        "training(model, dataset, valset, batch_size = 100, epochs = 15, lr = 0.001, momentum = 0.9)"
      ]
    },
    {
      "cell_type": "code",
      "source": [
        "testloader = torch.utils.data.DataLoader(testset, batch_size=1, shuffle = True)\n",
        "print(\"Test accuracy is: \", get_accuracy(model, testloader, testloader, train=False))"
      ],
      "metadata": {
        "colab": {
          "base_uri": "https://localhost:8080/"
        },
        "id": "pqekz1MLYV8F",
        "outputId": "8454ea0c-8778-4dae-cb90-5316c39c89f5"
      },
      "execution_count": 22,
      "outputs": [
        {
          "output_type": "stream",
          "name": "stdout",
          "text": [
            "Test accuracy is:  0.3333333333333333\n"
          ]
        }
      ]
    }
  ],
  "metadata": {
    "accelerator": "GPU",
    "colab": {
      "provenance": [],
      "authorship_tag": "ABX9TyNTJ10+cL4GSl2lQR/Epmm2",
      "include_colab_link": true
    },
    "gpuClass": "standard",
    "kernelspec": {
      "display_name": "Python 3",
      "name": "python3"
    },
    "language_info": {
      "name": "python"
    }
  },
  "nbformat": 4,
  "nbformat_minor": 0
}