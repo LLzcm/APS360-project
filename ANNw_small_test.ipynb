{
  "nbformat": 4,
  "nbformat_minor": 0,
  "metadata": {
    "colab": {
      "provenance": [],
      "collapsed_sections": [],
      "authorship_tag": "ABX9TyPPpk6425p1/MDE8Ivw0/6f",
      "include_colab_link": true
    },
    "kernelspec": {
      "name": "python3",
      "display_name": "Python 3"
    },
    "language_info": {
      "name": "python"
    }
  },
  "cells": [
    {
      "cell_type": "markdown",
      "metadata": {
        "id": "view-in-github",
        "colab_type": "text"
      },
      "source": [
        "<a href=\"https://colab.research.google.com/github/zMo0/APS360-project/blob/main/ANNw_small_test.ipynb\" target=\"_parent\"><img src=\"https://colab.research.google.com/assets/colab-badge.svg\" alt=\"Open In Colab\"/></a>"
      ]
    },
    {
      "cell_type": "code",
      "execution_count": null,
      "metadata": {
        "colab": {
          "base_uri": "https://localhost:8080/"
        },
        "id": "0wK_OlQiNSwS",
        "outputId": "3ee2bc83-6e39-4caf-c990-4854081efc17"
      },
      "outputs": [
        {
          "output_type": "stream",
          "name": "stdout",
          "text": [
            "Mounted at /content/drive\n"
          ]
        }
      ],
      "source": [
        "from google.colab import drive\n",
        "drive.mount('/content/drive', force_remount=True)"
      ]
    },
    {
      "cell_type": "code",
      "source": [
        "import numpy as np\n",
        "import time\n",
        "import torch\n",
        "import torch.nn as nn\n",
        "import torch.nn.functional as F\n",
        "import torch.optim as optim\n",
        "import torchvision\n",
        "from torch.utils.data.sampler import SubsetRandomSampler\n",
        "import torchvision.transforms as transforms"
      ],
      "metadata": {
        "id": "gN17iDEcNbet"
      },
      "execution_count": null,
      "outputs": []
    },
    {
      "cell_type": "code",
      "source": [
        "transform = transforms.Compose([transforms.ToTensor(),\n",
        "                                transforms.Resize((180, 320)),\n",
        "                                transforms.Grayscale(),\n",
        "                                transforms.Normalize((0.5),(0.5))])\n",
        "\n",
        "dataset = torchvision.datasets.ImageFolder('/content/drive/MyDrive/small_test',\n",
        "                                           transform = transform)"
      ],
      "metadata": {
        "id": "dpxAwnCVS0O_"
      },
      "execution_count": null,
      "outputs": []
    },
    {
      "cell_type": "code",
      "source": [
        "print(len(dataset))\n",
        "for img, label in iter(dataset):\n",
        "  print(label)\n",
        "  print(img.size())\n",
        "  break\n"
      ],
      "metadata": {
        "colab": {
          "base_uri": "https://localhost:8080/"
        },
        "id": "-VDxtP6yd5Nk",
        "outputId": "32f2f3fb-8d81-46a1-a8b7-49cdcb15cc0b"
      },
      "execution_count": null,
      "outputs": [
        {
          "output_type": "stream",
          "name": "stdout",
          "text": [
            "580\n",
            "0\n",
            "torch.Size([1, 360, 480])\n"
          ]
        }
      ]
    },
    {
      "cell_type": "code",
      "source": [
        "k = 0\n",
        "for img, label in iter(dataset):\n",
        "  \n",
        "  #correct image\n",
        "  plt.subplot(3, 5, k+1)\n",
        "  plt.axis('off')\n",
        "  img = img.squeeze()\n",
        "  img = img / 2 + 0.5\n",
        "  plt.imshow(img)\n",
        "  k +=1\n",
        "  if k>14:\n",
        "    break"
      ],
      "metadata": {
        "id": "6cXgx4xVal2F"
      },
      "execution_count": null,
      "outputs": []
    },
    {
      "cell_type": "code",
      "source": [
        "def data_splitter():\n",
        "  #split training, validation, and testing data to 85:10:5 ratio\n",
        "  split1 = int(len(dataset)*0.85)\n",
        "  split2 = int(len(dataset)*0.1)\n",
        "  split3 = len(dataset) - split1 - split2\n",
        "  train, val, test = torch.utils.data.random_split(dataset, [split1, split2, split3])\n",
        "\n",
        "  return train, val, test\n",
        "\n",
        "train, val, test = data_splitter()\n"
      ],
      "metadata": {
        "id": "qEYxMi5QTHvN"
      },
      "execution_count": null,
      "outputs": []
    },
    {
      "cell_type": "code",
      "source": [
        "class ANN(nn.Module):\n",
        "    def __init__(self):\n",
        "        super(ANN, self).__init__()\n",
        "        self.name = 'ANN'\n",
        "        self.l1 = nn.Linear(180*320, 200)\n",
        "        self.l2 = nn.Linear(200, 6)\n",
        "\n",
        "    def forward(self, x):\n",
        "        flattened = x.view(-1, 180*240)\n",
        "        x = F.relu(self.l1(flattened))\n",
        "        x = self.l2(x)\n",
        "\n",
        "        return x"
      ],
      "metadata": {
        "id": "FEdj8WQJTQJb"
      },
      "execution_count": null,
      "outputs": []
    },
    {
      "cell_type": "code",
      "source": [
        "use_cuda = False# I ran out of free GPU usage\n",
        "device = torch.device('cuda' if torch.cuda.is_available() else 'cpu')\n",
        "device\n"
      ],
      "metadata": {
        "colab": {
          "base_uri": "https://localhost:8080/"
        },
        "id": "20Ims2uPTSrZ",
        "outputId": "a1081fa3-00f9-491d-fa59-79124e186055"
      },
      "execution_count": null,
      "outputs": [
        {
          "output_type": "execute_result",
          "data": {
            "text/plain": [
              "device(type='cpu')"
            ]
          },
          "metadata": {},
          "execution_count": 10
        }
      ]
    },
    {
      "cell_type": "code",
      "source": [
        "import matplotlib.pyplot as plt # for plotting"
      ],
      "metadata": {
        "id": "S7HwA17hWOSP"
      },
      "execution_count": null,
      "outputs": []
    },
    {
      "cell_type": "code",
      "source": [
        "def training(model, data, val_data, batch_size = 64, epochs = 10, lr = 0.001, momentum = 0.9):\n",
        "  #split into batches\n",
        "  train = torch.utils.data.DataLoader(data, batch_size=batch_size, shuffle = True)\n",
        "  val = torch.utils.data.DataLoader(val_data, batch_size=batch_size, shuffle = True)\n",
        "\n",
        "  #loss function\n",
        "  criterion = nn.CrossEntropyLoss()\n",
        "  optimizer = torch.optim.SGD(model.parameters(), lr = lr, momentum = momentum)\n",
        "\n",
        "  #store stats\n",
        "  iters, losses, train_acc, val_acc = [], [], [], []\n",
        "\n",
        "  #train for specified number of epochs\n",
        "  for epoch in range(epochs):\n",
        "    #print ('epoch number', epoch)\n",
        "    n = 0\n",
        "    # train each batch\\\\\n",
        "    for i, data in enumerate(train,0):\n",
        "      imgs, label = data\n",
        "      #############################################\n",
        "      #To Enable GPU Usage\n",
        "      if use_cuda and torch.cuda.is_available():\n",
        "          imgs = imgs.cuda()\n",
        "          label = label.cuda()\n",
        "      #############################################     \n",
        "\n",
        "      #print ('batch number', n)\n",
        "      #forward pass\n",
        "      #print(imgs.size())\n",
        "      #print(label.size())\n",
        "      out = model(imgs)\n",
        "      loss = criterion(out, label)\n",
        "      loss.backward()\n",
        "      optimizer.step()\n",
        "      optimizer.zero_grad()\n",
        "      n+=1\n",
        "\n",
        "    # save the current training information\n",
        "    iters.append(epoch)\n",
        "    losses.append(float(loss)/batch_size)                         # compute *average* loss\n",
        "    train_acc.append(get_accuracy(model, train, val, train=True)) # compute training accuracy\n",
        "    val_acc.append(get_accuracy(model, train, val, train=False))  # compute validation accuracy\n",
        "    model_path = \"model_{0}_bs{1}_lr{2}_epoch{3}\".format(model.name, batch_size, lr, epoch)\n",
        "    torch.save(model.state_dict(), model_path)\n",
        "   \n",
        "    \n",
        "  # plotting\n",
        "  plt.title(\"Training Curve\")\n",
        "  plt.plot(iters, losses, label=\"Train\")\n",
        "  plt.xlabel(\"Iterations\")\n",
        "  plt.ylabel(\"Loss\")\n",
        "  plt.show()\n",
        "\n",
        "  plt.title(\"Training Curve\")\n",
        "  plt.plot(iters, train_acc, label=\"Train\")\n",
        "  plt.plot(iters, val_acc, label=\"Validation\")\n",
        "  plt.xlabel(\"Iterations\")\n",
        "  plt.ylabel(\"Training Accuracy\")\n",
        "  plt.legend(loc='best')\n",
        "  plt.show()\n",
        "\n",
        "  print(\"Final Training Accuracy: {}\".format(train_acc[-1]))\n",
        "  print(\"Final Validation Accuracy: {}\".format(val_acc[-1]))\n"
      ],
      "metadata": {
        "id": "deKUNZ7VTUAC"
      },
      "execution_count": null,
      "outputs": []
    },
    {
      "cell_type": "code",
      "source": [
        "def get_accuracy(model, train_loader, valid_loader, train=False):\n",
        "    if train:\n",
        "        data = train_loader\n",
        "    else:\n",
        "        data = valid_loader\n",
        "   \n",
        "\n",
        "    correct = 0\n",
        "    total = 0\n",
        "    for imgs, labels in data:\n",
        "      #############################################\n",
        "      #To Enable GPU Usage\n",
        "      if use_cuda and torch.cuda.is_available():\n",
        "        imgs = imgs.cuda()\n",
        "        labels = labels.cuda()\n",
        "      #############################################   \n",
        "      output = model(imgs)\n",
        "        \n",
        "      #select index with maximum prediction score\n",
        "      pred = output.max(1, keepdim=True)[1]\n",
        "      correct += pred.eq(labels.view_as(pred)).sum().item()\n",
        "        \n",
        "      total += imgs.shape[0]\n",
        "        \n",
        "    return correct / total"
      ],
      "metadata": {
        "id": "bctAXjiSTMTU"
      },
      "execution_count": null,
      "outputs": []
    },
    {
      "cell_type": "code",
      "source": [
        "# try the training function\n",
        "model = ANN()\n",
        "training(model, train, val, batch_size = 100, epochs = 15, lr = 0.001, momentum = 0.9)"
      ],
      "metadata": {
        "colab": {
          "base_uri": "https://localhost:8080/",
          "height": 608
        },
        "id": "-tTpQ-wgTWQA",
        "outputId": "6cfafa43-2945-4f5a-e461-6aa702d4e500"
      },
      "execution_count": null,
      "outputs": [
        {
          "output_type": "display_data",
          "data": {
            "text/plain": [
              "<Figure size 432x288 with 1 Axes>"
            ],
            "image/png": "[encoded data removed]"
          },
          "metadata": {
            "needs_background": "light"
          }
        },
        {
          "output_type": "display_data",
          "data": {
            "text/plain": [
              "<Figure size 432x288 with 1 Axes>"
            ],
            "image/png": "[encoded data removed]"
          },
          "metadata": {
            "needs_background": "light"
          }
        },
        {
          "output_type": "stream",
          "name": "stdout",
          "text": [
            "Final Training Accuracy: 0.8519269776876268\n",
            "Final Validation Accuracy: 0.25862068965517243\n"
          ]
        }
      ]
    },
    {
      "cell_type": "code",
      "source": [
        "test_loaded = torch.utils.data.DataLoader(test, batch_size=1, shuffle = True)\n",
        "print('test set accuracy is', get_accuracy(model, test_loaded, test_loaded , train = False));"
      ],
      "metadata": {
        "colab": {
          "base_uri": "https://localhost:8080/"
        },
        "id": "Dtvdj631K9XV",
        "outputId": "f16dfc9d-5cc3-428c-f3ae-8ed518b9a748"
      },
      "execution_count": null,
      "outputs": [
        {
          "output_type": "stream",
          "name": "stdout",
          "text": [
            "test set accuracy is 0.41379310344827586\n"
          ]
        }
      ]
    }
  ]
}