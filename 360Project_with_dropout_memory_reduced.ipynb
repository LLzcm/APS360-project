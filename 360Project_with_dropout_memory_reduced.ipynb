{
  "cells": [
    {
      "cell_type": "code",
      "execution_count": null,
      "metadata": {
        "colab": {
          "base_uri": "https://localhost:8080/"
        },
        "id": "c5OaH7rNT8V4",
        "outputId": "51192f10-fec0-46f9-bd7b-3a97622282f0"
      },
      "outputs": [
        {
          "output_type": "stream",
          "name": "stdout",
          "text": [
            "Mounted at /content/gdrive\n"
          ]
        },
        {
          "output_type": "execute_result",
          "data": {
            "text/plain": [
              "<torch._C.Generator at 0x7f8b04071b30>"
            ]
          },
          "metadata": {},
          "execution_count": 1
        }
      ],
      "source": [
        "import time\n",
        "import os\n",
        "import numpy as np\n",
        "import torch\n",
        "from torch.utils.data import random_split\n",
        "import torchvision\n",
        "from torchvision import datasets, models, transforms\n",
        "import matplotlib.pyplot as plt\n",
        "from google.colab import drive\n",
        "import os\n",
        "import torch.nn as nn\n",
        "drive.mount('/content/gdrive')\n",
        "torch.manual_seed(0)"
      ]
    },
    {
      "cell_type": "code",
      "execution_count": null,
      "metadata": {
        "id": "0ysSVJAEd1mM"
      },
      "outputs": [],
      "source": [
        "\n",
        "path = \"/content/gdrive/MyDrive/APS360/360Project/final_dataset\"\n",
        "train_dir = os.path.join(path, 'train/')\n",
        "val_dir = os.path.join(path, 'val/')\n",
        "#test_dir = '/content/gdrive/MyDrive/APS360/360Project/maxres_thumbnails/test'\n",
        "classes =['Autos & Vehicles','Food & Drink','Pets & Animals','Science & Education','Sports']\n",
        "data_transform = transforms.Compose([transforms.RandomResizedCrop(224),transforms.ToTensor()])\n",
        "train_set = datasets.ImageFolder(train_dir, transform=data_transform)\n",
        "validation_set = datasets.ImageFolder(val_dir, transform=data_transform)\n",
        "#test_set = datasets.ImageFolder(test_dir, transform=data_transform)\n",
        "#Make a quick and small dataset\n",
        "train_set,other_dataset = random_split(dataset=train_set,lengths=[3000,3000])\n",
        "validation_set,test_set = random_split(dataset=validation_set,lengths=[750,750]) #This is half of the dataset"
      ]
    },
    {
      "cell_type": "code",
      "execution_count": null,
      "metadata": {
        "id": "sIe_Mr4KU7oY"
      },
      "outputs": [],
      "source": [
        "#Take in data\n",
        "# Train : Validation : Test = 2:1:1\n",
        "#path = \"/content/gdrive/MyDrive/APS360/360Project/small_test\"\n",
        "#file_name = os.listdir(path)\n",
        "#count_pic = 0\n",
        "#for files in file_name:\n",
        "#  count_pic+=len(os.listdir(path+\"/\"+files))\n",
        "#train_index = count_pic//2\n",
        "#validation_index = count_pic//4\n",
        "#test_index = count_pic - train_index - validation_index"
      ]
    },
    {
      "cell_type": "code",
      "execution_count": null,
      "metadata": {
        "id": "80rSrWf7VSVp"
      },
      "outputs": [],
      "source": [
        "#data_dir = \"/content/gdrive/MyDrive/APS360/360Project/small_test\"\n",
        "#classes = ['Arts _ Entertainment','Autos _ Vehicles','Beauty _ Fitness','Food _ Drink','Games','Sports']\n",
        "#data_transform = transforms.Compose([transforms.RandomResizedCrop(224),transforms.ToTensor()])\n",
        "#total_data = datasets.ImageFolder(data_dir, transform=data_transform)\n",
        "#train_set,other_dataset = random_split(dataset=total_data,lengths=[train_index,count_pic-train_index])\n",
        "#validation_set,test_set = random_split(dataset=other_dataset,lengths=[validation_index,test_index])"
      ]
    },
    {
      "cell_type": "code",
      "execution_count": null,
      "metadata": {
        "colab": {
          "base_uri": "https://localhost:8080/"
        },
        "id": "Ln01Oe6JX5A1",
        "outputId": "838d55da-0f9e-4ebb-baf9-8f02915dbdb9"
      },
      "outputs": [
        {
          "output_type": "stream",
          "name": "stdout",
          "text": [
            "Num training images:  3000\n",
            "Num validation images:  750\n"
          ]
        }
      ],
      "source": [
        "print('Num training images: ', len(train_set))\n",
        "print('Num validation images: ', len(validation_set))\n",
        "#print('Num test images: ', len(test_set))"
      ]
    },
    {
      "cell_type": "code",
      "execution_count": null,
      "metadata": {
        "id": "_Lh99jyVYB7e"
      },
      "outputs": [],
      "source": [
        "# define dataloader parameters\n",
        "batch_size  = 128\n",
        "num_workers = 0\n",
        "train_loader = torch.utils.data.DataLoader(train_set, batch_size=batch_size,num_workers=num_workers, shuffle=True)\n",
        "val_loader = torch.utils.data.DataLoader(validation_set, batch_size=batch_size,num_workers=num_workers, shuffle=True)\n"
      ]
    },
    {
      "cell_type": "code",
      "execution_count": null,
      "metadata": {
        "id": "UmPsmi-WFh7b"
      },
      "outputs": [],
      "source": [
        "#!pip install numba\n",
        "\n",
        "#from numba import cuda \n",
        "#device = cuda.get_current_device()\n",
        "#device.reset()"
      ]
    },
    {
      "cell_type": "code",
      "execution_count": null,
      "metadata": {
        "id": "Aaf6r1gRV_o2"
      },
      "outputs": [],
      "source": [
        "#Model CNN \n",
        "import numpy as np\n",
        "import time\n",
        "import torch\n",
        "import torch.nn as nn\n",
        "import torch.nn.functional as F\n",
        "import torch.optim as optim\n",
        "import torchvision\n",
        "from torch.utils.data.sampler import SubsetRandomSampler\n",
        "import torchvision.transforms as transforms\n",
        "\n",
        "class LargeNet(nn.Module):\n",
        "    def __init__(self):\n",
        "        super(LargeNet, self).__init__()\n",
        "        self.name = \"large\"\n",
        "        self.conv1 = nn.Conv2d(3, 5, 5)\n",
        "        self.pool = nn.MaxPool2d(2, 2)\n",
        "        self.conv2 = nn.Conv2d(5, 10, 5)\n",
        "        self.conv3 = nn.Conv2d(10, 20, 4)\n",
        "        self.conv4 = nn.Conv2d(20, 40, 4)\n",
        "        self.fc1 = nn.Linear(4840, 320)\n",
        "        self.fc2 = nn.Linear(320, 6)\n",
        "\n",
        "    def forward(self, x):\n",
        "        x = self.pool(F.relu(self.conv1(x)))\n",
        "        x = self.pool(F.relu(self.conv2(x)))\n",
        "        x = self.pool(F.relu(self.conv3(x)))\n",
        "        x = self.pool(F.relu(self.conv4(x)))\n",
        "        x = x.view(-1, 4840)\n",
        "        x = F.relu(self.fc1(x))\n",
        "        x = self.fc2(x) \n",
        "        return x\n"
      ]
    },
    {
      "cell_type": "code",
      "execution_count": null,
      "metadata": {
        "id": "5eH8NJGFWXfE"
      },
      "outputs": [],
      "source": [
        "#Model Transferlearning+ANN Classifier\n",
        "# Alexnet\n",
        "\n",
        "import torchvision.models\n",
        "alexNet = torchvision.models.alexnet(pretrained=True)\n",
        "dataiter = iter(train_loader)\n",
        "images, labels = dataiter.next()\n",
        "features = alexNet.features(images)\n",
        "features.shape"
      ]
    },
    {
      "cell_type": "code",
      "execution_count": null,
      "metadata": {
        "id": "4g6ixuR_eewI"
      },
      "outputs": [],
      "source": [
        "# VGGnet\n",
        "vggNet = torch.hub.load('pytorch/vision:v0.10.0', 'vgg19', pretrained=True)\n",
        "dataiter = iter(train_loader)\n",
        "images, labels = dataiter.next()\n",
        "features = vggNet.features(images)\n",
        "features.shape"
      ]
    },
    {
      "cell_type": "code",
      "execution_count": null,
      "metadata": {
        "id": "7ajdnGpViWnt"
      },
      "outputs": [],
      "source": [
        "# ResNet\n",
        "#resNet = torch.hub.load('pytorch/vision:v0.10.0', 'resnet18', pretrained=True)\n",
        "resNet = torch.hub.load('pytorch/vision:v0.10.0', 'resnet50', pretrained=True)\n",
        "dataiter = iter(train_loader)\n",
        "images, labels = dataiter.next()\n",
        "features = resNet(images)\n",
        "features.shape"
      ]
    },
    {
      "cell_type": "code",
      "execution_count": null,
      "metadata": {
        "id": "g_a27FRfp5sc",
        "colab": {
          "base_uri": "https://localhost:8080/",
          "height": 177,
          "referenced_widgets": [
            "0e551fb2e2454a98a04d10a7dc96cc25",
            "85415e16e7224b2e803701391d5b82da",
            "358e53c80d08471fb4347d7a5cb91df4",
            "e7647b9c922b4b9999d08840ed9296be",
            "50b6e5bac2dd4701a085fa141cfc7e6b",
            "2f7f314c63814317928b1700332b541a",
            "03f3fc0465904c0d84a2b510a0ffcd91",
            "0a05081f366d49758862b6ee17d8dcfd",
            "752180ae60c0450788c847ca4a4c0ece",
            "39e2d1477a2e44589c6ee4ed585e31c5",
            "31e6ecf3b78846cf808dfd3fd0da9362"
          ]
        },
        "outputId": "743ea6cb-e430-44f9-c678-551bb438954f"
      },
      "outputs": [
        {
          "output_type": "stream",
          "name": "stderr",
          "text": [
            "Downloading: \"https://github.com/pytorch/vision/zipball/v0.10.0\" to /root/.cache/torch/hub/v0.10.0.zip\n",
            "/usr/local/lib/python3.7/dist-packages/torchvision/models/_utils.py:209: UserWarning: The parameter 'pretrained' is deprecated since 0.13 and will be removed in 0.15, please use 'weights' instead.\n",
            "  f\"The parameter '{pretrained_param}' is deprecated since 0.13 and will be removed in 0.15, \"\n",
            "/usr/local/lib/python3.7/dist-packages/torchvision/models/_utils.py:223: UserWarning: Arguments other than a weight enum or `None` for 'weights' are deprecated since 0.13 and will be removed in 0.15. The current behavior is equivalent to passing `weights=GoogLeNet_Weights.IMAGENET1K_V1`. You can also use `weights=GoogLeNet_Weights.DEFAULT` to get the most up-to-date weights.\n",
            "  warnings.warn(msg)\n",
            "Downloading: \"https://download.pytorch.org/models/googlenet-1378be20.pth\" to /root/.cache/torch/hub/checkpoints/googlenet-1378be20.pth\n"
          ]
        },
        {
          "output_type": "display_data",
          "data": {
            "text/plain": [
              "  0%|          | 0.00/49.7M [00:00<?, ?B/s]"
            ],
            "application/vnd.jupyter.widget-view+json": {
              "version_major": 2,
              "version_minor": 0,
              "model_id": "0e551fb2e2454a98a04d10a7dc96cc25"
            }
          },
          "metadata": {}
        }
      ],
      "source": [
        "#GoogleENET\n",
        "googleNet = torch.hub.load('pytorch/vision:v0.10.0', 'googlenet', pretrained=True)\n",
        "#dataiter = iter(train_loader)\n",
        "#images, labels = dataiter.next()\n",
        "#features = googleNet(images)\n",
        "#features.shape"
      ]
    },
    {
      "cell_type": "code",
      "execution_count": null,
      "metadata": {
        "id": "OW9Dwqpk6ytP"
      },
      "outputs": [],
      "source": [
        "#EfficientNet\n",
        "!pip install --upgrade efficientnet-pytorch\n",
        "from efficientnet_pytorch import EfficientNet\n",
        "effNet = EfficientNet.from_pretrained('efficientnet-b0')\n",
        "dataiter = iter(train_loader)\n",
        "images, labels = dataiter.next()\n",
        "features = effNet(images)\n",
        "features.shape"
      ]
    },
    {
      "cell_type": "code",
      "execution_count": null,
      "metadata": {
        "id": "Okq-8eDuDcny"
      },
      "outputs": [],
      "source": [
        "#Xeception\n",
        "!pip install timm\n",
        "import timm\n",
        "xcep = timm.create_model('xception', pretrained=True)\n",
        "dataiter = iter(train_loader)\n",
        "images, labels = dataiter.next()\n",
        "features = xcep(images)\n",
        "features.shape"
      ]
    },
    {
      "cell_type": "code",
      "execution_count": null,
      "metadata": {
        "id": "P0QetsGfZP5s"
      },
      "outputs": [],
      "source": [
        "#Artifical Neural Network Architecture (alexNet)\n",
        "ALNC = alexNet.features\n",
        "\n",
        "class ANNClassifier_ALNC(nn.Module):\n",
        "    def __init__(self):\n",
        "        super(ANNClassifier_ALNC, self).__init__()\n",
        "        self.fc1 = nn.Linear(256 * 6 * 6, 10)\n",
        "        self.fc2 = nn.Linear(10, 6)\n",
        "\n",
        "    def forward(self, x):\n",
        "        x = x.view(-1, 256 * 6 * 6) #flatten feature data\n",
        "        x = F.relu(self.fc1(x))\n",
        "        x = self.fc2(x)\n",
        "        return x"
      ]
    },
    {
      "cell_type": "code",
      "execution_count": null,
      "metadata": {
        "id": "v7rdZQeOe4ce"
      },
      "outputs": [],
      "source": [
        "#Artifical Neural Network Architecture (vggNet)\n",
        "VGG = vggNet.features\n",
        "class ANNClassifier_VGG(nn.Module):\n",
        "    def __init__(self):\n",
        "        super(ANNClassifier_VGG, self).__init__()\n",
        "        self.fc1 = nn.Linear(512 * 7 * 7, 10)\n",
        "        self.fc2 = nn.Linear(10, 6)\n",
        "\n",
        "    def forward(self, x):\n",
        "        x = x.view(-1, 512 * 7 * 7) #flatten feature data\n",
        "        x = F.relu(self.fc1(x))\n",
        "        x = self.fc2(x)\n",
        "        return x"
      ]
    },
    {
      "cell_type": "code",
      "execution_count": null,
      "metadata": {
        "id": "oF4VNPaSi9rm"
      },
      "outputs": [],
      "source": [
        "#Artifical Neural Network Architecture (resNet)\n",
        "RES = resNet\n",
        "class ANNClassifier_RES(nn.Module):\n",
        "    def __init__(self):\n",
        "        super(ANNClassifier_RES, self).__init__()\n",
        "        self.fc1 = nn.Linear(1000, 100)\n",
        "        self.fc2 = nn.Linear(100, 10)\n",
        "        self.fc3 = nn.Linear(10, 6)\n",
        "\n",
        "    def forward(self, x):\n",
        "        x = x.view(-1, 1000) #flatten feature data\n",
        "        x = F.relu(self.fc1(x))\n",
        "        x = self.fc2(x)\n",
        "        x = self.fc3(x)\n",
        "        return x"
      ]
    },
    {
      "cell_type": "code",
      "execution_count": null,
      "metadata": {
        "id": "IoN5bvmuqVNc"
      },
      "outputs": [],
      "source": [
        "#Artifical Neural Network Architecture (GoogleNet)\n",
        "Google = googleNet\n",
        "class ANNClassifier_GOOGLE(nn.Module):\n",
        "    def __init__(self):\n",
        "        super(ANNClassifier_GOOGLE, self).__init__()\n",
        "        self.fc1 = nn.Sequential(nn.Dropout(0.5),nn.Linear(1000,6))\n",
        "        #self.fc2 = nn.Linear(10, 6)\n",
        "    def forward(self, x):\n",
        "        x = x.view(-1, 1000) #flatten feature data\n",
        "        x = F.relu(self.fc1(x))\n",
        "        #x = self.fc2(x)\n",
        "        return x"
      ]
    },
    {
      "cell_type": "code",
      "execution_count": null,
      "metadata": {
        "id": "Mi6O2Emn8Hc1"
      },
      "outputs": [],
      "source": [
        "#Artifical Neural Network Architecture (EfficientNet)\n",
        "EFF = effNet\n",
        "class ANNClassifier_EFF(nn.Module):\n",
        "    def __init__(self):\n",
        "        super(ANNClassifier_EFF, self).__init__()\n",
        "        self.fc1 = nn.Linear(1000, 10)\n",
        "        self.fc2 = nn.Linear(10, 6)\n",
        "\n",
        "    def forward(self, x):\n",
        "        x = x.view(-1, 1000) #flatten feature data\n",
        "        x = F.relu(self.fc1(x))\n",
        "        x = self.fc2(x)\n",
        "        return x"
      ]
    },
    {
      "cell_type": "code",
      "execution_count": null,
      "metadata": {
        "id": "NHbjtrq7Eflo"
      },
      "outputs": [],
      "source": [
        "#Artifical Neural Network Architecture (Exception)\n",
        "EXP = xcep\n",
        "class ANNClassifier_EXP(nn.Module):\n",
        "    def __init__(self):\n",
        "        super(ANNClassifier_EXP, self).__init__()\n",
        "        self.fc1 = nn.Linear(1000, 10)\n",
        "        self.fc2 = nn.Linear(10, 6)\n",
        "\n",
        "    def forward(self, x):\n",
        "        x = x.view(-1, 1000) #flatten feature data\n",
        "        x = F.relu(self.fc1(x))\n",
        "        x = self.fc2(x)\n",
        "        return x"
      ]
    },
    {
      "cell_type": "markdown",
      "metadata": {
        "id": "6X801oYTZhXi"
      },
      "source": [
        "Helper function"
      ]
    },
    {
      "cell_type": "code",
      "execution_count": null,
      "metadata": {
        "id": "FOm1VXF-ZfKP"
      },
      "outputs": [],
      "source": [
        "def get_accuracy(model, train=False):\n",
        "    model.eval()\n",
        "    with torch.no_grad():\n",
        "      if train:\n",
        "          data_loader = train_loader\n",
        "      else:\n",
        "          data_loader = val_loader\n",
        "\n",
        "      correct = 0\n",
        "      total = 0\n",
        "      for imgs, labels in data_loader:\n",
        "        \n",
        "         \n",
        "        #############################################\n",
        "        #To Enable GPU Usage\n",
        "        if use_cuda and torch.cuda.is_available():\n",
        "          imgs = imgs.cuda()\n",
        "          labels = labels.cuda()\n",
        "        #############################################\n",
        "        #改这里 change here to switch model\n",
        "        output = model(Google(imgs))\n",
        "        \n",
        "        #select index with maximum prediction score\n",
        "        pred = output.max(1, keepdim=True)[1]\n",
        "        correct += pred.eq(labels.view_as(pred)).sum().item()\n",
        "        total += imgs.shape[0]\n",
        "    return correct / total"
      ]
    },
    {
      "cell_type": "markdown",
      "metadata": {
        "id": "cXdCkWkda9gk"
      },
      "source": [
        "Train code\n"
      ]
    },
    {
      "cell_type": "code",
      "execution_count": null,
      "metadata": {
        "id": "Nm_XPXy6ZkdJ"
      },
      "outputs": [],
      "source": [
        "def train(model, data, lr,batch_size=20, num_epochs=1,train_loader=train_loader):\n",
        "    #train_loader = torch.utils.data.DataLoader(data, batch_size=batch_size)\n",
        "    # train_loader = torch.utils.data.DataLoader(train_data, batch_size=batch_size, \n",
        "                                           #num_workers=num_workers, shuffle=True)\n",
        "    criterion = nn.CrossEntropyLoss()\n",
        "    optimizer = optim.SGD(model.parameters(), lr=lr, momentum=0.9)\n",
        "\n",
        "    iters, losses, train_acc, val_acc = [], [], [], []\n",
        "\n",
        "    # training\n",
        "    n = 0 # the number of iterations\n",
        "    start_time=time.time()\n",
        "    for epoch in range(num_epochs):\n",
        "        model.train()\n",
        "        mini_b=0\n",
        "        mini_batch_correct = 0\n",
        "        Mini_batch_total = 0\n",
        "        for imgs, labels in iter(train_loader):\n",
        "          \n",
        "            \n",
        "            #############################################\n",
        "            #To Enable GPU Usage\n",
        "            if use_cuda and torch.cuda.is_available():\n",
        "              imgs = imgs.cuda()\n",
        "              labels = labels.cuda()\n",
        "            #############################################\n",
        "\n",
        "          #### ALNC is alexNet.features (AlexNet without classifier) ####\n",
        "          #### VGG is vggNet.fearures (VggNet without classifier) ####\n",
        "          #### RES is resNet\n",
        "          #改这里 change here to switch model\n",
        "            out = model(Google(imgs))             # forward pass\n",
        "            loss = criterion(out, labels) # compute the total loss\n",
        "            loss.backward()               # backward pass (compute parameter updates)\n",
        "            optimizer.step()              # make the updates for each parameter\n",
        "            optimizer.zero_grad()         # a clean up step for PyTorch\n",
        "\n",
        "\n",
        "\n",
        "            ##### Mini_batch Accuracy ##### We don't compute accuracy on the whole training set in every iteration!\n",
        "            pred = out.max(1, keepdim=True)[1]\n",
        "            mini_batch_correct = pred.eq(labels.view_as(pred)).sum().item()\n",
        "            Mini_batch_total = imgs.shape[0]\n",
        "            train_acc.append((mini_batch_correct / Mini_batch_total))\n",
        "           ###########################\n",
        "\n",
        "          # save the current training information\n",
        "            iters.append(n)\n",
        "            losses.append(float(loss)/batch_size)             # compute *average* loss\n",
        "            val_acc.append(get_accuracy(model, train=False))  # compute validation accuracy\n",
        "            n += 1\n",
        "            mini_b += 1\n",
        "            print(\"Iteration: \",n,'Progress: % 6.2f ' % ((epoch * len(train_loader) + mini_b) / (num_epochs * len(train_loader))*100),'%', \"Time Elapsed: % 6.2f s \" % (time.time()-start_time))\n",
        "\n",
        "\n",
        "        print (\"Epoch %d Finished. \" % epoch ,\"Time per Epoch: % 6.2f s \"% ((time.time()-start_time) / (epoch +1)))\n",
        "\n",
        "\n",
        "    end_time= time.time()\n",
        "    # plotting\n",
        "    plt.title(\"Training Curve\")\n",
        "    plt.plot(iters, losses, label=\"Train\")\n",
        "    plt.xlabel(\"Iterations\")\n",
        "    plt.ylabel(\"Loss\")\n",
        "    plt.show()\n",
        "\n",
        "    plt.title(\"Training Curve\")\n",
        "    plt.plot(iters, train_acc, label=\"Training\")\n",
        "    plt.plot(iters, val_acc, label=\"Validation\")    \n",
        "    plt.xlabel(\"Iterations\")\n",
        "    plt.ylabel(\"Validation Accuracy\")\n",
        "    plt.legend(loc='best')\n",
        "    plt.show()\n",
        "\n",
        "    train_acc.append(get_accuracy(model, train=True))\n",
        "    print(\"Final Training Accuracy: {}\".format(train_acc[-1]))\n",
        "    print(\"Final Validation Accuracy: {}\".format(val_acc[-1]))\n",
        "    print (\"Total time:  % 6.2f s  Time per Epoch: % 6.2f s \" % ( (end_time-start_time), ((end_time-start_time) / num_epochs) ))\n",
        "    "
      ]
    },
    {
      "cell_type": "code",
      "execution_count": null,
      "metadata": {
        "id": "Y3QzXDOgDYcz"
      },
      "outputs": [],
      "source": [
        "def get_model_name(name, batch_size, learning_rate, epoch):\n",
        "    \"\"\" Generate a name for the model consisting of all the hyperparameter values\n",
        "\n",
        "    Args:\n",
        "        config: Configuration object containing the hyperparameters\n",
        "    Returns:\n",
        "        path: A string with the hyperparameter name and value concatenated\n",
        "    \"\"\"\n",
        "    path = \"/content/gdrive/MyDrive/APS360/360Project/Models/model_{0}_bs{1}_lr{2}_epoch{3}\".format(name,\n",
        "                                                   batch_size,\n",
        "                                                   learning_rate,\n",
        "                                                   epoch)\n",
        "    return path"
      ]
    },
    {
      "cell_type": "code",
      "execution_count": null,
      "metadata": {
        "colab": {
          "base_uri": "https://localhost:8080/",
          "height": 1000
        },
        "id": "CEX9DBDdbDWZ",
        "outputId": "28fcf05d-2bcc-4dd5-eded-013c142e471e"
      },
      "outputs": [
        {
          "output_type": "stream",
          "name": "stdout",
          "text": [
            "Tesla T4\n",
            "CUDA is available!  Training on GPU ...\n",
            "Iteration:  1 Progress:   0.83  % Time Elapsed:  155.14 s \n",
            "Iteration:  2 Progress:   1.67  % Time Elapsed:  186.93 s \n",
            "Iteration:  3 Progress:   2.50  % Time Elapsed:  218.08 s \n",
            "Iteration:  4 Progress:   3.33  % Time Elapsed:  251.29 s \n",
            "Iteration:  5 Progress:   4.17  % Time Elapsed:  282.82 s \n",
            "Iteration:  6 Progress:   5.00  % Time Elapsed:  313.95 s \n",
            "Iteration:  7 Progress:   5.83  % Time Elapsed:  344.45 s \n",
            "Iteration:  8 Progress:   6.67  % Time Elapsed:  377.24 s \n",
            "Iteration:  9 Progress:   7.50  % Time Elapsed:  411.47 s \n",
            "Iteration:  10 Progress:   8.33  % Time Elapsed:  441.76 s \n",
            "Iteration:  11 Progress:   9.17  % Time Elapsed:  473.59 s \n",
            "Iteration:  12 Progress:  10.00  % Time Elapsed:  507.03 s \n",
            "Iteration:  13 Progress:  10.83  % Time Elapsed:  538.95 s \n",
            "Iteration:  14 Progress:  11.67  % Time Elapsed:  568.79 s \n",
            "Iteration:  15 Progress:  12.50  % Time Elapsed:  600.34 s \n",
            "Iteration:  16 Progress:  13.33  % Time Elapsed:  633.31 s \n",
            "Iteration:  17 Progress:  14.17  % Time Elapsed:  664.62 s \n",
            "Iteration:  18 Progress:  15.00  % Time Elapsed:  698.26 s \n",
            "Iteration:  19 Progress:  15.83  % Time Elapsed:  731.62 s \n",
            "Iteration:  20 Progress:  16.67  % Time Elapsed:  766.67 s \n",
            "Iteration:  21 Progress:  17.50  % Time Elapsed:  797.68 s \n",
            "Iteration:  22 Progress:  18.33  % Time Elapsed:  828.27 s \n",
            "Iteration:  23 Progress:  19.17  % Time Elapsed:  859.52 s \n",
            "Iteration:  24 Progress:  20.00  % Time Elapsed:  880.93 s \n",
            "Epoch 0 Finished.  Time per Epoch:  880.93 s \n",
            "Iteration:  25 Progress:  20.83  % Time Elapsed:  897.80 s \n",
            "Iteration:  26 Progress:  21.67  % Time Elapsed:  913.48 s \n",
            "Iteration:  27 Progress:  22.50  % Time Elapsed:  929.20 s \n",
            "Iteration:  28 Progress:  23.33  % Time Elapsed:  944.80 s \n",
            "Iteration:  29 Progress:  24.17  % Time Elapsed:  960.49 s \n",
            "Iteration:  30 Progress:  25.00  % Time Elapsed:  976.15 s \n",
            "Iteration:  31 Progress:  25.83  % Time Elapsed:  991.68 s \n",
            "Iteration:  32 Progress:  26.67  % Time Elapsed:  1007.42 s \n",
            "Iteration:  33 Progress:  27.50  % Time Elapsed:  1023.20 s \n",
            "Iteration:  34 Progress:  28.33  % Time Elapsed:  1038.88 s \n",
            "Iteration:  35 Progress:  29.17  % Time Elapsed:  1055.70 s \n",
            "Iteration:  36 Progress:  30.00  % Time Elapsed:  1071.34 s \n",
            "Iteration:  37 Progress:  30.83  % Time Elapsed:  1087.03 s \n",
            "Iteration:  38 Progress:  31.67  % Time Elapsed:  1102.76 s \n",
            "Iteration:  39 Progress:  32.50  % Time Elapsed:  1118.41 s \n",
            "Iteration:  40 Progress:  33.33  % Time Elapsed:  1134.07 s \n",
            "Iteration:  41 Progress:  34.17  % Time Elapsed:  1149.87 s \n",
            "Iteration:  42 Progress:  35.00  % Time Elapsed:  1165.60 s \n",
            "Iteration:  43 Progress:  35.83  % Time Elapsed:  1181.23 s \n",
            "Iteration:  44 Progress:  36.67  % Time Elapsed:  1196.94 s \n",
            "Iteration:  45 Progress:  37.50  % Time Elapsed:  1213.86 s \n",
            "Iteration:  46 Progress:  38.33  % Time Elapsed:  1229.62 s \n",
            "Iteration:  47 Progress:  39.17  % Time Elapsed:  1245.30 s \n",
            "Iteration:  48 Progress:  40.00  % Time Elapsed:  1259.60 s \n",
            "Epoch 1 Finished.  Time per Epoch:  629.80 s \n",
            "Iteration:  49 Progress:  40.83  % Time Elapsed:  1275.20 s \n",
            "Iteration:  50 Progress:  41.67  % Time Elapsed:  1290.92 s \n",
            "Iteration:  51 Progress:  42.50  % Time Elapsed:  1306.51 s \n",
            "Iteration:  52 Progress:  43.33  % Time Elapsed:  1322.38 s \n",
            "Iteration:  53 Progress:  44.17  % Time Elapsed:  1338.15 s \n",
            "Iteration:  54 Progress:  45.00  % Time Elapsed:  1353.84 s \n",
            "Iteration:  55 Progress:  45.83  % Time Elapsed:  1369.38 s \n",
            "Iteration:  56 Progress:  46.67  % Time Elapsed:  1386.16 s \n",
            "Iteration:  57 Progress:  47.50  % Time Elapsed:  1401.85 s \n",
            "Iteration:  58 Progress:  48.33  % Time Elapsed:  1417.42 s \n",
            "Iteration:  59 Progress:  49.17  % Time Elapsed:  1432.90 s \n",
            "Iteration:  60 Progress:  50.00  % Time Elapsed:  1448.55 s \n",
            "Iteration:  61 Progress:  50.83  % Time Elapsed:  1464.26 s \n",
            "Iteration:  62 Progress:  51.67  % Time Elapsed:  1479.77 s \n",
            "Iteration:  63 Progress:  52.50  % Time Elapsed:  1495.37 s \n",
            "Iteration:  64 Progress:  53.33  % Time Elapsed:  1511.09 s \n",
            "Iteration:  65 Progress:  54.17  % Time Elapsed:  1526.70 s \n",
            "Iteration:  66 Progress:  55.00  % Time Elapsed:  1543.45 s \n",
            "Iteration:  67 Progress:  55.83  % Time Elapsed:  1558.99 s \n",
            "Iteration:  68 Progress:  56.67  % Time Elapsed:  1574.65 s \n",
            "Iteration:  69 Progress:  57.50  % Time Elapsed:  1590.23 s \n",
            "Iteration:  70 Progress:  58.33  % Time Elapsed:  1605.90 s \n",
            "Iteration:  71 Progress:  59.17  % Time Elapsed:  1621.52 s \n",
            "Iteration:  72 Progress:  60.00  % Time Elapsed:  1635.87 s \n",
            "Epoch 2 Finished.  Time per Epoch:  545.29 s \n",
            "Iteration:  73 Progress:  60.83  % Time Elapsed:  1651.37 s \n",
            "Iteration:  74 Progress:  61.67  % Time Elapsed:  1666.81 s \n",
            "Iteration:  75 Progress:  62.50  % Time Elapsed:  1682.33 s \n",
            "Iteration:  76 Progress:  63.33  % Time Elapsed:  1699.15 s \n",
            "Iteration:  77 Progress:  64.17  % Time Elapsed:  1714.63 s \n",
            "Iteration:  78 Progress:  65.00  % Time Elapsed:  1730.19 s \n",
            "Iteration:  79 Progress:  65.83  % Time Elapsed:  1745.83 s \n",
            "Iteration:  80 Progress:  66.67  % Time Elapsed:  1761.48 s \n",
            "Iteration:  81 Progress:  67.50  % Time Elapsed:  1777.12 s \n",
            "Iteration:  82 Progress:  68.33  % Time Elapsed:  1792.73 s \n",
            "Iteration:  83 Progress:  69.17  % Time Elapsed:  1808.30 s \n",
            "Iteration:  84 Progress:  70.00  % Time Elapsed:  1823.88 s \n",
            "Iteration:  85 Progress:  70.83  % Time Elapsed:  1839.37 s \n",
            "Iteration:  86 Progress:  71.67  % Time Elapsed:  1856.20 s \n",
            "Iteration:  87 Progress:  72.50  % Time Elapsed:  1871.81 s \n",
            "Iteration:  88 Progress:  73.33  % Time Elapsed:  1887.40 s \n",
            "Iteration:  89 Progress:  74.17  % Time Elapsed:  1902.98 s \n",
            "Iteration:  90 Progress:  75.00  % Time Elapsed:  1918.36 s \n",
            "Iteration:  91 Progress:  75.83  % Time Elapsed:  1934.03 s \n",
            "Iteration:  92 Progress:  76.67  % Time Elapsed:  1949.73 s \n",
            "Iteration:  93 Progress:  77.50  % Time Elapsed:  1965.25 s \n",
            "Iteration:  94 Progress:  78.33  % Time Elapsed:  1980.80 s \n",
            "Iteration:  95 Progress:  79.17  % Time Elapsed:  1996.48 s \n",
            "Iteration:  96 Progress:  80.00  % Time Elapsed:  2010.64 s \n",
            "Epoch 3 Finished.  Time per Epoch:  502.66 s \n",
            "Iteration:  97 Progress:  80.83  % Time Elapsed:  2027.21 s \n",
            "Iteration:  98 Progress:  81.67  % Time Elapsed:  2042.78 s \n",
            "Iteration:  99 Progress:  82.50  % Time Elapsed:  2058.46 s \n",
            "Iteration:  100 Progress:  83.33  % Time Elapsed:  2073.96 s \n",
            "Iteration:  101 Progress:  84.17  % Time Elapsed:  2089.51 s \n",
            "Iteration:  102 Progress:  85.00  % Time Elapsed:  2105.01 s \n",
            "Iteration:  103 Progress:  85.83  % Time Elapsed:  2120.59 s \n",
            "Iteration:  104 Progress:  86.67  % Time Elapsed:  2136.09 s \n",
            "Iteration:  105 Progress:  87.50  % Time Elapsed:  2151.64 s \n",
            "Iteration:  106 Progress:  88.33  % Time Elapsed:  2167.24 s \n",
            "Iteration:  107 Progress:  89.17  % Time Elapsed:  2184.01 s \n",
            "Iteration:  108 Progress:  90.00  % Time Elapsed:  2199.49 s \n",
            "Iteration:  109 Progress:  90.83  % Time Elapsed:  2215.01 s \n",
            "Iteration:  110 Progress:  91.67  % Time Elapsed:  2230.53 s \n",
            "Iteration:  111 Progress:  92.50  % Time Elapsed:  2246.33 s \n",
            "Iteration:  112 Progress:  93.33  % Time Elapsed:  2261.97 s \n",
            "Iteration:  113 Progress:  94.17  % Time Elapsed:  2277.54 s \n",
            "Iteration:  114 Progress:  95.00  % Time Elapsed:  2293.12 s \n",
            "Iteration:  115 Progress:  95.83  % Time Elapsed:  2308.61 s \n",
            "Iteration:  116 Progress:  96.67  % Time Elapsed:  2324.11 s \n",
            "Iteration:  117 Progress:  97.50  % Time Elapsed:  2340.90 s \n",
            "Iteration:  118 Progress:  98.33  % Time Elapsed:  2356.47 s \n",
            "Iteration:  119 Progress:  99.17  % Time Elapsed:  2372.03 s \n",
            "Iteration:  120 Progress:  100.00  % Time Elapsed:  2386.06 s \n",
            "Epoch 4 Finished.  Time per Epoch:  477.21 s \n"
          ]
        },
        {
          "output_type": "display_data",
          "data": {
            "text/plain": [
              "<Figure size 432x288 with 1 Axes>"
            ],
            "image/png": "[encoded data removed]"
          },
          "metadata": {
            "needs_background": "light"
          }
        },
        {
          "output_type": "display_data",
          "data": {
            "text/plain": [
              "<Figure size 432x288 with 1 Axes>"
            ],
            "image/png": "[encoded data removed]"
          },
          "metadata": {
            "needs_background": "light"
          }
        },
        {
          "output_type": "stream",
          "name": "stdout",
          "text": [
            "Final Training Accuracy: 0.7786666666666666\n",
            "Final Validation Accuracy: 0.7666666666666667\n",
            "Total time:   2386.07 s  Time per Epoch:  477.21 s \n"
          ]
        }
      ],
      "source": [
        "use_cuda = True\n",
        "#model = ANNClassifier_ALNC()\n",
        "#model = ANNClassifier_VGG()\n",
        "#model = ANNClassifier_EFF()\n",
        "#model = ANNClassifier_EXP()\n",
        "model = ANNClassifier_GOOGLE()\n",
        "#model = ANNClassifier_RES()\n",
        "if use_cuda and torch.cuda.is_available():\n",
        "  #ALNC.cuda()\n",
        "  #VGG.cuda()\n",
        "  #RES.cuda()\n",
        "  model.cuda()\n",
        "  Google.cuda()\n",
        "  #EFF.cuda()\n",
        "  #EXP.cuda()\n",
        "  print(torch.cuda.get_device_name(0))\n",
        "  print('CUDA is available!  Training on GPU ...')\n",
        "else:\n",
        "  print('CUDA is not available.  Training on CPU ...')\n",
        "  \n",
        "#proper model\n",
        "train(model, [],lr=0.001, batch_size=batch_size, num_epochs=5, train_loader=train_loader)"
      ]
    },
    {
      "cell_type": "code",
      "execution_count": null,
      "metadata": {
        "id": "GYuYWB1EDbPc"
      },
      "outputs": [],
      "source": [
        "model_path = get_model_name(\"google\", batch_size=128, learning_rate=0.001, epoch=5)\n",
        "torch.save(model.state_dict(), model_path)"
      ]
    },
    {
      "cell_type": "code",
      "execution_count": null,
      "metadata": {
        "id": "_YB7TEHa2yYA"
      },
      "outputs": [],
      "source": [
        "test_loader = torch.utils.data.DataLoader(test_set, batch_size=batch_size,num_workers=num_workers, shuffle=True)\n",
        "\n",
        "def get_test_accuracy(model):\n",
        "    data_loader = test_loader\n",
        "    correct = 0\n",
        "    total = 0\n",
        "    for imgs, labels in data_loader:\n",
        "        \n",
        "         \n",
        "        #############################################\n",
        "        #To Enable GPU Usage\n",
        "        if use_cuda and torch.cuda.is_available():\n",
        "          imgs = imgs.cuda()\n",
        "          labels = labels.cuda()\n",
        "        #############################################\n",
        "        #改这里 change here to switch model\n",
        "        output = model(Google(imgs))\n",
        "        \n",
        "        #select index with maximum prediction score\n",
        "        pred = output.max(1, keepdim=True)[1]\n",
        "        correct += pred.eq(labels.view_as(pred)).sum().item()\n",
        "        total += imgs.shape[0]\n",
        "    return correct / total"
      ]
    },
    {
      "cell_type": "code",
      "execution_count": null,
      "metadata": {
        "colab": {
          "base_uri": "https://localhost:8080/"
        },
        "id": "EhVwIhWl4gC9",
        "outputId": "fcf6df90-dab2-4331-e0ab-96e124347ca6"
      },
      "outputs": [
        {
          "data": {
            "text/plain": [
              "0.10344827586206896"
            ]
          },
          "execution_count": 24,
          "metadata": {},
          "output_type": "execute_result"
        }
      ],
      "source": [
        "get_test_accuracy(model)"
      ]
    },
    {
      "cell_type": "markdown",
      "metadata": {
        "id": "oVgpNe3MhLec"
      },
      "source": [
        "AlexNet:\n",
        "\n",
        "Final Training Accuracy: 0.6310344827586207\n",
        "\n",
        "Final Validation Accuracy: 0.36551724137931035\n",
        "\n",
        "Total time:   61.06 s  Time per Epoch:   6.11 s\n",
        "\n",
        "----------------\n",
        "VggNet:\n",
        "\n",
        "Final Training Accuracy: 0.7310344827586207\n",
        "\n",
        "Final Validation Accuracy: 0.3793103448275862\n",
        "\n",
        "Total time:   90.87 s  Time per Epoch:   9.09 s\n",
        "\n",
        "----------------\n",
        "ResNet 18:\n",
        "\n",
        "Final Training Accuracy: 0.7137931034482758\n",
        "\n",
        "Final Validation Accuracy: 0.4896551724137931\n",
        "\n",
        "Total time:   57.84 s  Time per Epoch:   5.78 s\n",
        "\n",
        "----------------\n",
        "ResNet 152:\n",
        "\n",
        "Final Training Accuracy: 0.7551724137931034\n",
        "\n",
        "Final Validation Accuracy: 0.5310344827586206\n",
        "\n",
        "Total time:   153.14 s  Time per Epoch:  15.31 s\n",
        "\n",
        "----------------\n",
        "\n",
        "GoogleNet:\n",
        "\n",
        "Final Training Accuracy: 0.7103448275862069\n",
        "\n",
        "Final Validation Accuracy: 0.5379310344827586\n",
        "\n",
        "Total time:   82.32 s  Time per Epoch:   8.23 s\n",
        "\n",
        "----------\n",
        "Efficient Net:\n",
        "Base-model\n",
        "\n",
        "Final Training Accuracy: 0.7137931034482758\n",
        "\n",
        "Final Validation Accuracy: 0.5103448275862069\n",
        "\n",
        "Total time:   130.57 s  Time per Epoch:  13.06 s\n",
        "\n",
        "B5 and above models takes way too much GPU RAM in current\n",
        "setting. Even A100 40GB is not enough, so I won't test them for now\n",
        "\n",
        "----------\n",
        "Xception: bach_size = 16 due to limited GPU RAM\n",
        "\n",
        "Final Training Accuracy: 0.6724137931034483\n",
        "\n",
        "Final Validation Accuracy: 0.3793103448275862\n",
        "\n",
        "Total time:   360.96 s  Time per Epoch:  36.10 s \n"
      ]
    }
  ],
  "metadata": {
    "accelerator": "GPU",
    "colab": {
      "provenance": []
    },
    "gpuClass": "standard",
    "kernelspec": {
      "display_name": "Python 3",
      "name": "python3"
    },
    "language_info": {
      "name": "python"
    },
    "widgets": {
      "application/vnd.jupyter.widget-state+json": {
        "0e551fb2e2454a98a04d10a7dc96cc25": {
          "model_module": "@jupyter-widgets/controls",
          "model_name": "HBoxModel",
          "model_module_version": "1.5.0",
          "state": {
            "_dom_classes": [],
            "_model_module": "@jupyter-widgets/controls",
            "_model_module_version": "1.5.0",
            "_model_name": "HBoxModel",
            "_view_count": null,
            "_view_module": "@jupyter-widgets/controls",
            "_view_module_version": "1.5.0",
            "_view_name": "HBoxView",
            "box_style": "",
            "children": [
              "IPY_MODEL_85415e16e7224b2e803701391d5b82da",
              "IPY_MODEL_358e53c80d08471fb4347d7a5cb91df4",
              "IPY_MODEL_e7647b9c922b4b9999d08840ed9296be"
            ],
            "layout": "IPY_MODEL_50b6e5bac2dd4701a085fa141cfc7e6b"
          }
        },
        "85415e16e7224b2e803701391d5b82da": {
          "model_module": "@jupyter-widgets/controls",
          "model_name": "HTMLModel",
          "model_module_version": "1.5.0",
          "state": {
            "_dom_classes": [],
            "_model_module": "@jupyter-widgets/controls",
            "_model_module_version": "1.5.0",
            "_model_name": "HTMLModel",
            "_view_count": null,
            "_view_module": "@jupyter-widgets/controls",
            "_view_module_version": "1.5.0",
            "_view_name": "HTMLView",
            "description": "",
            "description_tooltip": null,
            "layout": "IPY_MODEL_2f7f314c63814317928b1700332b541a",
            "placeholder": "​",
            "style": "IPY_MODEL_03f3fc0465904c0d84a2b510a0ffcd91",
            "value": "100%"
          }
        },
        "358e53c80d08471fb4347d7a5cb91df4": {
          "model_module": "@jupyter-widgets/controls",
          "model_name": "FloatProgressModel",
          "model_module_version": "1.5.0",
          "state": {
            "_dom_classes": [],
            "_model_module": "@jupyter-widgets/controls",
            "_model_module_version": "1.5.0",
            "_model_name": "FloatProgressModel",
            "_view_count": null,
            "_view_module": "@jupyter-widgets/controls",
            "_view_module_version": "1.5.0",
            "_view_name": "ProgressView",
            "bar_style": "success",
            "description": "",
            "description_tooltip": null,
            "layout": "IPY_MODEL_0a05081f366d49758862b6ee17d8dcfd",
            "max": 52147035,
            "min": 0,
            "orientation": "horizontal",
            "style": "IPY_MODEL_752180ae60c0450788c847ca4a4c0ece",
            "value": 52147035
          }
        },
        "e7647b9c922b4b9999d08840ed9296be": {
          "model_module": "@jupyter-widgets/controls",
          "model_name": "HTMLModel",
          "model_module_version": "1.5.0",
          "state": {
            "_dom_classes": [],
            "_model_module": "@jupyter-widgets/controls",
            "_model_module_version": "1.5.0",
            "_model_name": "HTMLModel",
            "_view_count": null,
            "_view_module": "@jupyter-widgets/controls",
            "_view_module_version": "1.5.0",
            "_view_name": "HTMLView",
            "description": "",
            "description_tooltip": null,
            "layout": "IPY_MODEL_39e2d1477a2e44589c6ee4ed585e31c5",
            "placeholder": "​",
            "style": "IPY_MODEL_31e6ecf3b78846cf808dfd3fd0da9362",
            "value": " 49.7M/49.7M [00:01&lt;00:00, 49.6MB/s]"
          }
        },
        "50b6e5bac2dd4701a085fa141cfc7e6b": {
          "model_module": "@jupyter-widgets/base",
          "model_name": "LayoutModel",
          "model_module_version": "1.2.0",
          "state": {
            "_model_module": "@jupyter-widgets/base",
            "_model_module_version": "1.2.0",
            "_model_name": "LayoutModel",
            "_view_count": null,
            "_view_module": "@jupyter-widgets/base",
            "_view_module_version": "1.2.0",
            "_view_name": "LayoutView",
            "align_content": null,
            "align_items": null,
            "align_self": null,
            "border": null,
            "bottom": null,
            "display": null,
            "flex": null,
            "flex_flow": null,
            "grid_area": null,
            "grid_auto_columns": null,
            "grid_auto_flow": null,
            "grid_auto_rows": null,
            "grid_column": null,
            "grid_gap": null,
            "grid_row": null,
            "grid_template_areas": null,
            "grid_template_columns": null,
            "grid_template_rows": null,
            "height": null,
            "justify_content": null,
            "justify_items": null,
            "left": null,
            "margin": null,
            "max_height": null,
            "max_width": null,
            "min_height": null,
            "min_width": null,
            "object_fit": null,
            "object_position": null,
            "order": null,
            "overflow": null,
            "overflow_x": null,
            "overflow_y": null,
            "padding": null,
            "right": null,
            "top": null,
            "visibility": null,
            "width": null
          }
        },
        "2f7f314c63814317928b1700332b541a": {
          "model_module": "@jupyter-widgets/base",
          "model_name": "LayoutModel",
          "model_module_version": "1.2.0",
          "state": {
            "_model_module": "@jupyter-widgets/base",
            "_model_module_version": "1.2.0",
            "_model_name": "LayoutModel",
            "_view_count": null,
            "_view_module": "@jupyter-widgets/base",
            "_view_module_version": "1.2.0",
            "_view_name": "LayoutView",
            "align_content": null,
            "align_items": null,
            "align_self": null,
            "border": null,
            "bottom": null,
            "display": null,
            "flex": null,
            "flex_flow": null,
            "grid_area": null,
            "grid_auto_columns": null,
            "grid_auto_flow": null,
            "grid_auto_rows": null,
            "grid_column": null,
            "grid_gap": null,
            "grid_row": null,
            "grid_template_areas": null,
            "grid_template_columns": null,
            "grid_template_rows": null,
            "height": null,
            "justify_content": null,
            "justify_items": null,
            "left": null,
            "margin": null,
            "max_height": null,
            "max_width": null,
            "min_height": null,
            "min_width": null,
            "object_fit": null,
            "object_position": null,
            "order": null,
            "overflow": null,
            "overflow_x": null,
            "overflow_y": null,
            "padding": null,
            "right": null,
            "top": null,
            "visibility": null,
            "width": null
          }
        },
        "03f3fc0465904c0d84a2b510a0ffcd91": {
          "model_module": "@jupyter-widgets/controls",
          "model_name": "DescriptionStyleModel",
          "model_module_version": "1.5.0",
          "state": {
            "_model_module": "@jupyter-widgets/controls",
            "_model_module_version": "1.5.0",
            "_model_name": "DescriptionStyleModel",
            "_view_count": null,
            "_view_module": "@jupyter-widgets/base",
            "_view_module_version": "1.2.0",
            "_view_name": "StyleView",
            "description_width": ""
          }
        },
        "0a05081f366d49758862b6ee17d8dcfd": {
          "model_module": "@jupyter-widgets/base",
          "model_name": "LayoutModel",
          "model_module_version": "1.2.0",
          "state": {
            "_model_module": "@jupyter-widgets/base",
            "_model_module_version": "1.2.0",
            "_model_name": "LayoutModel",
            "_view_count": null,
            "_view_module": "@jupyter-widgets/base",
            "_view_module_version": "1.2.0",
            "_view_name": "LayoutView",
            "align_content": null,
            "align_items": null,
            "align_self": null,
            "border": null,
            "bottom": null,
            "display": null,
            "flex": null,
            "flex_flow": null,
            "grid_area": null,
            "grid_auto_columns": null,
            "grid_auto_flow": null,
            "grid_auto_rows": null,
            "grid_column": null,
            "grid_gap": null,
            "grid_row": null,
            "grid_template_areas": null,
            "grid_template_columns": null,
            "grid_template_rows": null,
            "height": null,
            "justify_content": null,
            "justify_items": null,
            "left": null,
            "margin": null,
            "max_height": null,
            "max_width": null,
            "min_height": null,
            "min_width": null,
            "object_fit": null,
            "object_position": null,
            "order": null,
            "overflow": null,
            "overflow_x": null,
            "overflow_y": null,
            "padding": null,
            "right": null,
            "top": null,
            "visibility": null,
            "width": null
          }
        },
        "752180ae60c0450788c847ca4a4c0ece": {
          "model_module": "@jupyter-widgets/controls",
          "model_name": "ProgressStyleModel",
          "model_module_version": "1.5.0",
          "state": {
            "_model_module": "@jupyter-widgets/controls",
            "_model_module_version": "1.5.0",
            "_model_name": "ProgressStyleModel",
            "_view_count": null,
            "_view_module": "@jupyter-widgets/base",
            "_view_module_version": "1.2.0",
            "_view_name": "StyleView",
            "bar_color": null,
            "description_width": ""
          }
        },
        "39e2d1477a2e44589c6ee4ed585e31c5": {
          "model_module": "@jupyter-widgets/base",
          "model_name": "LayoutModel",
          "model_module_version": "1.2.0",
          "state": {
            "_model_module": "@jupyter-widgets/base",
            "_model_module_version": "1.2.0",
            "_model_name": "LayoutModel",
            "_view_count": null,
            "_view_module": "@jupyter-widgets/base",
            "_view_module_version": "1.2.0",
            "_view_name": "LayoutView",
            "align_content": null,
            "align_items": null,
            "align_self": null,
            "border": null,
            "bottom": null,
            "display": null,
            "flex": null,
            "flex_flow": null,
            "grid_area": null,
            "grid_auto_columns": null,
            "grid_auto_flow": null,
            "grid_auto_rows": null,
            "grid_column": null,
            "grid_gap": null,
            "grid_row": null,
            "grid_template_areas": null,
            "grid_template_columns": null,
            "grid_template_rows": null,
            "height": null,
            "justify_content": null,
            "justify_items": null,
            "left": null,
            "margin": null,
            "max_height": null,
            "max_width": null,
            "min_height": null,
            "min_width": null,
            "object_fit": null,
            "object_position": null,
            "order": null,
            "overflow": null,
            "overflow_x": null,
            "overflow_y": null,
            "padding": null,
            "right": null,
            "top": null,
            "visibility": null,
            "width": null
          }
        },
        "31e6ecf3b78846cf808dfd3fd0da9362": {
          "model_module": "@jupyter-widgets/controls",
          "model_name": "DescriptionStyleModel",
          "model_module_version": "1.5.0",
          "state": {
            "_model_module": "@jupyter-widgets/controls",
            "_model_module_version": "1.5.0",
            "_model_name": "DescriptionStyleModel",
            "_view_count": null,
            "_view_module": "@jupyter-widgets/base",
            "_view_module_version": "1.2.0",
            "_view_name": "StyleView",
            "description_width": ""
          }
        }
      }
    }
  },
  "nbformat": 4,
  "nbformat_minor": 0
}