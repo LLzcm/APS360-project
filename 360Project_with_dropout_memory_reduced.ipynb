{
  "cells": [
    {
      "cell_type": "code",
      "execution_count": null,
      "metadata": {
        "colab": {
          "base_uri": "https://localhost:8080/"
        },
        "id": "c5OaH7rNT8V4",
        "outputId": "10230a84-e256-4220-8ecd-e64a4054d107"
      },
      "outputs": [
        {
          "output_type": "stream",
          "name": "stdout",
          "text": [
            "Mounted at /content/gdrive\n"
          ]
        },
        {
          "output_type": "execute_result",
          "data": {
            "text/plain": [
              "<torch._C.Generator at 0x7fade1489950>"
            ]
          },
          "metadata": {},
          "execution_count": 2
        }
      ],
      "source": [
        "import time\n",
        "import os\n",
        "import numpy as np\n",
        "import torch\n",
        "from torch.utils.data import random_split\n",
        "import torchvision\n",
        "from torchvision import datasets, models, transforms\n",
        "import matplotlib.pyplot as plt\n",
        "from google.colab import drive\n",
        "import os\n",
        "import torch.nn as nn\n",
        "drive.mount('/content/gdrive')\n",
        "torch.manual_seed(0)"
      ]
    },
    {
      "cell_type": "code",
      "execution_count": null,
      "metadata": {
        "id": "0ysSVJAEd1mM"
      },
      "outputs": [],
      "source": [
        "\n",
        "path = \"/content/gdrive/MyDrive/APS360/360Project/final_dataset\"\n",
        "train_dir = os.path.join(path, 'train/')\n",
        "val_dir = os.path.join(path, 'val/')\n",
        "test_dir = os.path.join(path, 'test/')\n",
        "classes =['Autos & Vehicles','Food & Drink','Pets & Animals','Science & Education','Sports']\n",
        "\n",
        "data_transform = transforms.Compose([transforms.RandomResizedCrop(224),transforms.RandAugment(),transforms.ToTensor()])\n",
        "train_set = datasets.ImageFolder(train_dir, transform=data_transform)\n",
        "\n",
        "data_transform = transforms.Compose([transforms.RandomResizedCrop(224),transforms.ToTensor()])\n",
        "validation_set = datasets.ImageFolder(val_dir, transform=data_transform)\n",
        "test_set = datasets.ImageFolder(test_dir, transform=data_transform)\n",
        "#Make a quick and small dataset\n",
        "#train_set,other_dataset = random_split(dataset=train_set,lengths=[3000,3000])\n",
        "#validation_set,test_set = random_split(dataset=validation_set,lengths=[750,750]) #This is half of the dataset"
      ]
    },
    {
      "cell_type": "code",
      "execution_count": null,
      "metadata": {
        "id": "sIe_Mr4KU7oY"
      },
      "outputs": [],
      "source": [
        "#Take in data\n",
        "# Train : Validation : Test = 2:1:1\n",
        "#path = \"/content/gdrive/MyDrive/APS360/360Project/small_test\"\n",
        "#file_name = os.listdir(path)\n",
        "#count_pic = 0\n",
        "#for files in file_name:\n",
        "#  count_pic+=len(os.listdir(path+\"/\"+files))\n",
        "#train_index = count_pic//2\n",
        "#validation_index = count_pic//4\n",
        "#test_index = count_pic - train_index - validation_index"
      ]
    },
    {
      "cell_type": "code",
      "execution_count": null,
      "metadata": {
        "id": "80rSrWf7VSVp"
      },
      "outputs": [],
      "source": [
        "#data_dir = \"/content/gdrive/MyDrive/APS360/360Project/small_test\"\n",
        "#classes = ['Arts _ Entertainment','Autos _ Vehicles','Beauty _ Fitness','Food _ Drink','Games','Sports']\n",
        "#data_transform = transforms.Compose([transforms.RandomResizedCrop(224),transforms.ToTensor()])\n",
        "#total_data = datasets.ImageFolder(data_dir, transform=data_transform)\n",
        "#train_set,other_dataset = random_split(dataset=total_data,lengths=[train_index,count_pic-train_index])\n",
        "#validation_set,test_set = random_split(dataset=other_dataset,lengths=[validation_index,test_index])"
      ]
    },
    {
      "cell_type": "code",
      "execution_count": null,
      "metadata": {
        "colab": {
          "base_uri": "https://localhost:8080/"
        },
        "id": "Ln01Oe6JX5A1",
        "outputId": "d1b8f636-dc77-4bd8-9487-bcb64a77471e"
      },
      "outputs": [
        {
          "output_type": "stream",
          "name": "stdout",
          "text": [
            "Num training images:  6000\n",
            "Num validation images:  1500\n",
            "Num test images:  1500\n"
          ]
        }
      ],
      "source": [
        "print('Num training images: ', len(train_set))\n",
        "print('Num validation images: ', len(validation_set))\n",
        "print('Num test images: ', len(test_set))"
      ]
    },
    {
      "cell_type": "code",
      "execution_count": null,
      "metadata": {
        "id": "_Lh99jyVYB7e"
      },
      "outputs": [],
      "source": [
        "# define dataloader parameters\n",
        "batch_size  = 500\n",
        "num_workers = 0\n",
        "train_loader = torch.utils.data.DataLoader(train_set, batch_size=batch_size,num_workers=num_workers, shuffle=True)\n",
        "val_loader = torch.utils.data.DataLoader(validation_set, batch_size=batch_size,num_workers=num_workers, shuffle=True)\n"
      ]
    },
    {
      "cell_type": "code",
      "execution_count": null,
      "metadata": {
        "id": "UmPsmi-WFh7b"
      },
      "outputs": [],
      "source": [
        "#!pip install numba\n",
        "\n",
        "#from numba import cuda \n",
        "#device = cuda.get_current_device()\n",
        "#device.reset()"
      ]
    },
    {
      "cell_type": "code",
      "execution_count": null,
      "metadata": {
        "id": "Aaf6r1gRV_o2"
      },
      "outputs": [],
      "source": [
        "#Model CNN \n",
        "import numpy as np\n",
        "import time\n",
        "import torch\n",
        "import torch.nn as nn\n",
        "import torch.nn.functional as F\n",
        "import torch.optim as optim\n",
        "import torchvision\n",
        "from torch.utils.data.sampler import SubsetRandomSampler\n",
        "import torchvision.transforms as transforms\n",
        "\n",
        "class LargeNet(nn.Module):\n",
        "    def __init__(self):\n",
        "        super(LargeNet, self).__init__()\n",
        "        self.name = \"large\"\n",
        "        self.conv1 = nn.Conv2d(3, 5, 5)\n",
        "        self.pool = nn.MaxPool2d(2, 2)\n",
        "        self.conv2 = nn.Conv2d(5, 10, 5)\n",
        "        self.conv3 = nn.Conv2d(10, 20, 4)\n",
        "        self.conv4 = nn.Conv2d(20, 40, 4)\n",
        "        self.fc1 = nn.Linear(4840, 320)\n",
        "        self.fc2 = nn.Linear(320, 6)\n",
        "\n",
        "    def forward(self, x):\n",
        "        x = self.pool(F.relu(self.conv1(x)))\n",
        "        x = self.pool(F.relu(self.conv2(x)))\n",
        "        x = self.pool(F.relu(self.conv3(x)))\n",
        "        x = self.pool(F.relu(self.conv4(x)))\n",
        "        x = x.view(-1, 4840)\n",
        "        x = F.relu(self.fc1(x))\n",
        "        x = self.fc2(x) \n",
        "        return x\n"
      ]
    },
    {
      "cell_type": "code",
      "execution_count": null,
      "metadata": {
        "id": "5eH8NJGFWXfE"
      },
      "outputs": [],
      "source": [
        "#Model Transferlearning+ANN Classifier\n",
        "# Alexnet\n",
        "\n",
        "import torchvision.models\n",
        "alexNet = torchvision.models.alexnet(pretrained=True)\n",
        "dataiter = iter(train_loader)\n",
        "images, labels = dataiter.next()\n",
        "features = alexNet.features(images)\n",
        "features.shape"
      ]
    },
    {
      "cell_type": "code",
      "execution_count": null,
      "metadata": {
        "id": "4g6ixuR_eewI"
      },
      "outputs": [],
      "source": [
        "# VGGnet\n",
        "vggNet = torch.hub.load('pytorch/vision:v0.10.0', 'vgg19', pretrained=True)\n",
        "dataiter = iter(train_loader)\n",
        "images, labels = dataiter.next()\n",
        "features = vggNet.features(images)\n",
        "features.shape"
      ]
    },
    {
      "cell_type": "code",
      "execution_count": null,
      "metadata": {
        "id": "7ajdnGpViWnt"
      },
      "outputs": [],
      "source": [
        "# ResNet\n",
        "#resNet = torch.hub.load('pytorch/vision:v0.10.0', 'resnet18', pretrained=True)\n",
        "resNet = torch.hub.load('pytorch/vision:v0.10.0', 'resnet50', pretrained=True)\n",
        "dataiter = iter(train_loader)\n",
        "images, labels = dataiter.next()\n",
        "features = resNet(images)\n",
        "features.shape"
      ]
    },
    {
      "cell_type": "code",
      "execution_count": null,
      "metadata": {
        "id": "g_a27FRfp5sc",
        "colab": {
          "base_uri": "https://localhost:8080/",
          "height": 178,
          "referenced_widgets": [
            "1ff8605023e44930a63899e4cde03142",
            "6240e741fad644ddba79cb92cb20fb4c",
            "b8ea52832b654008923b122d5e69a1c8",
            "06817a059bbe47d3ab3c0372684fc597",
            "49004dc7b43c4f34a1cc3fbeeaa705e1",
            "e6b355886e0a4ffaba463efe0a406661",
            "2896ac1336184de59539fbd577a591ba",
            "c1536673b72c40eb9659fa455f4d1ed1",
            "1cec77bb5fed47119ca6d5b9bf953ec3",
            "a5e6b8b40792495c8f54777fbc7b577e",
            "6cee739b415a47179da74d61ed69ed7c"
          ]
        },
        "outputId": "2eb724ca-9361-4719-a6ac-62e901b21489"
      },
      "outputs": [
        {
          "output_type": "stream",
          "name": "stderr",
          "text": [
            "Downloading: \"https://github.com/pytorch/vision/zipball/v0.10.0\" to /root/.cache/torch/hub/v0.10.0.zip\n",
            "/usr/local/lib/python3.7/dist-packages/torchvision/models/_utils.py:209: UserWarning: The parameter 'pretrained' is deprecated since 0.13 and will be removed in 0.15, please use 'weights' instead.\n",
            "  f\"The parameter '{pretrained_param}' is deprecated since 0.13 and will be removed in 0.15, \"\n",
            "/usr/local/lib/python3.7/dist-packages/torchvision/models/_utils.py:223: UserWarning: Arguments other than a weight enum or `None` for 'weights' are deprecated since 0.13 and will be removed in 0.15. The current behavior is equivalent to passing `weights=GoogLeNet_Weights.IMAGENET1K_V1`. You can also use `weights=GoogLeNet_Weights.DEFAULT` to get the most up-to-date weights.\n",
            "  warnings.warn(msg)\n",
            "Downloading: \"https://download.pytorch.org/models/googlenet-1378be20.pth\" to /root/.cache/torch/hub/checkpoints/googlenet-1378be20.pth\n"
          ]
        },
        {
          "output_type": "display_data",
          "data": {
            "text/plain": [
              "  0%|          | 0.00/49.7M [00:00<?, ?B/s]"
            ],
            "application/vnd.jupyter.widget-view+json": {
              "version_major": 2,
              "version_minor": 0,
              "model_id": "1ff8605023e44930a63899e4cde03142"
            }
          },
          "metadata": {}
        }
      ],
      "source": [
        "#GoogleENET\n",
        "googleNet = torch.hub.load('pytorch/vision:v0.10.0', 'googlenet', pretrained=True)\n",
        "#dataiter = iter(train_loader)\n",
        "#images, labels = dataiter.next()\n",
        "#features = googleNet(images)\n",
        "#features.shape"
      ]
    },
    {
      "cell_type": "code",
      "execution_count": null,
      "metadata": {
        "id": "OW9Dwqpk6ytP"
      },
      "outputs": [],
      "source": [
        "#EfficientNet\n",
        "!pip install --upgrade efficientnet-pytorch\n",
        "from efficientnet_pytorch import EfficientNet\n",
        "effNet = EfficientNet.from_pretrained('efficientnet-b0')\n",
        "dataiter = iter(train_loader)\n",
        "images, labels = dataiter.next()\n",
        "features = effNet(images)\n",
        "features.shape"
      ]
    },
    {
      "cell_type": "code",
      "execution_count": null,
      "metadata": {
        "id": "Okq-8eDuDcny"
      },
      "outputs": [],
      "source": [
        "#Xeception\n",
        "!pip install timm\n",
        "import timm\n",
        "xcep = timm.create_model('xception', pretrained=True)\n",
        "dataiter = iter(train_loader)\n",
        "images, labels = dataiter.next()\n",
        "features = xcep(images)\n",
        "features.shape"
      ]
    },
    {
      "cell_type": "code",
      "execution_count": null,
      "metadata": {
        "id": "P0QetsGfZP5s"
      },
      "outputs": [],
      "source": [
        "#Artifical Neural Network Architecture (alexNet)\n",
        "ALNC = alexNet.features\n",
        "\n",
        "class ANNClassifier_ALNC(nn.Module):\n",
        "    def __init__(self):\n",
        "        super(ANNClassifier_ALNC, self).__init__()\n",
        "        self.fc1 = nn.Linear(256 * 6 * 6, 10)\n",
        "        self.fc2 = nn.Linear(10, 6)\n",
        "\n",
        "    def forward(self, x):\n",
        "        x = x.view(-1, 256 * 6 * 6) #flatten feature data\n",
        "        x = F.relu(self.fc1(x))\n",
        "        x = self.fc2(x)\n",
        "        return x"
      ]
    },
    {
      "cell_type": "code",
      "execution_count": null,
      "metadata": {
        "id": "v7rdZQeOe4ce"
      },
      "outputs": [],
      "source": [
        "#Artifical Neural Network Architecture (vggNet)\n",
        "VGG = vggNet.features\n",
        "class ANNClassifier_VGG(nn.Module):\n",
        "    def __init__(self):\n",
        "        super(ANNClassifier_VGG, self).__init__()\n",
        "        self.fc1 = nn.Linear(512 * 7 * 7, 10)\n",
        "        self.fc2 = nn.Linear(10, 6)\n",
        "\n",
        "    def forward(self, x):\n",
        "        x = x.view(-1, 512 * 7 * 7) #flatten feature data\n",
        "        x = F.relu(self.fc1(x))\n",
        "        x = self.fc2(x)\n",
        "        return x"
      ]
    },
    {
      "cell_type": "code",
      "execution_count": null,
      "metadata": {
        "id": "oF4VNPaSi9rm"
      },
      "outputs": [],
      "source": [
        "#Artifical Neural Network Architecture (resNet)\n",
        "RES = resNet\n",
        "class ANNClassifier_RES(nn.Module):\n",
        "    def __init__(self):\n",
        "        super(ANNClassifier_RES, self).__init__()\n",
        "        self.fc1 = nn.Linear(1000, 100)\n",
        "        self.fc2 = nn.Linear(100, 10)\n",
        "        self.fc3 = nn.Linear(10, 6)\n",
        "\n",
        "    def forward(self, x):\n",
        "        x = x.view(-1, 1000) #flatten feature data\n",
        "        x = F.relu(self.fc1(x))\n",
        "        x = self.fc2(x)\n",
        "        x = self.fc3(x)\n",
        "        return x"
      ]
    },
    {
      "cell_type": "code",
      "execution_count": null,
      "metadata": {
        "id": "IoN5bvmuqVNc"
      },
      "outputs": [],
      "source": [
        "#Artifical Neural Network Architecture (GoogleNet)\n",
        "Google = googleNet\n",
        "class ANNClassifier_GOOGLE(nn.Module):\n",
        "    def __init__(self):\n",
        "        super(ANNClassifier_GOOGLE, self).__init__()\n",
        "        self.fc1 = nn.Sequential(nn.Dropout(0.5),nn.Linear(1000,6))\n",
        "        #self.fc2 = nn.Linear(10, 6)\n",
        "    def forward(self, x):\n",
        "        x = x.view(-1, 1000) #flatten feature data\n",
        "        x = F.relu(self.fc1(x))\n",
        "        #x = self.fc2(x)\n",
        "        return x"
      ]
    },
    {
      "cell_type": "code",
      "execution_count": null,
      "metadata": {
        "id": "Mi6O2Emn8Hc1"
      },
      "outputs": [],
      "source": [
        "#Artifical Neural Network Architecture (EfficientNet)\n",
        "EFF = effNet\n",
        "class ANNClassifier_EFF(nn.Module):\n",
        "    def __init__(self):\n",
        "        super(ANNClassifier_EFF, self).__init__()\n",
        "        self.fc1 = nn.Linear(1000, 10)\n",
        "        self.fc2 = nn.Linear(10, 6)\n",
        "\n",
        "    def forward(self, x):\n",
        "        x = x.view(-1, 1000) #flatten feature data\n",
        "        x = F.relu(self.fc1(x))\n",
        "        x = self.fc2(x)\n",
        "        return x"
      ]
    },
    {
      "cell_type": "code",
      "execution_count": null,
      "metadata": {
        "id": "NHbjtrq7Eflo"
      },
      "outputs": [],
      "source": [
        "#Artifical Neural Network Architecture (Exception)\n",
        "EXP = xcep\n",
        "class ANNClassifier_EXP(nn.Module):\n",
        "    def __init__(self):\n",
        "        super(ANNClassifier_EXP, self).__init__()\n",
        "        self.fc1 = nn.Linear(1000, 10)\n",
        "        self.fc2 = nn.Linear(10, 6)\n",
        "\n",
        "    def forward(self, x):\n",
        "        x = x.view(-1, 1000) #flatten feature data\n",
        "        x = F.relu(self.fc1(x))\n",
        "        x = self.fc2(x)\n",
        "        return x"
      ]
    },
    {
      "cell_type": "markdown",
      "metadata": {
        "id": "6X801oYTZhXi"
      },
      "source": [
        "Helper function"
      ]
    },
    {
      "cell_type": "code",
      "execution_count": null,
      "metadata": {
        "id": "FOm1VXF-ZfKP"
      },
      "outputs": [],
      "source": [
        "def get_accuracy(model, train=False):\n",
        "    model.eval()\n",
        "    with torch.no_grad():\n",
        "      if train:\n",
        "          data_loader = train_loader\n",
        "      else:\n",
        "          data_loader = val_loader\n",
        "\n",
        "      correct = 0\n",
        "      total = 0\n",
        "      for imgs, labels in data_loader:\n",
        "        \n",
        "         \n",
        "        #############################################\n",
        "        #To Enable GPU Usage\n",
        "        if use_cuda and torch.cuda.is_available():\n",
        "          imgs = imgs.cuda()\n",
        "          labels = labels.cuda()\n",
        "        #############################################\n",
        "        #改这里 change here to switch model\n",
        "        output = model(Google(imgs))\n",
        "        \n",
        "        #select index with maximum prediction score\n",
        "        pred = output.max(1, keepdim=True)[1]\n",
        "        correct += pred.eq(labels.view_as(pred)).sum().item()\n",
        "        total += imgs.shape[0]\n",
        "    return correct / total"
      ]
    },
    {
      "cell_type": "markdown",
      "metadata": {
        "id": "cXdCkWkda9gk"
      },
      "source": [
        "Train code\n"
      ]
    },
    {
      "cell_type": "code",
      "execution_count": null,
      "metadata": {
        "id": "Nm_XPXy6ZkdJ"
      },
      "outputs": [],
      "source": [
        "def train(model, data, lr,batch_size, num_epochs=1,train_loader=train_loader):\n",
        "    #train_loader = torch.utils.data.DataLoader(data, batch_size=batch_size)\n",
        "    # train_loader = torch.utils.data.DataLoader(train_data, batch_size=batch_size, \n",
        "                                           #num_workers=num_workers, shuffle=True)\n",
        "    criterion = nn.CrossEntropyLoss()\n",
        "    optimizer = optim.SGD(model.parameters(), lr=lr, momentum=0.9)\n",
        "\n",
        "    iters, losses, train_acc, val_acc = [], [], [], []\n",
        "\n",
        "    # training\n",
        "    n = 0 # the number of iterations\n",
        "    start_time=time.time()\n",
        "    for epoch in range(num_epochs):\n",
        "        model.train()\n",
        "        mini_b=0\n",
        "        mini_batch_correct = 0\n",
        "        Mini_batch_total = 0\n",
        "        for imgs, labels in iter(train_loader):\n",
        "          \n",
        "            \n",
        "            #############################################\n",
        "            #To Enable GPU Usage\n",
        "            if use_cuda and torch.cuda.is_available():\n",
        "              imgs = imgs.cuda()\n",
        "              labels = labels.cuda()\n",
        "            #############################################\n",
        "\n",
        "          #### ALNC is alexNet.features (AlexNet without classifier) ####\n",
        "          #### VGG is vggNet.fearures (VggNet without classifier) ####\n",
        "          #### RES is resNet\n",
        "          #改这里 change here to switch model\n",
        "            out = model(Google(imgs))             # forward pass\n",
        "            loss = criterion(out, labels) # compute the total loss\n",
        "            loss.backward()               # backward pass (compute parameter updates)\n",
        "            optimizer.step()              # make the updates for each parameter\n",
        "            optimizer.zero_grad()         # a clean up step for PyTorch\n",
        "\n",
        "\n",
        "\n",
        "            ##### Mini_batch Accuracy ##### We don't compute accuracy on the whole training set in every iteration!\n",
        "            pred = out.max(1, keepdim=True)[1]\n",
        "            mini_batch_correct = pred.eq(labels.view_as(pred)).sum().item()\n",
        "            Mini_batch_total = imgs.shape[0]\n",
        "            train_acc.append((mini_batch_correct / Mini_batch_total))\n",
        "           ###########################\n",
        "\n",
        "          # save the current training information\n",
        "            iters.append(n)\n",
        "            losses.append(float(loss)/batch_size)             # compute *average* loss\n",
        "            val_acc.append(get_accuracy(model, train=False))  # compute validation accuracy\n",
        "            n += 1\n",
        "            mini_b += 1\n",
        "            print(\"Iteration: \",n,'Progress: % 6.2f ' % ((epoch * len(train_loader) + mini_b) / (num_epochs * len(train_loader))*100),'%', \"Time Elapsed: % 6.2f s \" % (time.time()-start_time))\n",
        "\n",
        "\n",
        "        print (\"Epoch %d Finished. \" % epoch ,\"Time per Epoch: % 6.2f s \"% ((time.time()-start_time) / (epoch +1)))\n",
        "        model_path = get_model_name(\"google_drop_out_full_last\", batch_size=batch_size, learning_rate=lr, epoch=epoch)\n",
        "        torch.save(model.state_dict(), model_path)\n",
        "\n",
        "    end_time= time.time()\n",
        "    # plotting\n",
        "    plt.title(\"Training Curve\")\n",
        "    plt.plot(iters, losses, label=\"Train\")\n",
        "    plt.xlabel(\"Iterations\")\n",
        "    plt.ylabel(\"Loss\")\n",
        "    plt.show()\n",
        "\n",
        "    plt.title(\"Training Curve\")\n",
        "    plt.plot(iters, train_acc, label=\"Training\")\n",
        "    plt.plot(iters, val_acc, label=\"Validation\")    \n",
        "    plt.xlabel(\"Iterations\")\n",
        "    plt.ylabel(\"Validation Accuracy\")\n",
        "    plt.legend(loc='best')\n",
        "    plt.show()\n",
        "\n",
        "    train_acc.append(get_accuracy(model, train=True))\n",
        "    print(\"Final Training Accuracy: {}\".format(train_acc[-1]))\n",
        "    print(\"Final Validation Accuracy: {}\".format(val_acc[-1]))\n",
        "    print (\"Total time:  % 6.2f s  Time per Epoch: % 6.2f s \" % ( (end_time-start_time), ((end_time-start_time) / num_epochs) ))\n",
        "    "
      ]
    },
    {
      "cell_type": "code",
      "execution_count": null,
      "metadata": {
        "id": "Y3QzXDOgDYcz"
      },
      "outputs": [],
      "source": [
        "def get_model_name(name, batch_size, learning_rate, epoch):\n",
        "    \"\"\" Generate a name for the model consisting of all the hyperparameter values\n",
        "\n",
        "    Args:\n",
        "        config: Configuration object containing the hyperparameters\n",
        "    Returns:\n",
        "        path: A string with the hyperparameter name and value concatenated\n",
        "    \"\"\"\n",
        "    path = \"/content/gdrive/MyDrive/APS360/360Project/Models/model_{0}_bs{1}_lr{2}_epoch{3}\".format(name,\n",
        "                                                   batch_size,\n",
        "                                                   learning_rate,\n",
        "                                                   epoch)\n",
        "    return path"
      ]
    },
    {
      "cell_type": "code",
      "execution_count": null,
      "metadata": {
        "id": "CEX9DBDdbDWZ",
        "colab": {
          "base_uri": "https://localhost:8080/",
          "height": 1000
        },
        "outputId": "a744a3cc-97ca-412c-cc0e-ac8756e2e736"
      },
      "outputs": [
        {
          "output_type": "stream",
          "name": "stdout",
          "text": [
            "A100-SXM4-40GB\n",
            "CUDA is available!  Training on GPU ...\n",
            "Iteration:  1 Progress:   0.28  % Time Elapsed:  512.50 s \n",
            "Iteration:  2 Progress:   0.56  % Time Elapsed:  725.73 s \n",
            "Iteration:  3 Progress:   0.83  % Time Elapsed:  835.35 s \n",
            "Iteration:  4 Progress:   1.11  % Time Elapsed:  940.47 s \n",
            "Iteration:  5 Progress:   1.39  % Time Elapsed:  1040.72 s \n",
            "Iteration:  6 Progress:   1.67  % Time Elapsed:  1144.46 s \n",
            "Iteration:  7 Progress:   1.94  % Time Elapsed:  1248.24 s \n",
            "Iteration:  8 Progress:   2.22  % Time Elapsed:  1350.48 s \n",
            "Iteration:  9 Progress:   2.50  % Time Elapsed:  1453.68 s \n",
            "Iteration:  10 Progress:   2.78  % Time Elapsed:  1556.04 s \n",
            "Iteration:  11 Progress:   3.06  % Time Elapsed:  1658.00 s \n",
            "Iteration:  12 Progress:   3.33  % Time Elapsed:  1759.14 s \n",
            "Epoch 0 Finished.  Time per Epoch:  1759.14 s \n",
            "Iteration:  13 Progress:   3.61  % Time Elapsed:  1794.17 s \n",
            "Iteration:  14 Progress:   3.89  % Time Elapsed:  1829.18 s \n",
            "Iteration:  15 Progress:   4.17  % Time Elapsed:  1864.18 s \n",
            "Iteration:  16 Progress:   4.44  % Time Elapsed:  1898.91 s \n",
            "Iteration:  17 Progress:   4.72  % Time Elapsed:  1933.81 s \n",
            "Iteration:  18 Progress:   5.00  % Time Elapsed:  1968.93 s \n",
            "Iteration:  19 Progress:   5.28  % Time Elapsed:  2004.08 s \n",
            "Iteration:  20 Progress:   5.56  % Time Elapsed:  2039.29 s \n",
            "Iteration:  21 Progress:   5.83  % Time Elapsed:  2074.45 s \n",
            "Iteration:  22 Progress:   6.11  % Time Elapsed:  2109.35 s \n",
            "Iteration:  23 Progress:   6.39  % Time Elapsed:  2144.61 s \n",
            "Iteration:  24 Progress:   6.67  % Time Elapsed:  2179.60 s \n",
            "Epoch 1 Finished.  Time per Epoch:  1089.80 s \n",
            "Iteration:  25 Progress:   6.94  % Time Elapsed:  2214.60 s \n",
            "Iteration:  26 Progress:   7.22  % Time Elapsed:  2249.80 s \n",
            "Iteration:  27 Progress:   7.50  % Time Elapsed:  2284.59 s \n",
            "Iteration:  28 Progress:   7.78  % Time Elapsed:  2319.84 s \n",
            "Iteration:  29 Progress:   8.06  % Time Elapsed:  2354.84 s \n",
            "Iteration:  30 Progress:   8.33  % Time Elapsed:  2389.77 s \n",
            "Iteration:  31 Progress:   8.61  % Time Elapsed:  2424.68 s \n",
            "Iteration:  32 Progress:   8.89  % Time Elapsed:  2459.80 s \n",
            "Iteration:  33 Progress:   9.17  % Time Elapsed:  2494.79 s \n",
            "Iteration:  34 Progress:   9.44  % Time Elapsed:  2530.07 s \n",
            "Iteration:  35 Progress:   9.72  % Time Elapsed:  2564.98 s \n",
            "Iteration:  36 Progress:  10.00  % Time Elapsed:  2600.14 s \n",
            "Epoch 2 Finished.  Time per Epoch:  866.71 s \n",
            "Iteration:  37 Progress:  10.28  % Time Elapsed:  2635.37 s \n",
            "Iteration:  38 Progress:  10.56  % Time Elapsed:  2670.63 s \n",
            "Iteration:  39 Progress:  10.83  % Time Elapsed:  2705.95 s \n",
            "Iteration:  40 Progress:  11.11  % Time Elapsed:  2740.86 s \n",
            "Iteration:  41 Progress:  11.39  % Time Elapsed:  2775.97 s \n",
            "Iteration:  42 Progress:  11.67  % Time Elapsed:  2810.98 s \n",
            "Iteration:  43 Progress:  11.94  % Time Elapsed:  2845.91 s \n",
            "Iteration:  44 Progress:  12.22  % Time Elapsed:  2881.07 s \n",
            "Iteration:  45 Progress:  12.50  % Time Elapsed:  2916.14 s \n",
            "Iteration:  46 Progress:  12.78  % Time Elapsed:  2951.31 s \n",
            "Iteration:  47 Progress:  13.06  % Time Elapsed:  2986.40 s \n",
            "Iteration:  48 Progress:  13.33  % Time Elapsed:  3021.55 s \n",
            "Epoch 3 Finished.  Time per Epoch:  755.39 s \n",
            "Iteration:  49 Progress:  13.61  % Time Elapsed:  3056.53 s \n",
            "Iteration:  50 Progress:  13.89  % Time Elapsed:  3091.74 s \n",
            "Iteration:  51 Progress:  14.17  % Time Elapsed:  3126.75 s \n",
            "Iteration:  52 Progress:  14.44  % Time Elapsed:  3161.73 s \n",
            "Iteration:  53 Progress:  14.72  % Time Elapsed:  3196.74 s \n",
            "Iteration:  54 Progress:  15.00  % Time Elapsed:  3231.96 s \n",
            "Iteration:  55 Progress:  15.28  % Time Elapsed:  3267.25 s \n",
            "Iteration:  56 Progress:  15.56  % Time Elapsed:  3302.37 s \n",
            "Iteration:  57 Progress:  15.83  % Time Elapsed:  3337.38 s \n",
            "Iteration:  58 Progress:  16.11  % Time Elapsed:  3372.42 s \n",
            "Iteration:  59 Progress:  16.39  % Time Elapsed:  3407.58 s \n",
            "Iteration:  60 Progress:  16.67  % Time Elapsed:  3442.88 s \n",
            "Epoch 4 Finished.  Time per Epoch:  688.58 s \n",
            "Iteration:  61 Progress:  16.94  % Time Elapsed:  3477.92 s \n",
            "Iteration:  62 Progress:  17.22  % Time Elapsed:  3513.19 s \n",
            "Iteration:  63 Progress:  17.50  % Time Elapsed:  3548.39 s \n",
            "Iteration:  64 Progress:  17.78  % Time Elapsed:  3583.57 s \n",
            "Iteration:  65 Progress:  18.06  % Time Elapsed:  3618.75 s \n",
            "Iteration:  66 Progress:  18.33  % Time Elapsed:  3653.87 s \n",
            "Iteration:  67 Progress:  18.61  % Time Elapsed:  3689.13 s \n",
            "Iteration:  68 Progress:  18.89  % Time Elapsed:  3724.22 s \n",
            "Iteration:  69 Progress:  19.17  % Time Elapsed:  3759.22 s \n",
            "Iteration:  70 Progress:  19.44  % Time Elapsed:  3794.27 s \n",
            "Iteration:  71 Progress:  19.72  % Time Elapsed:  3829.61 s \n",
            "Iteration:  72 Progress:  20.00  % Time Elapsed:  3864.87 s \n",
            "Epoch 5 Finished.  Time per Epoch:  644.14 s \n",
            "Iteration:  73 Progress:  20.28  % Time Elapsed:  3900.13 s \n",
            "Iteration:  74 Progress:  20.56  % Time Elapsed:  3935.16 s \n",
            "Iteration:  75 Progress:  20.83  % Time Elapsed:  3970.17 s \n",
            "Iteration:  76 Progress:  21.11  % Time Elapsed:  4005.18 s \n",
            "Iteration:  77 Progress:  21.39  % Time Elapsed:  4040.35 s \n",
            "Iteration:  78 Progress:  21.67  % Time Elapsed:  4075.57 s \n",
            "Iteration:  79 Progress:  21.94  % Time Elapsed:  4110.97 s \n",
            "Iteration:  80 Progress:  22.22  % Time Elapsed:  4146.01 s \n",
            "Iteration:  81 Progress:  22.50  % Time Elapsed:  4181.59 s \n",
            "Iteration:  82 Progress:  22.78  % Time Elapsed:  4216.73 s \n",
            "Iteration:  83 Progress:  23.06  % Time Elapsed:  4251.75 s \n",
            "Iteration:  84 Progress:  23.33  % Time Elapsed:  4286.85 s \n",
            "Epoch 6 Finished.  Time per Epoch:  612.41 s \n",
            "Iteration:  85 Progress:  23.61  % Time Elapsed:  4322.09 s \n",
            "Iteration:  86 Progress:  23.89  % Time Elapsed:  4357.48 s \n",
            "Iteration:  87 Progress:  24.17  % Time Elapsed:  4392.73 s \n",
            "Iteration:  88 Progress:  24.44  % Time Elapsed:  4427.76 s \n",
            "Iteration:  89 Progress:  24.72  % Time Elapsed:  4462.86 s \n",
            "Iteration:  90 Progress:  25.00  % Time Elapsed:  4497.90 s \n",
            "Iteration:  91 Progress:  25.28  % Time Elapsed:  4533.24 s \n",
            "Iteration:  92 Progress:  25.56  % Time Elapsed:  4568.35 s \n",
            "Iteration:  93 Progress:  25.83  % Time Elapsed:  4603.48 s \n",
            "Iteration:  94 Progress:  26.11  % Time Elapsed:  4638.53 s \n",
            "Iteration:  95 Progress:  26.39  % Time Elapsed:  4673.63 s \n",
            "Iteration:  96 Progress:  26.67  % Time Elapsed:  4708.81 s \n",
            "Epoch 7 Finished.  Time per Epoch:  588.60 s \n",
            "Iteration:  97 Progress:  26.94  % Time Elapsed:  4744.07 s \n",
            "Iteration:  98 Progress:  27.22  % Time Elapsed:  4779.35 s \n",
            "Iteration:  99 Progress:  27.50  % Time Elapsed:  4814.68 s \n",
            "Iteration:  100 Progress:  27.78  % Time Elapsed:  4849.85 s \n",
            "Iteration:  101 Progress:  28.06  % Time Elapsed:  4884.92 s \n",
            "Iteration:  102 Progress:  28.33  % Time Elapsed:  4920.25 s \n",
            "Iteration:  103 Progress:  28.61  % Time Elapsed:  4955.55 s \n",
            "Iteration:  104 Progress:  28.89  % Time Elapsed:  4990.74 s \n",
            "Iteration:  105 Progress:  29.17  % Time Elapsed:  5025.76 s \n",
            "Iteration:  106 Progress:  29.44  % Time Elapsed:  5061.07 s \n",
            "Iteration:  107 Progress:  29.72  % Time Elapsed:  5096.35 s \n",
            "Iteration:  108 Progress:  30.00  % Time Elapsed:  5131.86 s \n",
            "Epoch 8 Finished.  Time per Epoch:  570.21 s \n",
            "Iteration:  109 Progress:  30.28  % Time Elapsed:  5167.01 s \n",
            "Iteration:  110 Progress:  30.56  % Time Elapsed:  5201.94 s \n",
            "Iteration:  111 Progress:  30.83  % Time Elapsed:  5237.16 s \n",
            "Iteration:  112 Progress:  31.11  % Time Elapsed:  5272.40 s \n",
            "Iteration:  113 Progress:  31.39  % Time Elapsed:  5307.60 s \n",
            "Iteration:  114 Progress:  31.67  % Time Elapsed:  5342.86 s \n",
            "Iteration:  115 Progress:  31.94  % Time Elapsed:  5378.00 s \n",
            "Iteration:  116 Progress:  32.22  % Time Elapsed:  5413.09 s \n",
            "Iteration:  117 Progress:  32.50  % Time Elapsed:  5448.20 s \n",
            "Iteration:  118 Progress:  32.78  % Time Elapsed:  5483.65 s \n",
            "Iteration:  119 Progress:  33.06  % Time Elapsed:  5518.80 s \n",
            "Iteration:  120 Progress:  33.33  % Time Elapsed:  5554.05 s \n",
            "Epoch 9 Finished.  Time per Epoch:  555.41 s \n",
            "Iteration:  121 Progress:  33.61  % Time Elapsed:  5589.37 s \n",
            "Iteration:  122 Progress:  33.89  % Time Elapsed:  5624.50 s \n",
            "Iteration:  123 Progress:  34.17  % Time Elapsed:  5659.46 s \n",
            "Iteration:  124 Progress:  34.44  % Time Elapsed:  5694.71 s \n",
            "Iteration:  125 Progress:  34.72  % Time Elapsed:  5729.90 s \n",
            "Iteration:  126 Progress:  35.00  % Time Elapsed:  5765.14 s \n",
            "Iteration:  127 Progress:  35.28  % Time Elapsed:  5800.16 s \n",
            "Iteration:  128 Progress:  35.56  % Time Elapsed:  5835.44 s \n",
            "Iteration:  129 Progress:  35.83  % Time Elapsed:  5870.66 s \n",
            "Iteration:  130 Progress:  36.11  % Time Elapsed:  5905.91 s \n",
            "Iteration:  131 Progress:  36.39  % Time Elapsed:  5941.05 s \n",
            "Iteration:  132 Progress:  36.67  % Time Elapsed:  5976.18 s \n",
            "Epoch 10 Finished.  Time per Epoch:  543.29 s \n",
            "Iteration:  133 Progress:  36.94  % Time Elapsed:  6011.38 s \n",
            "Iteration:  134 Progress:  37.22  % Time Elapsed:  6046.71 s \n",
            "Iteration:  135 Progress:  37.50  % Time Elapsed:  6081.96 s \n",
            "Iteration:  136 Progress:  37.78  % Time Elapsed:  6117.01 s \n",
            "Iteration:  137 Progress:  38.06  % Time Elapsed:  6152.18 s \n",
            "Iteration:  138 Progress:  38.33  % Time Elapsed:  6187.23 s \n",
            "Iteration:  139 Progress:  38.61  % Time Elapsed:  6222.56 s \n",
            "Iteration:  140 Progress:  38.89  % Time Elapsed:  6257.87 s \n",
            "Iteration:  141 Progress:  39.17  % Time Elapsed:  6293.16 s \n",
            "Iteration:  142 Progress:  39.44  % Time Elapsed:  6328.31 s \n",
            "Iteration:  143 Progress:  39.72  % Time Elapsed:  6363.57 s \n",
            "Iteration:  144 Progress:  40.00  % Time Elapsed:  6398.97 s \n",
            "Epoch 11 Finished.  Time per Epoch:  533.25 s \n",
            "Iteration:  145 Progress:  40.28  % Time Elapsed:  6434.34 s \n",
            "Iteration:  146 Progress:  40.56  % Time Elapsed:  6469.64 s \n",
            "Iteration:  147 Progress:  40.83  % Time Elapsed:  6504.94 s \n",
            "Iteration:  148 Progress:  41.11  % Time Elapsed:  6539.98 s \n",
            "Iteration:  149 Progress:  41.39  % Time Elapsed:  6575.11 s \n",
            "Iteration:  150 Progress:  41.67  % Time Elapsed:  6610.40 s \n",
            "Iteration:  151 Progress:  41.94  % Time Elapsed:  6645.62 s \n",
            "Iteration:  152 Progress:  42.22  % Time Elapsed:  6680.91 s \n",
            "Iteration:  153 Progress:  42.50  % Time Elapsed:  6715.88 s \n",
            "Iteration:  154 Progress:  42.78  % Time Elapsed:  6751.17 s \n",
            "Iteration:  155 Progress:  43.06  % Time Elapsed:  6786.60 s \n",
            "Iteration:  156 Progress:  43.33  % Time Elapsed:  6821.75 s \n",
            "Epoch 12 Finished.  Time per Epoch:  524.75 s \n",
            "Iteration:  157 Progress:  43.61  % Time Elapsed:  6856.86 s \n",
            "Iteration:  158 Progress:  43.89  % Time Elapsed:  6892.25 s \n",
            "Iteration:  159 Progress:  44.17  % Time Elapsed:  6927.62 s \n",
            "Iteration:  160 Progress:  44.44  % Time Elapsed:  6962.90 s \n",
            "Iteration:  161 Progress:  44.72  % Time Elapsed:  6998.26 s \n",
            "Iteration:  162 Progress:  45.00  % Time Elapsed:  7033.60 s \n",
            "Iteration:  163 Progress:  45.28  % Time Elapsed:  7068.77 s \n",
            "Iteration:  164 Progress:  45.56  % Time Elapsed:  7103.97 s \n",
            "Iteration:  165 Progress:  45.83  % Time Elapsed:  7139.16 s \n",
            "Iteration:  166 Progress:  46.11  % Time Elapsed:  7174.50 s \n",
            "Iteration:  167 Progress:  46.39  % Time Elapsed:  7209.55 s \n",
            "Iteration:  168 Progress:  46.67  % Time Elapsed:  7244.77 s \n",
            "Epoch 13 Finished.  Time per Epoch:  517.48 s \n",
            "Iteration:  169 Progress:  46.94  % Time Elapsed:  7280.05 s \n",
            "Iteration:  170 Progress:  47.22  % Time Elapsed:  7315.44 s \n",
            "Iteration:  171 Progress:  47.50  % Time Elapsed:  7350.77 s \n",
            "Iteration:  172 Progress:  47.78  % Time Elapsed:  7385.90 s \n",
            "Iteration:  173 Progress:  48.06  % Time Elapsed:  7421.15 s \n",
            "Iteration:  174 Progress:  48.33  % Time Elapsed:  7456.27 s \n",
            "Iteration:  175 Progress:  48.61  % Time Elapsed:  7491.51 s \n",
            "Iteration:  176 Progress:  48.89  % Time Elapsed:  7526.80 s \n",
            "Iteration:  177 Progress:  49.17  % Time Elapsed:  7562.13 s \n",
            "Iteration:  178 Progress:  49.44  % Time Elapsed:  7597.42 s \n",
            "Iteration:  179 Progress:  49.72  % Time Elapsed:  7632.69 s \n",
            "Iteration:  180 Progress:  50.00  % Time Elapsed:  7667.98 s \n",
            "Epoch 14 Finished.  Time per Epoch:  511.20 s \n",
            "Iteration:  181 Progress:  50.28  % Time Elapsed:  7703.05 s \n",
            "Iteration:  182 Progress:  50.56  % Time Elapsed:  7738.04 s \n",
            "Iteration:  183 Progress:  50.83  % Time Elapsed:  7772.89 s \n",
            "Iteration:  184 Progress:  51.11  % Time Elapsed:  7807.98 s \n",
            "Iteration:  185 Progress:  51.39  % Time Elapsed:  7843.23 s \n",
            "Iteration:  186 Progress:  51.67  % Time Elapsed:  7878.35 s \n",
            "Iteration:  187 Progress:  51.94  % Time Elapsed:  7913.52 s \n",
            "Iteration:  188 Progress:  52.22  % Time Elapsed:  7948.57 s \n",
            "Iteration:  189 Progress:  52.50  % Time Elapsed:  7983.42 s \n",
            "Iteration:  190 Progress:  52.78  % Time Elapsed:  8018.43 s \n",
            "Iteration:  191 Progress:  53.06  % Time Elapsed:  8053.48 s \n",
            "Iteration:  192 Progress:  53.33  % Time Elapsed:  8088.53 s \n",
            "Epoch 15 Finished.  Time per Epoch:  505.53 s \n",
            "Iteration:  193 Progress:  53.61  % Time Elapsed:  8123.50 s \n",
            "Iteration:  194 Progress:  53.89  % Time Elapsed:  8158.49 s \n",
            "Iteration:  195 Progress:  54.17  % Time Elapsed:  8193.56 s \n",
            "Iteration:  196 Progress:  54.44  % Time Elapsed:  8228.63 s \n",
            "Iteration:  197 Progress:  54.72  % Time Elapsed:  8263.64 s \n",
            "Iteration:  198 Progress:  55.00  % Time Elapsed:  8299.01 s \n",
            "Iteration:  199 Progress:  55.28  % Time Elapsed:  8334.03 s \n",
            "Iteration:  200 Progress:  55.56  % Time Elapsed:  8369.00 s \n",
            "Iteration:  201 Progress:  55.83  % Time Elapsed:  8403.92 s \n",
            "Iteration:  202 Progress:  56.11  % Time Elapsed:  8438.90 s \n",
            "Iteration:  203 Progress:  56.39  % Time Elapsed:  8473.87 s \n",
            "Iteration:  204 Progress:  56.67  % Time Elapsed:  8508.85 s \n",
            "Epoch 16 Finished.  Time per Epoch:  500.52 s \n",
            "Iteration:  205 Progress:  56.94  % Time Elapsed:  8544.11 s \n",
            "Iteration:  206 Progress:  57.22  % Time Elapsed:  8579.23 s \n",
            "Iteration:  207 Progress:  57.50  % Time Elapsed:  8614.16 s \n",
            "Iteration:  208 Progress:  57.78  % Time Elapsed:  8649.04 s \n",
            "Iteration:  209 Progress:  58.06  % Time Elapsed:  8684.16 s \n",
            "Iteration:  210 Progress:  58.33  % Time Elapsed:  8719.31 s \n",
            "Iteration:  211 Progress:  58.61  % Time Elapsed:  8754.40 s \n",
            "Iteration:  212 Progress:  58.89  % Time Elapsed:  8789.53 s \n",
            "Iteration:  213 Progress:  59.17  % Time Elapsed:  8824.62 s \n",
            "Iteration:  214 Progress:  59.44  % Time Elapsed:  8859.82 s \n",
            "Iteration:  215 Progress:  59.72  % Time Elapsed:  8894.81 s \n",
            "Iteration:  216 Progress:  60.00  % Time Elapsed:  8929.94 s \n",
            "Epoch 17 Finished.  Time per Epoch:  496.11 s \n",
            "Iteration:  217 Progress:  60.28  % Time Elapsed:  8964.90 s \n",
            "Iteration:  218 Progress:  60.56  % Time Elapsed:  9000.06 s \n",
            "Iteration:  219 Progress:  60.83  % Time Elapsed:  9035.21 s \n",
            "Iteration:  220 Progress:  61.11  % Time Elapsed:  9070.00 s \n",
            "Iteration:  221 Progress:  61.39  % Time Elapsed:  9105.00 s \n",
            "Iteration:  222 Progress:  61.67  % Time Elapsed:  9140.34 s \n",
            "Iteration:  223 Progress:  61.94  % Time Elapsed:  9175.37 s \n",
            "Iteration:  224 Progress:  62.22  % Time Elapsed:  9210.34 s \n",
            "Iteration:  225 Progress:  62.50  % Time Elapsed:  9245.43 s \n",
            "Iteration:  226 Progress:  62.78  % Time Elapsed:  9280.57 s \n",
            "Iteration:  227 Progress:  63.06  % Time Elapsed:  9315.82 s \n",
            "Iteration:  228 Progress:  63.33  % Time Elapsed:  9350.93 s \n",
            "Epoch 18 Finished.  Time per Epoch:  492.15 s \n",
            "Iteration:  229 Progress:  63.61  % Time Elapsed:  9386.23 s \n",
            "Iteration:  230 Progress:  63.89  % Time Elapsed:  9421.22 s \n",
            "Iteration:  231 Progress:  64.17  % Time Elapsed:  9456.31 s \n",
            "Iteration:  232 Progress:  64.44  % Time Elapsed:  9491.58 s \n",
            "Iteration:  233 Progress:  64.72  % Time Elapsed:  9526.60 s \n",
            "Iteration:  234 Progress:  65.00  % Time Elapsed:  9561.58 s \n",
            "Iteration:  235 Progress:  65.28  % Time Elapsed:  9596.71 s \n",
            "Iteration:  236 Progress:  65.56  % Time Elapsed:  9631.50 s \n",
            "Iteration:  237 Progress:  65.83  % Time Elapsed:  9666.40 s \n",
            "Iteration:  238 Progress:  66.11  % Time Elapsed:  9701.22 s \n",
            "Iteration:  239 Progress:  66.39  % Time Elapsed:  9736.24 s \n",
            "Iteration:  240 Progress:  66.67  % Time Elapsed:  9771.19 s \n",
            "Epoch 19 Finished.  Time per Epoch:  488.56 s \n",
            "Iteration:  241 Progress:  66.94  % Time Elapsed:  9806.06 s \n",
            "Iteration:  242 Progress:  67.22  % Time Elapsed:  9841.04 s \n",
            "Iteration:  243 Progress:  67.50  % Time Elapsed:  9876.08 s \n",
            "Iteration:  244 Progress:  67.78  % Time Elapsed:  9911.17 s \n",
            "Iteration:  245 Progress:  68.06  % Time Elapsed:  9946.51 s \n",
            "Iteration:  246 Progress:  68.33  % Time Elapsed:  9981.45 s \n",
            "Iteration:  247 Progress:  68.61  % Time Elapsed:  10016.38 s \n",
            "Iteration:  248 Progress:  68.89  % Time Elapsed:  10051.44 s \n",
            "Iteration:  249 Progress:  69.17  % Time Elapsed:  10086.40 s \n",
            "Iteration:  250 Progress:  69.44  % Time Elapsed:  10121.28 s \n",
            "Iteration:  251 Progress:  69.72  % Time Elapsed:  10156.39 s \n",
            "Iteration:  252 Progress:  70.00  % Time Elapsed:  10191.44 s \n",
            "Epoch 20 Finished.  Time per Epoch:  485.31 s \n",
            "Iteration:  253 Progress:  70.28  % Time Elapsed:  10226.70 s \n",
            "Iteration:  254 Progress:  70.56  % Time Elapsed:  10261.79 s \n",
            "Iteration:  255 Progress:  70.83  % Time Elapsed:  10296.87 s \n",
            "Iteration:  256 Progress:  71.11  % Time Elapsed:  10331.77 s \n",
            "Iteration:  257 Progress:  71.39  % Time Elapsed:  10367.13 s \n",
            "Iteration:  258 Progress:  71.67  % Time Elapsed:  10402.30 s \n",
            "Iteration:  259 Progress:  71.94  % Time Elapsed:  10437.26 s \n",
            "Iteration:  260 Progress:  72.22  % Time Elapsed:  10472.26 s \n",
            "Iteration:  261 Progress:  72.50  % Time Elapsed:  10507.21 s \n",
            "Iteration:  262 Progress:  72.78  % Time Elapsed:  10542.06 s \n",
            "Iteration:  263 Progress:  73.06  % Time Elapsed:  10577.06 s \n",
            "Iteration:  264 Progress:  73.33  % Time Elapsed:  10612.20 s \n",
            "Epoch 21 Finished.  Time per Epoch:  482.37 s \n",
            "Iteration:  265 Progress:  73.61  % Time Elapsed:  10647.35 s \n",
            "Iteration:  266 Progress:  73.89  % Time Elapsed:  10682.24 s \n",
            "Iteration:  267 Progress:  74.17  % Time Elapsed:  10717.41 s \n",
            "Iteration:  268 Progress:  74.44  % Time Elapsed:  10752.50 s \n",
            "Iteration:  269 Progress:  74.72  % Time Elapsed:  10787.41 s \n",
            "Iteration:  270 Progress:  75.00  % Time Elapsed:  10822.42 s \n",
            "Iteration:  271 Progress:  75.28  % Time Elapsed:  10857.52 s \n",
            "Iteration:  272 Progress:  75.56  % Time Elapsed:  10892.70 s \n",
            "Iteration:  273 Progress:  75.83  % Time Elapsed:  10927.80 s \n",
            "Iteration:  274 Progress:  76.11  % Time Elapsed:  10962.81 s \n",
            "Iteration:  275 Progress:  76.39  % Time Elapsed:  10997.88 s \n",
            "Iteration:  276 Progress:  76.67  % Time Elapsed:  11032.91 s \n",
            "Epoch 22 Finished.  Time per Epoch:  479.69 s \n",
            "Iteration:  277 Progress:  76.94  % Time Elapsed:  11067.91 s \n",
            "Iteration:  278 Progress:  77.22  % Time Elapsed:  11102.86 s \n",
            "Iteration:  279 Progress:  77.50  % Time Elapsed:  11137.97 s \n",
            "Iteration:  280 Progress:  77.78  % Time Elapsed:  11172.96 s \n",
            "Iteration:  281 Progress:  78.06  % Time Elapsed:  11207.93 s \n",
            "Iteration:  282 Progress:  78.33  % Time Elapsed:  11242.89 s \n",
            "Iteration:  283 Progress:  78.61  % Time Elapsed:  11278.07 s \n",
            "Iteration:  284 Progress:  78.89  % Time Elapsed:  11313.19 s \n",
            "Iteration:  285 Progress:  79.17  % Time Elapsed:  11348.29 s \n",
            "Iteration:  286 Progress:  79.44  % Time Elapsed:  11383.46 s \n",
            "Iteration:  287 Progress:  79.72  % Time Elapsed:  11418.45 s \n",
            "Iteration:  288 Progress:  80.00  % Time Elapsed:  11453.53 s \n",
            "Epoch 23 Finished.  Time per Epoch:  477.23 s \n",
            "Iteration:  289 Progress:  80.28  % Time Elapsed:  11488.64 s \n",
            "Iteration:  290 Progress:  80.56  % Time Elapsed:  11523.68 s \n",
            "Iteration:  291 Progress:  80.83  % Time Elapsed:  11558.62 s \n",
            "Iteration:  292 Progress:  81.11  % Time Elapsed:  11593.52 s \n",
            "Iteration:  293 Progress:  81.39  % Time Elapsed:  11628.70 s \n",
            "Iteration:  294 Progress:  81.67  % Time Elapsed:  11663.69 s \n",
            "Iteration:  295 Progress:  81.94  % Time Elapsed:  11698.52 s \n",
            "Iteration:  296 Progress:  82.22  % Time Elapsed:  11733.68 s \n",
            "Iteration:  297 Progress:  82.50  % Time Elapsed:  11768.87 s \n",
            "Iteration:  298 Progress:  82.78  % Time Elapsed:  11803.92 s \n",
            "Iteration:  299 Progress:  83.06  % Time Elapsed:  11838.98 s \n",
            "Iteration:  300 Progress:  83.33  % Time Elapsed:  11874.13 s \n",
            "Epoch 24 Finished.  Time per Epoch:  474.97 s \n",
            "Iteration:  301 Progress:  83.61  % Time Elapsed:  11909.35 s \n",
            "Iteration:  302 Progress:  83.89  % Time Elapsed:  11944.31 s \n",
            "Iteration:  303 Progress:  84.17  % Time Elapsed:  11979.55 s \n",
            "Iteration:  304 Progress:  84.44  % Time Elapsed:  12014.52 s \n",
            "Iteration:  305 Progress:  84.72  % Time Elapsed:  12049.56 s \n",
            "Iteration:  306 Progress:  85.00  % Time Elapsed:  12084.66 s \n",
            "Iteration:  307 Progress:  85.28  % Time Elapsed:  12119.60 s \n",
            "Iteration:  308 Progress:  85.56  % Time Elapsed:  12154.43 s \n",
            "Iteration:  309 Progress:  85.83  % Time Elapsed:  12189.35 s \n",
            "Iteration:  310 Progress:  86.11  % Time Elapsed:  12224.45 s \n",
            "Iteration:  311 Progress:  86.39  % Time Elapsed:  12259.58 s \n",
            "Iteration:  312 Progress:  86.67  % Time Elapsed:  12294.71 s \n",
            "Epoch 25 Finished.  Time per Epoch:  472.87 s \n",
            "Iteration:  313 Progress:  86.94  % Time Elapsed:  12329.93 s \n",
            "Iteration:  314 Progress:  87.22  % Time Elapsed:  12365.03 s \n",
            "Iteration:  315 Progress:  87.50  % Time Elapsed:  12400.05 s \n",
            "Iteration:  316 Progress:  87.78  % Time Elapsed:  12434.88 s \n",
            "Iteration:  317 Progress:  88.06  % Time Elapsed:  12470.07 s \n",
            "Iteration:  318 Progress:  88.33  % Time Elapsed:  12505.29 s \n",
            "Iteration:  319 Progress:  88.61  % Time Elapsed:  12540.22 s \n",
            "Iteration:  320 Progress:  88.89  % Time Elapsed:  12575.33 s \n",
            "Iteration:  321 Progress:  89.17  % Time Elapsed:  12610.28 s \n",
            "Iteration:  322 Progress:  89.44  % Time Elapsed:  12645.30 s \n",
            "Iteration:  323 Progress:  89.72  % Time Elapsed:  12680.19 s \n",
            "Iteration:  324 Progress:  90.00  % Time Elapsed:  12715.29 s \n",
            "Epoch 26 Finished.  Time per Epoch:  470.94 s \n",
            "Iteration:  325 Progress:  90.28  % Time Elapsed:  12750.34 s \n",
            "Iteration:  326 Progress:  90.56  % Time Elapsed:  12785.22 s \n",
            "Iteration:  327 Progress:  90.83  % Time Elapsed:  12820.10 s \n",
            "Iteration:  328 Progress:  91.11  % Time Elapsed:  12854.92 s \n",
            "Iteration:  329 Progress:  91.39  % Time Elapsed:  12889.77 s \n",
            "Iteration:  330 Progress:  91.67  % Time Elapsed:  12924.69 s \n",
            "Iteration:  331 Progress:  91.94  % Time Elapsed:  12959.66 s \n",
            "Iteration:  332 Progress:  92.22  % Time Elapsed:  12994.69 s \n",
            "Iteration:  333 Progress:  92.50  % Time Elapsed:  13029.39 s \n",
            "Iteration:  334 Progress:  92.78  % Time Elapsed:  13064.19 s \n",
            "Iteration:  335 Progress:  93.06  % Time Elapsed:  13099.16 s \n",
            "Iteration:  336 Progress:  93.33  % Time Elapsed:  13134.28 s \n",
            "Epoch 27 Finished.  Time per Epoch:  469.08 s \n",
            "Iteration:  337 Progress:  93.61  % Time Elapsed:  13169.22 s \n",
            "Iteration:  338 Progress:  93.89  % Time Elapsed:  13204.28 s \n",
            "Iteration:  339 Progress:  94.17  % Time Elapsed:  13239.27 s \n",
            "Iteration:  340 Progress:  94.44  % Time Elapsed:  13274.03 s \n",
            "Iteration:  341 Progress:  94.72  % Time Elapsed:  13309.14 s \n",
            "Iteration:  342 Progress:  95.00  % Time Elapsed:  13344.27 s \n",
            "Iteration:  343 Progress:  95.28  % Time Elapsed:  13379.38 s \n",
            "Iteration:  344 Progress:  95.56  % Time Elapsed:  13414.51 s \n",
            "Iteration:  345 Progress:  95.83  % Time Elapsed:  13449.62 s \n",
            "Iteration:  346 Progress:  96.11  % Time Elapsed:  13484.49 s \n",
            "Iteration:  347 Progress:  96.39  % Time Elapsed:  13519.53 s \n",
            "Iteration:  348 Progress:  96.67  % Time Elapsed:  13554.79 s \n",
            "Epoch 28 Finished.  Time per Epoch:  467.41 s \n",
            "Iteration:  349 Progress:  96.94  % Time Elapsed:  13589.75 s \n",
            "Iteration:  350 Progress:  97.22  % Time Elapsed:  13624.47 s \n",
            "Iteration:  351 Progress:  97.50  % Time Elapsed:  13659.46 s \n",
            "Iteration:  352 Progress:  97.78  % Time Elapsed:  13694.40 s \n",
            "Iteration:  353 Progress:  98.06  % Time Elapsed:  13729.41 s \n",
            "Iteration:  354 Progress:  98.33  % Time Elapsed:  13764.30 s \n",
            "Iteration:  355 Progress:  98.61  % Time Elapsed:  13799.44 s \n",
            "Iteration:  356 Progress:  98.89  % Time Elapsed:  13834.60 s \n",
            "Iteration:  357 Progress:  99.17  % Time Elapsed:  13869.68 s \n",
            "Iteration:  358 Progress:  99.44  % Time Elapsed:  13904.76 s \n",
            "Iteration:  359 Progress:  99.72  % Time Elapsed:  13939.82 s \n",
            "Iteration:  360 Progress:  100.00  % Time Elapsed:  13974.77 s \n",
            "Epoch 29 Finished.  Time per Epoch:  465.83 s \n"
          ]
        },
        {
          "output_type": "display_data",
          "data": {
            "text/plain": [
              "<Figure size 432x288 with 1 Axes>"
            ],
            "image/png": "[encoded data removed]"
          },
          "metadata": {
            "needs_background": "light"
          }
        },
        {
          "output_type": "display_data",
          "data": {
            "text/plain": [
              "<Figure size 432x288 with 1 Axes>"
            ],
            "image/png": "[encoded data removed]"
          },
          "metadata": {
            "needs_background": "light"
          }
        },
        {
          "output_type": "stream",
          "name": "stdout",
          "text": [
            "Final Training Accuracy: 0.7515\n",
            "Final Validation Accuracy: 0.7733333333333333\n",
            "Total time:   13974.78 s  Time per Epoch:  465.83 s \n"
          ]
        }
      ],
      "source": [
        "use_cuda = True\n",
        "#model = ANNClassifier_ALNC()\n",
        "#model = ANNClassifier_VGG()\n",
        "#model = ANNClassifier_EFF()\n",
        "#model = ANNClassifier_EXP()\n",
        "model = ANNClassifier_GOOGLE()\n",
        "#model = ANNClassifier_RES()\n",
        "if use_cuda and torch.cuda.is_available():\n",
        "  #ALNC.cuda()\n",
        "  #VGG.cuda()\n",
        "  #RES.cuda()\n",
        "  model.cuda()\n",
        "  Google.cuda()\n",
        "  #EFF.cuda()\n",
        "  #EXP.cuda()\n",
        "  print(torch.cuda.get_device_name(0))\n",
        "  print('CUDA is available!  Training on GPU ...')\n",
        "else:\n",
        "  print('CUDA is not available.  Training on CPU ...')\n",
        "  \n",
        "#proper model\n",
        "train(model, [],lr=0.001, batch_size=batch_size, num_epochs=30, train_loader=train_loader)"
      ]
    },
    {
      "cell_type": "code",
      "execution_count": null,
      "metadata": {
        "id": "GYuYWB1EDbPc"
      },
      "outputs": [],
      "source": [
        "model_path = get_model_name(\"google_drop_out_full\", batch_size=batch_size, learning_rate=0.001, epoch=1)\n",
        "torch.save(model.state_dict(), model_path)"
      ]
    },
    {
      "cell_type": "code",
      "source": [],
      "metadata": {
        "id": "AZRROl9D2VF6"
      },
      "execution_count": null,
      "outputs": []
    },
    {
      "cell_type": "code",
      "execution_count": null,
      "metadata": {
        "id": "_YB7TEHa2yYA"
      },
      "outputs": [],
      "source": [
        "test_loader = torch.utils.data.DataLoader(test_set, batch_size=50,num_workers=0, shuffle=True)\n",
        "\n",
        "def get_test_accuracy(model):\n",
        "    data_loader = test_loader\n",
        "    correct = 0\n",
        "    total = 0\n",
        "    predict=[]\n",
        "    truth=[]\n",
        "    for imgs, labels in data_loader:\n",
        "        \n",
        "         \n",
        "        #############################################\n",
        "        #To Enable GPU Usage\n",
        "        #if torch.cuda.is_available():\n",
        "          #imgs = imgs.cuda()\n",
        "          #labels = labels.cuda()\n",
        "        #############################################\n",
        "        #改这里 change here to switch model\n",
        "        output = model(Google(imgs))\n",
        "        \n",
        "        #select index with maximum prediction score\n",
        "        pred = output.max(1, keepdim=True)[1]\n",
        "\n",
        "        predict.append(pred)\n",
        "        truth.append(labels)\n",
        "        correct += pred.eq(labels.view_as(pred)).sum().item()\n",
        "        total += imgs.shape[0]\n",
        "    #return predict,truth\n",
        "    return correct / total"
      ]
    },
    {
      "cell_type": "code",
      "source": [
        "model = ANNClassifier_GOOGLE()\n",
        "model_path = get_model_name(\"google_drop_out_full\", batch_size=400, learning_rate=0.001, epoch=10)\n",
        "model.load_state_dict(torch.load(model_path,map_location=torch.device('cpu')))"
      ],
      "metadata": {
        "colab": {
          "base_uri": "https://localhost:8080/"
        },
        "id": "boI9q74DzOZ0",
        "outputId": "0a91496f-06d3-4877-f27f-d10a780abc49"
      },
      "execution_count": null,
      "outputs": [
        {
          "output_type": "execute_result",
          "data": {
            "text/plain": [
              "<All keys matched successfully>"
            ]
          },
          "metadata": {},
          "execution_count": 11
        }
      ]
    },
    {
      "cell_type": "code",
      "execution_count": null,
      "metadata": {
        "id": "EhVwIhWl4gC9",
        "colab": {
          "base_uri": "https://localhost:8080/"
        },
        "outputId": "74f1d6cd-652d-4cb7-e9c0-f1bf88504e07"
      },
      "outputs": [
        {
          "output_type": "execute_result",
          "data": {
            "text/plain": [
              "0.7593333333333333"
            ]
          },
          "metadata": {},
          "execution_count": 18
        }
      ],
      "source": [
        "#model.to('cpu')\n",
        "model.eval()\n",
        "get_test_accuracy(model)"
      ]
    },
    {
      "cell_type": "code",
      "source": [
        "from sklearn.datasets import load_breast_cancer\n",
        "from sklearn.neighbors import KNeighborsClassifier\n",
        "from sklearn.model_selection import train_test_split\n",
        "from sklearn.metrics import confusion_matrix\n",
        "import pandas as pd\n",
        "import seaborn as sn\n",
        "def draw_confussion_matrix(model,data_loader):\n",
        "  model.eval()\n",
        "  predict=[]\n",
        "  truth=[]\n",
        "  real_predict=[]\n",
        "  real_symbols=[]\n",
        "  for imgs, labels in data_loader:\n",
        "    output = model(Google(imgs))\n",
        "    pred = output.max(1, keepdim=True)[1]\n",
        "    predict.append(pred)\n",
        "    truth.append(labels)\n",
        "  for predict_batch in predict:\n",
        "    for predicts in predict_batch:\n",
        "      real_predict.append(classes[predicts.item()])\n",
        "  for symbol_batch in truth:\n",
        "    for symbol in symbol_batch:\n",
        "      real_symbols.append(classes[symbol.item()])\n",
        "  print(len(real_predict),len(real_symbols))\n",
        "  df_cm = pd.DataFrame(confusion_matrix(real_symbols,real_predict), index = [i for i in classes],\n",
        "                  columns = [i for i in classes])\n",
        "  plt.figure(figsize = (10,7))\n",
        "  sn.heatmap(df_cm, annot=True) #cite:https://seaborn.pydata.org/generated/seaborn.heatmap.html\n"
      ],
      "metadata": {
        "id": "5PWxSvE-Xor1"
      },
      "execution_count": null,
      "outputs": []
    },
    {
      "cell_type": "code",
      "source": [
        "model.to('cpu')"
      ],
      "metadata": {
        "id": "bigE7qv7lQrg"
      },
      "execution_count": null,
      "outputs": []
    },
    {
      "cell_type": "code",
      "source": [
        "test_loader = torch.utils.data.DataLoader(test_set, batch_size=50,num_workers=0, shuffle=True)\n",
        "draw_confussion_matrix(model,test_loader)"
      ],
      "metadata": {
        "id": "HtIVOM-OYnYq",
        "colab": {
          "base_uri": "https://localhost:8080/",
          "height": 446
        },
        "outputId": "e7f2fd98-5608-4bd0-b862-619ab04bb5f8"
      },
      "execution_count": null,
      "outputs": [
        {
          "output_type": "stream",
          "name": "stdout",
          "text": [
            "1500 1500\n"
          ]
        },
        {
          "output_type": "display_data",
          "data": {
            "text/plain": [
              "<Figure size 720x504 with 2 Axes>"
            ],
            "image/png": "[encoded data removed]"
          },
          "metadata": {
            "needs_background": "light"
          }
        }
      ]
    }
  ],
  "metadata": {
    "colab": {
      "provenance": [],
      "machine_shape": "hm"
    },
    "gpuClass": "premium",
    "kernelspec": {
      "display_name": "Python 3",
      "name": "python3"
    },
    "language_info": {
      "name": "python"
    },
    "widgets": {
      "application/vnd.jupyter.widget-state+json": {
        "1ff8605023e44930a63899e4cde03142": {
          "model_module": "@jupyter-widgets/controls",
          "model_name": "HBoxModel",
          "model_module_version": "1.5.0",
          "state": {
            "_dom_classes": [],
            "_model_module": "@jupyter-widgets/controls",
            "_model_module_version": "1.5.0",
            "_model_name": "HBoxModel",
            "_view_count": null,
            "_view_module": "@jupyter-widgets/controls",
            "_view_module_version": "1.5.0",
            "_view_name": "HBoxView",
            "box_style": "",
            "children": [
              "IPY_MODEL_6240e741fad644ddba79cb92cb20fb4c",
              "IPY_MODEL_b8ea52832b654008923b122d5e69a1c8",
              "IPY_MODEL_06817a059bbe47d3ab3c0372684fc597"
            ],
            "layout": "IPY_MODEL_49004dc7b43c4f34a1cc3fbeeaa705e1"
          }
        },
        "6240e741fad644ddba79cb92cb20fb4c": {
          "model_module": "@jupyter-widgets/controls",
          "model_name": "HTMLModel",
          "model_module_version": "1.5.0",
          "state": {
            "_dom_classes": [],
            "_model_module": "@jupyter-widgets/controls",
            "_model_module_version": "1.5.0",
            "_model_name": "HTMLModel",
            "_view_count": null,
            "_view_module": "@jupyter-widgets/controls",
            "_view_module_version": "1.5.0",
            "_view_name": "HTMLView",
            "description": "",
            "description_tooltip": null,
            "layout": "IPY_MODEL_e6b355886e0a4ffaba463efe0a406661",
            "placeholder": "​",
            "style": "IPY_MODEL_2896ac1336184de59539fbd577a591ba",
            "value": "100%"
          }
        },
        "b8ea52832b654008923b122d5e69a1c8": {
          "model_module": "@jupyter-widgets/controls",
          "model_name": "FloatProgressModel",
          "model_module_version": "1.5.0",
          "state": {
            "_dom_classes": [],
            "_model_module": "@jupyter-widgets/controls",
            "_model_module_version": "1.5.0",
            "_model_name": "FloatProgressModel",
            "_view_count": null,
            "_view_module": "@jupyter-widgets/controls",
            "_view_module_version": "1.5.0",
            "_view_name": "ProgressView",
            "bar_style": "success",
            "description": "",
            "description_tooltip": null,
            "layout": "IPY_MODEL_c1536673b72c40eb9659fa455f4d1ed1",
            "max": 52147035,
            "min": 0,
            "orientation": "horizontal",
            "style": "IPY_MODEL_1cec77bb5fed47119ca6d5b9bf953ec3",
            "value": 52147035
          }
        },
        "06817a059bbe47d3ab3c0372684fc597": {
          "model_module": "@jupyter-widgets/controls",
          "model_name": "HTMLModel",
          "model_module_version": "1.5.0",
          "state": {
            "_dom_classes": [],
            "_model_module": "@jupyter-widgets/controls",
            "_model_module_version": "1.5.0",
            "_model_name": "HTMLModel",
            "_view_count": null,
            "_view_module": "@jupyter-widgets/controls",
            "_view_module_version": "1.5.0",
            "_view_name": "HTMLView",
            "description": "",
            "description_tooltip": null,
            "layout": "IPY_MODEL_a5e6b8b40792495c8f54777fbc7b577e",
            "placeholder": "​",
            "style": "IPY_MODEL_6cee739b415a47179da74d61ed69ed7c",
            "value": " 49.7M/49.7M [00:01&lt;00:00, 45.8MB/s]"
          }
        },
        "49004dc7b43c4f34a1cc3fbeeaa705e1": {
          "model_module": "@jupyter-widgets/base",
          "model_name": "LayoutModel",
          "model_module_version": "1.2.0",
          "state": {
            "_model_module": "@jupyter-widgets/base",
            "_model_module_version": "1.2.0",
            "_model_name": "LayoutModel",
            "_view_count": null,
            "_view_module": "@jupyter-widgets/base",
            "_view_module_version": "1.2.0",
            "_view_name": "LayoutView",
            "align_content": null,
            "align_items": null,
            "align_self": null,
            "border": null,
            "bottom": null,
            "display": null,
            "flex": null,
            "flex_flow": null,
            "grid_area": null,
            "grid_auto_columns": null,
            "grid_auto_flow": null,
            "grid_auto_rows": null,
            "grid_column": null,
            "grid_gap": null,
            "grid_row": null,
            "grid_template_areas": null,
            "grid_template_columns": null,
            "grid_template_rows": null,
            "height": null,
            "justify_content": null,
            "justify_items": null,
            "left": null,
            "margin": null,
            "max_height": null,
            "max_width": null,
            "min_height": null,
            "min_width": null,
            "object_fit": null,
            "object_position": null,
            "order": null,
            "overflow": null,
            "overflow_x": null,
            "overflow_y": null,
            "padding": null,
            "right": null,
            "top": null,
            "visibility": null,
            "width": null
          }
        },
        "e6b355886e0a4ffaba463efe0a406661": {
          "model_module": "@jupyter-widgets/base",
          "model_name": "LayoutModel",
          "model_module_version": "1.2.0",
          "state": {
            "_model_module": "@jupyter-widgets/base",
            "_model_module_version": "1.2.0",
            "_model_name": "LayoutModel",
            "_view_count": null,
            "_view_module": "@jupyter-widgets/base",
            "_view_module_version": "1.2.0",
            "_view_name": "LayoutView",
            "align_content": null,
            "align_items": null,
            "align_self": null,
            "border": null,
            "bottom": null,
            "display": null,
            "flex": null,
            "flex_flow": null,
            "grid_area": null,
            "grid_auto_columns": null,
            "grid_auto_flow": null,
            "grid_auto_rows": null,
            "grid_column": null,
            "grid_gap": null,
            "grid_row": null,
            "grid_template_areas": null,
            "grid_template_columns": null,
            "grid_template_rows": null,
            "height": null,
            "justify_content": null,
            "justify_items": null,
            "left": null,
            "margin": null,
            "max_height": null,
            "max_width": null,
            "min_height": null,
            "min_width": null,
            "object_fit": null,
            "object_position": null,
            "order": null,
            "overflow": null,
            "overflow_x": null,
            "overflow_y": null,
            "padding": null,
            "right": null,
            "top": null,
            "visibility": null,
            "width": null
          }
        },
        "2896ac1336184de59539fbd577a591ba": {
          "model_module": "@jupyter-widgets/controls",
          "model_name": "DescriptionStyleModel",
          "model_module_version": "1.5.0",
          "state": {
            "_model_module": "@jupyter-widgets/controls",
            "_model_module_version": "1.5.0",
            "_model_name": "DescriptionStyleModel",
            "_view_count": null,
            "_view_module": "@jupyter-widgets/base",
            "_view_module_version": "1.2.0",
            "_view_name": "StyleView",
            "description_width": ""
          }
        },
        "c1536673b72c40eb9659fa455f4d1ed1": {
          "model_module": "@jupyter-widgets/base",
          "model_name": "LayoutModel",
          "model_module_version": "1.2.0",
          "state": {
            "_model_module": "@jupyter-widgets/base",
            "_model_module_version": "1.2.0",
            "_model_name": "LayoutModel",
            "_view_count": null,
            "_view_module": "@jupyter-widgets/base",
            "_view_module_version": "1.2.0",
            "_view_name": "LayoutView",
            "align_content": null,
            "align_items": null,
            "align_self": null,
            "border": null,
            "bottom": null,
            "display": null,
            "flex": null,
            "flex_flow": null,
            "grid_area": null,
            "grid_auto_columns": null,
            "grid_auto_flow": null,
            "grid_auto_rows": null,
            "grid_column": null,
            "grid_gap": null,
            "grid_row": null,
            "grid_template_areas": null,
            "grid_template_columns": null,
            "grid_template_rows": null,
            "height": null,
            "justify_content": null,
            "justify_items": null,
            "left": null,
            "margin": null,
            "max_height": null,
            "max_width": null,
            "min_height": null,
            "min_width": null,
            "object_fit": null,
            "object_position": null,
            "order": null,
            "overflow": null,
            "overflow_x": null,
            "overflow_y": null,
            "padding": null,
            "right": null,
            "top": null,
            "visibility": null,
            "width": null
          }
        },
        "1cec77bb5fed47119ca6d5b9bf953ec3": {
          "model_module": "@jupyter-widgets/controls",
          "model_name": "ProgressStyleModel",
          "model_module_version": "1.5.0",
          "state": {
            "_model_module": "@jupyter-widgets/controls",
            "_model_module_version": "1.5.0",
            "_model_name": "ProgressStyleModel",
            "_view_count": null,
            "_view_module": "@jupyter-widgets/base",
            "_view_module_version": "1.2.0",
            "_view_name": "StyleView",
            "bar_color": null,
            "description_width": ""
          }
        },
        "a5e6b8b40792495c8f54777fbc7b577e": {
          "model_module": "@jupyter-widgets/base",
          "model_name": "LayoutModel",
          "model_module_version": "1.2.0",
          "state": {
            "_model_module": "@jupyter-widgets/base",
            "_model_module_version": "1.2.0",
            "_model_name": "LayoutModel",
            "_view_count": null,
            "_view_module": "@jupyter-widgets/base",
            "_view_module_version": "1.2.0",
            "_view_name": "LayoutView",
            "align_content": null,
            "align_items": null,
            "align_self": null,
            "border": null,
            "bottom": null,
            "display": null,
            "flex": null,
            "flex_flow": null,
            "grid_area": null,
            "grid_auto_columns": null,
            "grid_auto_flow": null,
            "grid_auto_rows": null,
            "grid_column": null,
            "grid_gap": null,
            "grid_row": null,
            "grid_template_areas": null,
            "grid_template_columns": null,
            "grid_template_rows": null,
            "height": null,
            "justify_content": null,
            "justify_items": null,
            "left": null,
            "margin": null,
            "max_height": null,
            "max_width": null,
            "min_height": null,
            "min_width": null,
            "object_fit": null,
            "object_position": null,
            "order": null,
            "overflow": null,
            "overflow_x": null,
            "overflow_y": null,
            "padding": null,
            "right": null,
            "top": null,
            "visibility": null,
            "width": null
          }
        },
        "6cee739b415a47179da74d61ed69ed7c": {
          "model_module": "@jupyter-widgets/controls",
          "model_name": "DescriptionStyleModel",
          "model_module_version": "1.5.0",
          "state": {
            "_model_module": "@jupyter-widgets/controls",
            "_model_module_version": "1.5.0",
            "_model_name": "DescriptionStyleModel",
            "_view_count": null,
            "_view_module": "@jupyter-widgets/base",
            "_view_module_version": "1.2.0",
            "_view_name": "StyleView",
            "description_width": ""
          }
        }
      }
    },
    "accelerator": "GPU"
  },
  "nbformat": 4,
  "nbformat_minor": 0
}
