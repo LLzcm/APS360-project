{
  "nbformat": 4,
  "nbformat_minor": 0,
  "metadata": {
    "colab": {
      "provenance": [],
      "collapsed_sections": []
    },
    "kernelspec": {
      "name": "python3",
      "display_name": "Python 3"
    },
    "language_info": {
      "name": "python"
    },
    "gpuClass": "standard",
    "accelerator": "GPU",
    "widgets": {
      "application/vnd.jupyter.widget-state+json": {
        "b4281da8720741d6928607c0cab068fe": {
          "model_module": "@jupyter-widgets/controls",
          "model_name": "HBoxModel",
          "model_module_version": "1.5.0",
          "state": {
            "_dom_classes": [],
            "_model_module": "@jupyter-widgets/controls",
            "_model_module_version": "1.5.0",
            "_model_name": "HBoxModel",
            "_view_count": null,
            "_view_module": "@jupyter-widgets/controls",
            "_view_module_version": "1.5.0",
            "_view_name": "HBoxView",
            "box_style": "",
            "children": [
              "IPY_MODEL_3bc56e14e3094fddb4a3d810b0e597e7",
              "IPY_MODEL_cc8eb9b74cdf4b81a06f96c02b95024d",
              "IPY_MODEL_d0ce9e60a66e4f5fa1de273c92237099"
            ],
            "layout": "IPY_MODEL_47e052ae3d3f4c7b827dd1d7c2c5b25b"
          }
        },
        "3bc56e14e3094fddb4a3d810b0e597e7": {
          "model_module": "@jupyter-widgets/controls",
          "model_name": "HTMLModel",
          "model_module_version": "1.5.0",
          "state": {
            "_dom_classes": [],
            "_model_module": "@jupyter-widgets/controls",
            "_model_module_version": "1.5.0",
            "_model_name": "HTMLModel",
            "_view_count": null,
            "_view_module": "@jupyter-widgets/controls",
            "_view_module_version": "1.5.0",
            "_view_name": "HTMLView",
            "description": "",
            "description_tooltip": null,
            "layout": "IPY_MODEL_ac2bae4d48dc4cb8bd327a6415ad4f0f",
            "placeholder": "​",
            "style": "IPY_MODEL_f589f22b95ac47e5bb9b681cb3377ffc",
            "value": "100%"
          }
        },
        "cc8eb9b74cdf4b81a06f96c02b95024d": {
          "model_module": "@jupyter-widgets/controls",
          "model_name": "FloatProgressModel",
          "model_module_version": "1.5.0",
          "state": {
            "_dom_classes": [],
            "_model_module": "@jupyter-widgets/controls",
            "_model_module_version": "1.5.0",
            "_model_name": "FloatProgressModel",
            "_view_count": null,
            "_view_module": "@jupyter-widgets/controls",
            "_view_module_version": "1.5.0",
            "_view_name": "ProgressView",
            "bar_style": "success",
            "description": "",
            "description_tooltip": null,
            "layout": "IPY_MODEL_f6bda4dde3da4054ad4ad62187727cad",
            "max": 244408911,
            "min": 0,
            "orientation": "horizontal",
            "style": "IPY_MODEL_b270bba600664b98835f9ddd65e55321",
            "value": 244408911
          }
        },
        "d0ce9e60a66e4f5fa1de273c92237099": {
          "model_module": "@jupyter-widgets/controls",
          "model_name": "HTMLModel",
          "model_module_version": "1.5.0",
          "state": {
            "_dom_classes": [],
            "_model_module": "@jupyter-widgets/controls",
            "_model_module_version": "1.5.0",
            "_model_name": "HTMLModel",
            "_view_count": null,
            "_view_module": "@jupyter-widgets/controls",
            "_view_module_version": "1.5.0",
            "_view_name": "HTMLView",
            "description": "",
            "description_tooltip": null,
            "layout": "IPY_MODEL_f4cb4c98b8b74d8caa7644cea63cda4f",
            "placeholder": "​",
            "style": "IPY_MODEL_e5e05260cdb844f7ad0ea5b3a36337fa",
            "value": " 233M/233M [00:01&lt;00:00, 158MB/s]"
          }
        },
        "47e052ae3d3f4c7b827dd1d7c2c5b25b": {
          "model_module": "@jupyter-widgets/base",
          "model_name": "LayoutModel",
          "model_module_version": "1.2.0",
          "state": {
            "_model_module": "@jupyter-widgets/base",
            "_model_module_version": "1.2.0",
            "_model_name": "LayoutModel",
            "_view_count": null,
            "_view_module": "@jupyter-widgets/base",
            "_view_module_version": "1.2.0",
            "_view_name": "LayoutView",
            "align_content": null,
            "align_items": null,
            "align_self": null,
            "border": null,
            "bottom": null,
            "display": null,
            "flex": null,
            "flex_flow": null,
            "grid_area": null,
            "grid_auto_columns": null,
            "grid_auto_flow": null,
            "grid_auto_rows": null,
            "grid_column": null,
            "grid_gap": null,
            "grid_row": null,
            "grid_template_areas": null,
            "grid_template_columns": null,
            "grid_template_rows": null,
            "height": null,
            "justify_content": null,
            "justify_items": null,
            "left": null,
            "margin": null,
            "max_height": null,
            "max_width": null,
            "min_height": null,
            "min_width": null,
            "object_fit": null,
            "object_position": null,
            "order": null,
            "overflow": null,
            "overflow_x": null,
            "overflow_y": null,
            "padding": null,
            "right": null,
            "top": null,
            "visibility": null,
            "width": null
          }
        },
        "ac2bae4d48dc4cb8bd327a6415ad4f0f": {
          "model_module": "@jupyter-widgets/base",
          "model_name": "LayoutModel",
          "model_module_version": "1.2.0",
          "state": {
            "_model_module": "@jupyter-widgets/base",
            "_model_module_version": "1.2.0",
            "_model_name": "LayoutModel",
            "_view_count": null,
            "_view_module": "@jupyter-widgets/base",
            "_view_module_version": "1.2.0",
            "_view_name": "LayoutView",
            "align_content": null,
            "align_items": null,
            "align_self": null,
            "border": null,
            "bottom": null,
            "display": null,
            "flex": null,
            "flex_flow": null,
            "grid_area": null,
            "grid_auto_columns": null,
            "grid_auto_flow": null,
            "grid_auto_rows": null,
            "grid_column": null,
            "grid_gap": null,
            "grid_row": null,
            "grid_template_areas": null,
            "grid_template_columns": null,
            "grid_template_rows": null,
            "height": null,
            "justify_content": null,
            "justify_items": null,
            "left": null,
            "margin": null,
            "max_height": null,
            "max_width": null,
            "min_height": null,
            "min_width": null,
            "object_fit": null,
            "object_position": null,
            "order": null,
            "overflow": null,
            "overflow_x": null,
            "overflow_y": null,
            "padding": null,
            "right": null,
            "top": null,
            "visibility": null,
            "width": null
          }
        },
        "f589f22b95ac47e5bb9b681cb3377ffc": {
          "model_module": "@jupyter-widgets/controls",
          "model_name": "DescriptionStyleModel",
          "model_module_version": "1.5.0",
          "state": {
            "_model_module": "@jupyter-widgets/controls",
            "_model_module_version": "1.5.0",
            "_model_name": "DescriptionStyleModel",
            "_view_count": null,
            "_view_module": "@jupyter-widgets/base",
            "_view_module_version": "1.2.0",
            "_view_name": "StyleView",
            "description_width": ""
          }
        },
        "f6bda4dde3da4054ad4ad62187727cad": {
          "model_module": "@jupyter-widgets/base",
          "model_name": "LayoutModel",
          "model_module_version": "1.2.0",
          "state": {
            "_model_module": "@jupyter-widgets/base",
            "_model_module_version": "1.2.0",
            "_model_name": "LayoutModel",
            "_view_count": null,
            "_view_module": "@jupyter-widgets/base",
            "_view_module_version": "1.2.0",
            "_view_name": "LayoutView",
            "align_content": null,
            "align_items": null,
            "align_self": null,
            "border": null,
            "bottom": null,
            "display": null,
            "flex": null,
            "flex_flow": null,
            "grid_area": null,
            "grid_auto_columns": null,
            "grid_auto_flow": null,
            "grid_auto_rows": null,
            "grid_column": null,
            "grid_gap": null,
            "grid_row": null,
            "grid_template_areas": null,
            "grid_template_columns": null,
            "grid_template_rows": null,
            "height": null,
            "justify_content": null,
            "justify_items": null,
            "left": null,
            "margin": null,
            "max_height": null,
            "max_width": null,
            "min_height": null,
            "min_width": null,
            "object_fit": null,
            "object_position": null,
            "order": null,
            "overflow": null,
            "overflow_x": null,
            "overflow_y": null,
            "padding": null,
            "right": null,
            "top": null,
            "visibility": null,
            "width": null
          }
        },
        "b270bba600664b98835f9ddd65e55321": {
          "model_module": "@jupyter-widgets/controls",
          "model_name": "ProgressStyleModel",
          "model_module_version": "1.5.0",
          "state": {
            "_model_module": "@jupyter-widgets/controls",
            "_model_module_version": "1.5.0",
            "_model_name": "ProgressStyleModel",
            "_view_count": null,
            "_view_module": "@jupyter-widgets/base",
            "_view_module_version": "1.2.0",
            "_view_name": "StyleView",
            "bar_color": null,
            "description_width": ""
          }
        },
        "f4cb4c98b8b74d8caa7644cea63cda4f": {
          "model_module": "@jupyter-widgets/base",
          "model_name": "LayoutModel",
          "model_module_version": "1.2.0",
          "state": {
            "_model_module": "@jupyter-widgets/base",
            "_model_module_version": "1.2.0",
            "_model_name": "LayoutModel",
            "_view_count": null,
            "_view_module": "@jupyter-widgets/base",
            "_view_module_version": "1.2.0",
            "_view_name": "LayoutView",
            "align_content": null,
            "align_items": null,
            "align_self": null,
            "border": null,
            "bottom": null,
            "display": null,
            "flex": null,
            "flex_flow": null,
            "grid_area": null,
            "grid_auto_columns": null,
            "grid_auto_flow": null,
            "grid_auto_rows": null,
            "grid_column": null,
            "grid_gap": null,
            "grid_row": null,
            "grid_template_areas": null,
            "grid_template_columns": null,
            "grid_template_rows": null,
            "height": null,
            "justify_content": null,
            "justify_items": null,
            "left": null,
            "margin": null,
            "max_height": null,
            "max_width": null,
            "min_height": null,
            "min_width": null,
            "object_fit": null,
            "object_position": null,
            "order": null,
            "overflow": null,
            "overflow_x": null,
            "overflow_y": null,
            "padding": null,
            "right": null,
            "top": null,
            "visibility": null,
            "width": null
          }
        },
        "e5e05260cdb844f7ad0ea5b3a36337fa": {
          "model_module": "@jupyter-widgets/controls",
          "model_name": "DescriptionStyleModel",
          "model_module_version": "1.5.0",
          "state": {
            "_model_module": "@jupyter-widgets/controls",
            "_model_module_version": "1.5.0",
            "_model_name": "DescriptionStyleModel",
            "_view_count": null,
            "_view_module": "@jupyter-widgets/base",
            "_view_module_version": "1.2.0",
            "_view_name": "StyleView",
            "description_width": ""
          }
        }
      }
    }
  },
  "cells": [
    {
      "cell_type": "code",
      "execution_count": 1,
      "metadata": {
        "colab": {
          "base_uri": "https://localhost:8080/"
        },
        "id": "c5OaH7rNT8V4",
        "outputId": "c5c349d4-5204-46c4-8877-64c34e91559a"
      },
      "outputs": [
        {
          "output_type": "stream",
          "name": "stdout",
          "text": [
            "Mounted at /content/gdrive\n"
          ]
        },
        {
          "output_type": "execute_result",
          "data": {
            "text/plain": [
              "<torch._C.Generator at 0x7f8541e8e7d0>"
            ]
          },
          "metadata": {},
          "execution_count": 1
        }
      ],
      "source": [
        "import time\n",
        "import os\n",
        "import numpy as np\n",
        "import torch\n",
        "from torch.utils.data import random_split\n",
        "import torchvision\n",
        "from torchvision import datasets, models, transforms\n",
        "import matplotlib.pyplot as plt\n",
        "from google.colab import drive\n",
        "import os\n",
        "drive.mount('/content/gdrive')\n",
        "torch.manual_seed(0)"
      ]
    },
    {
      "cell_type": "code",
      "source": [
        "#Take in data\n",
        "# Train : Validation : Test = 2:1:1\n",
        "path = \"/content/gdrive/MyDrive/APS360/360Project/small_test\"\n",
        "file_name = os.listdir(path)\n",
        "count_pic = 0\n",
        "for files in file_name:\n",
        "  count_pic+=len(os.listdir(path+\"/\"+files))\n",
        "train_index = count_pic//2\n",
        "validation_index = count_pic//4\n",
        "test_index = count_pic - train_index - validation_index"
      ],
      "metadata": {
        "id": "sIe_Mr4KU7oY"
      },
      "execution_count": 2,
      "outputs": []
    },
    {
      "cell_type": "code",
      "source": [
        "data_dir = \"/content/gdrive/MyDrive/APS360/360Project/small_test\"\n",
        "classes = ['Arts _ Entertainment','Autos _ Vehicles','Beauty _ Fitness','Food _ Drink','Games','Sports']\n",
        "data_transform = transforms.Compose([transforms.RandomResizedCrop(224),transforms.ToTensor()])\n",
        "total_data = datasets.ImageFolder(data_dir, transform=data_transform)\n",
        "train_set,other_dataset = random_split(dataset=total_data,lengths=[train_index,count_pic-train_index])\n",
        "validation_set,test_set = random_split(dataset=other_dataset,lengths=[validation_index,test_index])"
      ],
      "metadata": {
        "id": "80rSrWf7VSVp"
      },
      "execution_count": 3,
      "outputs": []
    },
    {
      "cell_type": "code",
      "source": [
        "print('Num training images: ', len(train_set))\n",
        "print('Num validation images: ', len(validation_set))\n",
        "print('Num test images: ', len(test_set))"
      ],
      "metadata": {
        "colab": {
          "base_uri": "https://localhost:8080/"
        },
        "id": "Ln01Oe6JX5A1",
        "outputId": "9251e04d-12d0-464e-c75e-cb9a782438de"
      },
      "execution_count": 4,
      "outputs": [
        {
          "output_type": "stream",
          "name": "stdout",
          "text": [
            "Num training images:  290\n",
            "Num validation images:  145\n",
            "Num test images:  145\n"
          ]
        }
      ]
    },
    {
      "cell_type": "code",
      "source": [
        "# define dataloader parameters\n",
        "batch_size  = 64\n",
        "num_workers = 0\n",
        "train_loader = torch.utils.data.DataLoader(train_set, batch_size=batch_size,num_workers=num_workers, shuffle=True)\n",
        "val_loader = torch.utils.data.DataLoader(validation_set, batch_size=batch_size,num_workers=num_workers, shuffle=True)\n"
      ],
      "metadata": {
        "id": "_Lh99jyVYB7e"
      },
      "execution_count": 5,
      "outputs": []
    },
    {
      "cell_type": "code",
      "source": [
        "#Model CNN \n",
        "import numpy as np\n",
        "import time\n",
        "import torch\n",
        "import torch.nn as nn\n",
        "import torch.nn.functional as F\n",
        "import torch.optim as optim\n",
        "import torchvision\n",
        "from torch.utils.data.sampler import SubsetRandomSampler\n",
        "import torchvision.transforms as transforms\n",
        "\n",
        "class LargeNet(nn.Module):\n",
        "    def __init__(self):\n",
        "        super(LargeNet, self).__init__()\n",
        "        self.name = \"large\"\n",
        "        self.conv1 = nn.Conv2d(3, 5, 5)\n",
        "        self.pool = nn.MaxPool2d(2, 2)\n",
        "        self.conv2 = nn.Conv2d(5, 10, 5)\n",
        "        self.conv3 = nn.Conv2d(10, 20, 4)\n",
        "        self.conv4 = nn.Conv2d(20, 40, 4)\n",
        "        self.fc1 = nn.Linear(4840, 320)\n",
        "        self.fc2 = nn.Linear(320, 6)\n",
        "\n",
        "    def forward(self, x):\n",
        "        x = self.pool(F.relu(self.conv1(x)))\n",
        "        x = self.pool(F.relu(self.conv2(x)))\n",
        "        x = self.pool(F.relu(self.conv3(x)))\n",
        "        x = self.pool(F.relu(self.conv4(x)))\n",
        "        x = x.view(-1, 4840)\n",
        "        x = F.relu(self.fc1(x))\n",
        "        x = self.fc2(x) \n",
        "        return x\n"
      ],
      "metadata": {
        "id": "Aaf6r1gRV_o2"
      },
      "execution_count": 6,
      "outputs": []
    },
    {
      "cell_type": "code",
      "source": [
        "#Model Transferlearning+ANN Classifier\n",
        "# Alexnet\n",
        "\n",
        "import torchvision.models\n",
        "alexNet = torchvision.models.alexnet(pretrained=True)\n",
        "dataiter = iter(train_loader)\n",
        "images, labels = dataiter.next()\n",
        "features = alexNet.features(images)\n",
        "features.shape"
      ],
      "metadata": {
        "colab": {
          "base_uri": "https://localhost:8080/",
          "height": 177,
          "referenced_widgets": [
            "b4281da8720741d6928607c0cab068fe",
            "3bc56e14e3094fddb4a3d810b0e597e7",
            "cc8eb9b74cdf4b81a06f96c02b95024d",
            "d0ce9e60a66e4f5fa1de273c92237099",
            "47e052ae3d3f4c7b827dd1d7c2c5b25b",
            "ac2bae4d48dc4cb8bd327a6415ad4f0f",
            "f589f22b95ac47e5bb9b681cb3377ffc",
            "f6bda4dde3da4054ad4ad62187727cad",
            "b270bba600664b98835f9ddd65e55321",
            "f4cb4c98b8b74d8caa7644cea63cda4f",
            "e5e05260cdb844f7ad0ea5b3a36337fa"
          ]
        },
        "id": "5eH8NJGFWXfE",
        "outputId": "1dadadfe-2e97-4e59-c7ca-dfcf3d28f0c0"
      },
      "execution_count": 7,
      "outputs": [
        {
          "output_type": "stream",
          "name": "stderr",
          "text": [
            "/usr/local/lib/python3.7/dist-packages/torchvision/models/_utils.py:209: UserWarning: The parameter 'pretrained' is deprecated since 0.13 and will be removed in 0.15, please use 'weights' instead.\n",
            "  f\"The parameter '{pretrained_param}' is deprecated since 0.13 and will be removed in 0.15, \"\n",
            "/usr/local/lib/python3.7/dist-packages/torchvision/models/_utils.py:223: UserWarning: Arguments other than a weight enum or `None` for 'weights' are deprecated since 0.13 and will be removed in 0.15. The current behavior is equivalent to passing `weights=AlexNet_Weights.IMAGENET1K_V1`. You can also use `weights=AlexNet_Weights.DEFAULT` to get the most up-to-date weights.\n",
            "  warnings.warn(msg)\n",
            "Downloading: \"https://download.pytorch.org/models/alexnet-owt-7be5be79.pth\" to /root/.cache/torch/hub/checkpoints/alexnet-owt-7be5be79.pth\n"
          ]
        },
        {
          "output_type": "display_data",
          "data": {
            "text/plain": [
              "  0%|          | 0.00/233M [00:00<?, ?B/s]"
            ],
            "application/vnd.jupyter.widget-view+json": {
              "version_major": 2,
              "version_minor": 0,
              "model_id": "b4281da8720741d6928607c0cab068fe"
            }
          },
          "metadata": {}
        },
        {
          "output_type": "execute_result",
          "data": {
            "text/plain": [
              "torch.Size([64, 256, 6, 6])"
            ]
          },
          "metadata": {},
          "execution_count": 7
        }
      ]
    },
    {
      "cell_type": "code",
      "source": [
        "# VGGnet\n",
        "vggNet = torch.hub.load('pytorch/vision:v0.10.0', 'vgg11', pretrained=True)\n",
        "dataiter = iter(train_loader)\n",
        "images, labels = dataiter.next()\n",
        "features = vggNet.features(images)\n",
        "features.shape"
      ],
      "metadata": {
        "id": "4g6ixuR_eewI"
      },
      "execution_count": null,
      "outputs": []
    },
    {
      "cell_type": "code",
      "source": [
        "# ResNet\n",
        "resNet = torch.hub.load('pytorch/vision:v0.10.0', 'resnet18', pretrained=True)\n",
        "#resNet = torch.hub.load('pytorch/vision:v0.10.0', 'resnet152', pretrained=True)\n",
        "dataiter = iter(train_loader)\n",
        "images, labels = dataiter.next()\n",
        "features = resNet(images)\n",
        "features.shape"
      ],
      "metadata": {
        "colab": {
          "base_uri": "https://localhost:8080/"
        },
        "id": "7ajdnGpViWnt",
        "outputId": "2d200ecd-d082-47b4-b38b-c2f06bb3d32d"
      },
      "execution_count": 9,
      "outputs": [
        {
          "output_type": "stream",
          "name": "stderr",
          "text": [
            "Using cache found in /root/.cache/torch/hub/pytorch_vision_v0.10.0\n"
          ]
        },
        {
          "output_type": "execute_result",
          "data": {
            "text/plain": [
              "torch.Size([64, 1000])"
            ]
          },
          "metadata": {},
          "execution_count": 9
        }
      ]
    },
    {
      "cell_type": "code",
      "source": [
        "#GoogleENET\n",
        "googleNet = torch.hub.load('pytorch/vision:v0.10.0', 'googlenet', pretrained=True)\n",
        "dataiter = iter(train_loader)\n",
        "images, labels = dataiter.next()\n",
        "features = googleNet(images)\n",
        "features.shape"
      ],
      "metadata": {
        "colab": {
          "base_uri": "https://localhost:8080/"
        },
        "id": "g_a27FRfp5sc",
        "outputId": "7ba45921-4d80-4235-b77e-10ca4353c6dd"
      },
      "execution_count": 18,
      "outputs": [
        {
          "output_type": "stream",
          "name": "stderr",
          "text": [
            "Using cache found in /root/.cache/torch/hub/pytorch_vision_v0.10.0\n",
            "/usr/local/lib/python3.7/dist-packages/torchvision/models/_utils.py:209: UserWarning: The parameter 'pretrained' is deprecated since 0.13 and will be removed in 0.15, please use 'weights' instead.\n",
            "  f\"The parameter '{pretrained_param}' is deprecated since 0.13 and will be removed in 0.15, \"\n",
            "/usr/local/lib/python3.7/dist-packages/torchvision/models/_utils.py:223: UserWarning: Arguments other than a weight enum or `None` for 'weights' are deprecated since 0.13 and will be removed in 0.15. The current behavior is equivalent to passing `weights=GoogLeNet_Weights.IMAGENET1K_V1`. You can also use `weights=GoogLeNet_Weights.DEFAULT` to get the most up-to-date weights.\n",
            "  warnings.warn(msg)\n"
          ]
        },
        {
          "output_type": "execute_result",
          "data": {
            "text/plain": [
              "torch.Size([64, 1000])"
            ]
          },
          "metadata": {},
          "execution_count": 18
        }
      ]
    },
    {
      "cell_type": "code",
      "source": [
        "#Artifical Neural Network Architecture (alexNet)\n",
        "ALNC = alexNet.features\n",
        "\n",
        "class ANNClassifier_ALNC(nn.Module):\n",
        "    def __init__(self):\n",
        "        super(ANNClassifier_ALNC, self).__init__()\n",
        "        self.fc1 = nn.Linear(256 * 6 * 6, 10)\n",
        "        self.fc2 = nn.Linear(10, 6)\n",
        "\n",
        "    def forward(self, x):\n",
        "        x = x.view(-1, 256 * 6 * 6) #flatten feature data\n",
        "        x = F.relu(self.fc1(x))\n",
        "        x = self.fc2(x)\n",
        "        return x"
      ],
      "metadata": {
        "id": "P0QetsGfZP5s"
      },
      "execution_count": 10,
      "outputs": []
    },
    {
      "cell_type": "code",
      "source": [
        "#Artifical Neural Network Architecture (vggNet)\n",
        "VGG = vggNet.features\n",
        "class ANNClassifier_VGG(nn.Module):\n",
        "    def __init__(self):\n",
        "        super(ANNClassifier_VGG, self).__init__()\n",
        "        self.fc1 = nn.Linear(512 * 7 * 7, 10)\n",
        "        self.fc2 = nn.Linear(10, 6)\n",
        "\n",
        "    def forward(self, x):\n",
        "        x = x.view(-1, 512 * 7 * 7) #flatten feature data\n",
        "        x = F.relu(self.fc1(x))\n",
        "        x = self.fc2(x)\n",
        "        return x"
      ],
      "metadata": {
        "id": "v7rdZQeOe4ce"
      },
      "execution_count": 11,
      "outputs": []
    },
    {
      "cell_type": "code",
      "source": [
        "#Artifical Neural Network Architecture (resNet)\n",
        "RES = resNet\n",
        "class ANNClassifier_RES(nn.Module):\n",
        "    def __init__(self):\n",
        "        super(ANNClassifier_RES, self).__init__()\n",
        "        self.fc1 = nn.Linear(1000, 100)\n",
        "        self.fc2 = nn.Linear(100, 10)\n",
        "        self.fc3 = nn.Linear(10, 6)\n",
        "\n",
        "    def forward(self, x):\n",
        "        x = x.view(-1, 1000) #flatten feature data\n",
        "        x = F.relu(self.fc1(x))\n",
        "        x = self.fc2(x)\n",
        "        x = self.fc3(x)\n",
        "        return x"
      ],
      "metadata": {
        "id": "oF4VNPaSi9rm"
      },
      "execution_count": 11,
      "outputs": []
    },
    {
      "cell_type": "code",
      "source": [
        "#Artifical Neural Network Architecture (GoogleNet)\n",
        "Google = googleNet\n",
        "class ANNClassifier_GOOGLE(nn.Module):\n",
        "    def __init__(self):\n",
        "        super(ANNClassifier_GOOGLE, self).__init__()\n",
        "        self.fc1 = nn.Linear(1000, 10)\n",
        "        self.fc2 = nn.Linear(10, 6)\n",
        "\n",
        "    def forward(self, x):\n",
        "        x = x.view(-1, 1000) #flatten feature data\n",
        "        x = F.relu(self.fc1(x))\n",
        "        x = self.fc2(x)\n",
        "        return x"
      ],
      "metadata": {
        "id": "IoN5bvmuqVNc"
      },
      "execution_count": 22,
      "outputs": []
    },
    {
      "cell_type": "markdown",
      "source": [
        "Helper function"
      ],
      "metadata": {
        "id": "6X801oYTZhXi"
      }
    },
    {
      "cell_type": "code",
      "source": [
        "def get_accuracy(model, train=False):\n",
        "    if train:\n",
        "        data_loader = train_loader\n",
        "    else:\n",
        "        data_loader = val_loader\n",
        "\n",
        "    correct = 0\n",
        "    total = 0\n",
        "    for imgs, labels in data_loader:\n",
        "        \n",
        "         \n",
        "        #############################################\n",
        "        #To Enable GPU Usage\n",
        "        if use_cuda and torch.cuda.is_available():\n",
        "          imgs = imgs.cuda()\n",
        "          labels = labels.cuda()\n",
        "        #############################################\n",
        "        #\n",
        "        output = model(Google(imgs))\n",
        "        \n",
        "        #select index with maximum prediction score\n",
        "        pred = output.max(1, keepdim=True)[1]\n",
        "        correct += pred.eq(labels.view_as(pred)).sum().item()\n",
        "        total += imgs.shape[0]\n",
        "    return correct / total"
      ],
      "metadata": {
        "id": "FOm1VXF-ZfKP"
      },
      "execution_count": 20,
      "outputs": []
    },
    {
      "cell_type": "markdown",
      "source": [
        "Train code\n"
      ],
      "metadata": {
        "id": "cXdCkWkda9gk"
      }
    },
    {
      "cell_type": "code",
      "source": [
        "def train(model, data, lr,batch_size=20, num_epochs=1,train_loader=train_loader):\n",
        "    #train_loader = torch.utils.data.DataLoader(data, batch_size=batch_size)\n",
        "    # train_loader = torch.utils.data.DataLoader(train_data, batch_size=batch_size, \n",
        "                                           #num_workers=num_workers, shuffle=True)\n",
        "    criterion = nn.CrossEntropyLoss()\n",
        "    optimizer = optim.SGD(model.parameters(), lr=lr, momentum=0.9)\n",
        "\n",
        "    iters, losses, train_acc, val_acc = [], [], [], []\n",
        "\n",
        "    # training\n",
        "    n = 0 # the number of iterations\n",
        "    start_time=time.time()\n",
        "    for epoch in range(num_epochs):\n",
        "        mini_b=0\n",
        "        mini_batch_correct = 0\n",
        "        Mini_batch_total = 0\n",
        "        for imgs, labels in iter(train_loader):\n",
        "          \n",
        "            \n",
        "            #############################################\n",
        "            #To Enable GPU Usage\n",
        "            if use_cuda and torch.cuda.is_available():\n",
        "              imgs = imgs.cuda()\n",
        "              labels = labels.cuda()\n",
        "            #############################################\n",
        "\n",
        "          #### ALNC is alexNet.features (AlexNet without classifier) ####\n",
        "          #### VGG is vggNet.fearures (VggNet without classifier) ####\n",
        "          #### RES is resNet\n",
        "            out = model(Google(imgs))             # forward pass\n",
        "            loss = criterion(out, labels) # compute the total loss\n",
        "            loss.backward()               # backward pass (compute parameter updates)\n",
        "            optimizer.step()              # make the updates for each parameter\n",
        "            optimizer.zero_grad()         # a clean up step for PyTorch\n",
        "\n",
        "\n",
        "\n",
        "            ##### Mini_batch Accuracy ##### We don't compute accuracy on the whole training set in every iteration!\n",
        "            pred = out.max(1, keepdim=True)[1]\n",
        "            mini_batch_correct = pred.eq(labels.view_as(pred)).sum().item()\n",
        "            Mini_batch_total = imgs.shape[0]\n",
        "            train_acc.append((mini_batch_correct / Mini_batch_total))\n",
        "           ###########################\n",
        "\n",
        "          # save the current training information\n",
        "            iters.append(n)\n",
        "            losses.append(float(loss)/batch_size)             # compute *average* loss\n",
        "            val_acc.append(get_accuracy(model, train=False))  # compute validation accuracy\n",
        "            n += 1\n",
        "            mini_b += 1\n",
        "            print(\"Iteration: \",n,'Progress: % 6.2f ' % ((epoch * len(train_loader) + mini_b) / (num_epochs * len(train_loader))*100),'%', \"Time Elapsed: % 6.2f s \" % (time.time()-start_time))\n",
        "\n",
        "\n",
        "        print (\"Epoch %d Finished. \" % epoch ,\"Time per Epoch: % 6.2f s \"% ((time.time()-start_time) / (epoch +1)))\n",
        "\n",
        "\n",
        "    end_time= time.time()\n",
        "    # plotting\n",
        "    plt.title(\"Training Curve\")\n",
        "    plt.plot(iters, losses, label=\"Train\")\n",
        "    plt.xlabel(\"Iterations\")\n",
        "    plt.ylabel(\"Loss\")\n",
        "    plt.show()\n",
        "\n",
        "    plt.title(\"Training Curve\")\n",
        "    plt.plot(iters, train_acc, label=\"Training\")\n",
        "    plt.plot(iters, val_acc, label=\"Validation\")    \n",
        "    plt.xlabel(\"Iterations\")\n",
        "    plt.ylabel(\"Validation Accuracy\")\n",
        "    plt.legend(loc='best')\n",
        "    plt.show()\n",
        "\n",
        "    train_acc.append(get_accuracy(model, train=True))\n",
        "    print(\"Final Training Accuracy: {}\".format(train_acc[-1]))\n",
        "    print(\"Final Validation Accuracy: {}\".format(val_acc[-1]))\n",
        "    print (\"Total time:  % 6.2f s  Time per Epoch: % 6.2f s \" % ( (end_time-start_time), ((end_time-start_time) / num_epochs) ))\n",
        "    "
      ],
      "metadata": {
        "id": "Nm_XPXy6ZkdJ"
      },
      "execution_count": 21,
      "outputs": []
    },
    {
      "cell_type": "code",
      "source": [
        "use_cuda = True\n",
        "batch_size = 64\n",
        "#model = ANNClassifier_ALNC()\n",
        "#model = ANNClassifier_VGG()\n",
        "model = ANNClassifier_GOOGLE()\n",
        "if use_cuda and torch.cuda.is_available():\n",
        "  #ALNC.cuda()\n",
        "  #VGG.cuda()\n",
        "  #RES.cuda()\n",
        "  model.cuda()\n",
        "  Google.cuda()\n",
        "  print(torch.cuda.get_device_name(0))\n",
        "  print('CUDA is available!  Training on GPU ...')\n",
        "else:\n",
        "  print('CUDA is not available.  Training on CPU ...')\n",
        "  \n",
        "#proper model\n",
        "train(model, [],lr=0.01, batch_size=batch_size, num_epochs=10, train_loader=train_loader)"
      ],
      "metadata": {
        "colab": {
          "base_uri": "https://localhost:8080/",
          "height": 1000
        },
        "id": "CEX9DBDdbDWZ",
        "outputId": "e4632590-0d9d-424c-efd8-768c37693415"
      },
      "execution_count": 23,
      "outputs": [
        {
          "output_type": "stream",
          "name": "stdout",
          "text": [
            "Tesla T4\n",
            "CUDA is available!  Training on GPU ...\n",
            "Iteration:  1 Progress:   2.00  % Time Elapsed:   1.74 s \n",
            "Iteration:  2 Progress:   4.00  % Time Elapsed:   3.39 s \n",
            "Iteration:  3 Progress:   6.00  % Time Elapsed:   5.08 s \n",
            "Iteration:  4 Progress:   8.00  % Time Elapsed:   6.75 s \n",
            "Iteration:  5 Progress:  10.00  % Time Elapsed:   8.09 s \n",
            "Epoch 0 Finished.  Time per Epoch:   8.10 s \n",
            "Iteration:  6 Progress:  12.00  % Time Elapsed:   9.77 s \n",
            "Iteration:  7 Progress:  14.00  % Time Elapsed:  11.42 s \n",
            "Iteration:  8 Progress:  16.00  % Time Elapsed:  13.11 s \n",
            "Iteration:  9 Progress:  18.00  % Time Elapsed:  14.74 s \n",
            "Iteration:  10 Progress:  20.00  % Time Elapsed:  16.14 s \n",
            "Epoch 1 Finished.  Time per Epoch:   8.07 s \n",
            "Iteration:  11 Progress:  22.00  % Time Elapsed:  17.80 s \n",
            "Iteration:  12 Progress:  24.00  % Time Elapsed:  19.48 s \n",
            "Iteration:  13 Progress:  26.00  % Time Elapsed:  21.18 s \n",
            "Iteration:  14 Progress:  28.00  % Time Elapsed:  22.82 s \n",
            "Iteration:  15 Progress:  30.00  % Time Elapsed:  24.16 s \n",
            "Epoch 2 Finished.  Time per Epoch:   8.06 s \n",
            "Iteration:  16 Progress:  32.00  % Time Elapsed:  25.80 s \n",
            "Iteration:  17 Progress:  34.00  % Time Elapsed:  27.40 s \n",
            "Iteration:  18 Progress:  36.00  % Time Elapsed:  29.03 s \n",
            "Iteration:  19 Progress:  38.00  % Time Elapsed:  30.68 s \n",
            "Iteration:  20 Progress:  40.00  % Time Elapsed:  32.03 s \n",
            "Epoch 3 Finished.  Time per Epoch:   8.01 s \n",
            "Iteration:  21 Progress:  42.00  % Time Elapsed:  33.69 s \n",
            "Iteration:  22 Progress:  44.00  % Time Elapsed:  35.40 s \n",
            "Iteration:  23 Progress:  46.00  % Time Elapsed:  37.06 s \n",
            "Iteration:  24 Progress:  48.00  % Time Elapsed:  39.10 s \n",
            "Iteration:  25 Progress:  50.00  % Time Elapsed:  40.49 s \n",
            "Epoch 4 Finished.  Time per Epoch:   8.10 s \n",
            "Iteration:  26 Progress:  52.00  % Time Elapsed:  42.17 s \n",
            "Iteration:  27 Progress:  54.00  % Time Elapsed:  43.86 s \n",
            "Iteration:  28 Progress:  56.00  % Time Elapsed:  45.56 s \n",
            "Iteration:  29 Progress:  58.00  % Time Elapsed:  47.26 s \n",
            "Iteration:  30 Progress:  60.00  % Time Elapsed:  48.65 s \n",
            "Epoch 5 Finished.  Time per Epoch:   8.11 s \n",
            "Iteration:  31 Progress:  62.00  % Time Elapsed:  50.43 s \n",
            "Iteration:  32 Progress:  64.00  % Time Elapsed:  52.11 s \n",
            "Iteration:  33 Progress:  66.00  % Time Elapsed:  54.11 s \n",
            "Iteration:  34 Progress:  68.00  % Time Elapsed:  56.39 s \n",
            "Iteration:  35 Progress:  70.00  % Time Elapsed:  57.88 s \n",
            "Epoch 6 Finished.  Time per Epoch:   8.27 s \n",
            "Iteration:  36 Progress:  72.00  % Time Elapsed:  59.53 s \n",
            "Iteration:  37 Progress:  74.00  % Time Elapsed:  61.20 s \n",
            "Iteration:  38 Progress:  76.00  % Time Elapsed:  62.85 s \n",
            "Iteration:  39 Progress:  78.00  % Time Elapsed:  64.78 s \n",
            "Iteration:  40 Progress:  80.00  % Time Elapsed:  66.20 s \n",
            "Epoch 7 Finished.  Time per Epoch:   8.28 s \n",
            "Iteration:  41 Progress:  82.00  % Time Elapsed:  67.89 s \n",
            "Iteration:  42 Progress:  84.00  % Time Elapsed:  69.56 s \n",
            "Iteration:  43 Progress:  86.00  % Time Elapsed:  71.24 s \n",
            "Iteration:  44 Progress:  88.00  % Time Elapsed:  72.91 s \n",
            "Iteration:  45 Progress:  90.00  % Time Elapsed:  74.28 s \n",
            "Epoch 8 Finished.  Time per Epoch:   8.25 s \n",
            "Iteration:  46 Progress:  92.00  % Time Elapsed:  75.93 s \n",
            "Iteration:  47 Progress:  94.00  % Time Elapsed:  77.58 s \n",
            "Iteration:  48 Progress:  96.00  % Time Elapsed:  79.23 s \n",
            "Iteration:  49 Progress:  98.00  % Time Elapsed:  80.94 s \n",
            "Iteration:  50 Progress:  100.00  % Time Elapsed:  82.32 s \n",
            "Epoch 9 Finished.  Time per Epoch:   8.23 s \n"
          ]
        },
        {
          "output_type": "display_data",
          "data": {
            "text/plain": [
              "<Figure size 432x288 with 1 Axes>"
            ],
            "image/png": "[encoded data removed]"
          },
          "metadata": {
            "needs_background": "light"
          }
        },
        {
          "output_type": "display_data",
          "data": {
            "text/plain": [
              "<Figure size 432x288 with 1 Axes>"
            ],
            "image/png": "[encoded data removed]"
          },
          "metadata": {
            "needs_background": "light"
          }
        },
        {
          "output_type": "stream",
          "name": "stdout",
          "text": [
            "Final Training Accuracy: 0.7103448275862069\n",
            "Final Validation Accuracy: 0.5379310344827586\n",
            "Total time:   82.32 s  Time per Epoch:   8.23 s \n"
          ]
        }
      ]
    },
    {
      "cell_type": "markdown",
      "source": [
        "AlexNet:\n",
        "\n",
        "Final Training Accuracy: 0.6310344827586207\n",
        "\n",
        "Final Validation Accuracy: 0.36551724137931035\n",
        "\n",
        "Total time:   61.06 s  Time per Epoch:   6.11 s\n",
        "\n",
        "----------------\n",
        "VggNet:\n",
        "\n",
        "Final Training Accuracy: 0.7310344827586207\n",
        "\n",
        "Final Validation Accuracy: 0.3793103448275862\n",
        "\n",
        "Total time:   90.87 s  Time per Epoch:   9.09 s\n",
        "\n",
        "----------------\n",
        "ResNet 18:\n",
        "\n",
        "Final Training Accuracy: 0.7137931034482758\n",
        "\n",
        "Final Validation Accuracy: 0.4896551724137931\n",
        "\n",
        "Total time:   57.84 s  Time per Epoch:   5.78 s\n",
        "\n",
        "----------------\n",
        "ResNet 152:\n",
        "\n",
        "Final Training Accuracy: 0.7551724137931034\n",
        "\n",
        "Final Validation Accuracy: 0.5310344827586206\n",
        "\n",
        "Total time:   153.14 s  Time per Epoch:  15.31 s\n",
        "\n",
        "----------------\n",
        "\n",
        "GoogleNet:\n",
        "\n",
        "Final Training Accuracy: 0.7103448275862069\n",
        "\n",
        "Final Validation Accuracy: 0.5379310344827586\n",
        "\n",
        "Total time:   82.32 s  Time per Epoch:   8.23 s"
      ],
      "metadata": {
        "id": "oVgpNe3MhLec"
      }
    }
  ]
}